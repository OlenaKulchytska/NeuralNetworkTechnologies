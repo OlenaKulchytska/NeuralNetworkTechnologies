{
 "cells": [
  {
   "cell_type": "markdown",
   "metadata": {},
   "source": [
    "## Kulchytska Olena"
   ]
  },
  {
   "cell_type": "code",
   "execution_count": null,
   "metadata": {},
   "outputs": [],
   "source": [
    "import torch"
   ]
  },
  {
   "cell_type": "markdown",
   "metadata": {},
   "source": [
    "## 2.1 Data Manipulation"
   ]
  },
  {
   "cell_type": "code",
   "execution_count": 2,
   "metadata": {
    "scrolled": true
   },
   "outputs": [
    {
     "name": "stdout",
     "output_type": "stream",
     "text": [
      "Wall time: 0 ns\n"
     ]
    },
    {
     "data": {
      "text/plain": [
       "tensor([ 0,  1,  2,  3,  4,  5,  6,  7,  8,  9, 10, 11])"
      ]
     },
     "execution_count": 2,
     "metadata": {},
     "output_type": "execute_result"
    }
   ],
   "source": [
    "%time \n",
    "x = torch.arange(12)\n",
    "x\n"
   ]
  },
  {
   "cell_type": "code",
   "execution_count": 3,
   "metadata": {
    "scrolled": true
   },
   "outputs": [
    {
     "name": "stdout",
     "output_type": "stream",
     "text": [
      "Wall time: 0 ns\n"
     ]
    },
    {
     "data": {
      "text/plain": [
       "torch.Size([12])"
      ]
     },
     "execution_count": 3,
     "metadata": {},
     "output_type": "execute_result"
    }
   ],
   "source": [
    "%time \n",
    "x.shape\n"
   ]
  },
  {
   "cell_type": "code",
   "execution_count": 4,
   "metadata": {
    "scrolled": true
   },
   "outputs": [
    {
     "name": "stdout",
     "output_type": "stream",
     "text": [
      "Wall time: 0 ns\n"
     ]
    },
    {
     "data": {
      "text/plain": [
       "12"
      ]
     },
     "execution_count": 4,
     "metadata": {},
     "output_type": "execute_result"
    }
   ],
   "source": [
    "%time \n",
    "x.numel()\n"
   ]
  },
  {
   "cell_type": "code",
   "execution_count": 5,
   "metadata": {
    "scrolled": true
   },
   "outputs": [
    {
     "name": "stdout",
     "output_type": "stream",
     "text": [
      "Wall time: 0 ns\n"
     ]
    },
    {
     "data": {
      "text/plain": [
       "tensor([[ 0,  1,  2,  3],\n",
       "        [ 4,  5,  6,  7],\n",
       "        [ 8,  9, 10, 11]])"
      ]
     },
     "execution_count": 5,
     "metadata": {},
     "output_type": "execute_result"
    }
   ],
   "source": [
    "%time \n",
    "X = x.reshape(3, 4)\n",
    "X\n",
    " "
   ]
  },
  {
   "cell_type": "code",
   "execution_count": 6,
   "metadata": {
    "scrolled": true
   },
   "outputs": [
    {
     "name": "stdout",
     "output_type": "stream",
     "text": [
      "Wall time: 0 ns\n"
     ]
    },
    {
     "data": {
      "text/plain": [
       "tensor([[[0., 0., 0., 0.],\n",
       "         [0., 0., 0., 0.],\n",
       "         [0., 0., 0., 0.]],\n",
       "\n",
       "        [[0., 0., 0., 0.],\n",
       "         [0., 0., 0., 0.],\n",
       "         [0., 0., 0., 0.]]])"
      ]
     },
     "execution_count": 6,
     "metadata": {},
     "output_type": "execute_result"
    }
   ],
   "source": [
    "%time \n",
    "torch.zeros((2, 3, 4))\n"
   ]
  },
  {
   "cell_type": "code",
   "execution_count": 7,
   "metadata": {
    "scrolled": true
   },
   "outputs": [
    {
     "name": "stdout",
     "output_type": "stream",
     "text": [
      "Wall time: 0 ns\n"
     ]
    },
    {
     "data": {
      "text/plain": [
       "tensor([[[1., 1., 1., 1.],\n",
       "         [1., 1., 1., 1.],\n",
       "         [1., 1., 1., 1.]],\n",
       "\n",
       "        [[1., 1., 1., 1.],\n",
       "         [1., 1., 1., 1.],\n",
       "         [1., 1., 1., 1.]]])"
      ]
     },
     "execution_count": 7,
     "metadata": {},
     "output_type": "execute_result"
    }
   ],
   "source": [
    "\n",
    "%time \n",
    "torch.ones((2, 3, 4))\n"
   ]
  },
  {
   "cell_type": "code",
   "execution_count": 8,
   "metadata": {
    "scrolled": true
   },
   "outputs": [
    {
     "name": "stdout",
     "output_type": "stream",
     "text": [
      "Wall time: 0 ns\n"
     ]
    },
    {
     "data": {
      "text/plain": [
       "tensor([[-0.4306,  1.3923,  0.1757, -0.6548],\n",
       "        [-0.6253, -0.2482,  2.1502, -0.8177],\n",
       "        [-1.7642, -1.0032, -0.5160, -0.6763]])"
      ]
     },
     "execution_count": 8,
     "metadata": {},
     "output_type": "execute_result"
    }
   ],
   "source": [
    "%time \n",
    "torch.randn(3, 4)\n"
   ]
  },
  {
   "cell_type": "code",
   "execution_count": 9,
   "metadata": {
    "scrolled": true
   },
   "outputs": [
    {
     "name": "stdout",
     "output_type": "stream",
     "text": [
      "Wall time: 0 ns\n"
     ]
    },
    {
     "data": {
      "text/plain": [
       "tensor([[2, 1, 4, 3],\n",
       "        [1, 2, 3, 4],\n",
       "        [4, 3, 2, 1]])"
      ]
     },
     "execution_count": 9,
     "metadata": {},
     "output_type": "execute_result"
    }
   ],
   "source": [
    "%time \n",
    "torch.tensor([[2, 1, 4, 3], [1, 2, 3, 4], [4, 3, 2, 1]])\n"
   ]
  },
  {
   "cell_type": "code",
   "execution_count": 10,
   "metadata": {
    "scrolled": true
   },
   "outputs": [
    {
     "name": "stdout",
     "output_type": "stream",
     "text": [
      "Wall time: 0 ns\n"
     ]
    },
    {
     "data": {
      "text/plain": [
       "tensor([[2, 1, 4, 3],\n",
       "        [1, 2, 3, 4],\n",
       "        [4, 3, 2, 1]])"
      ]
     },
     "execution_count": 10,
     "metadata": {},
     "output_type": "execute_result"
    }
   ],
   "source": [
    "%time\n",
    "torch.tensor([[2, 1, 4, 3], [1, 2, 3, 4], [4, 3, 2, 1]])"
   ]
  },
  {
   "cell_type": "code",
   "execution_count": 11,
   "metadata": {
    "scrolled": true
   },
   "outputs": [
    {
     "name": "stdout",
     "output_type": "stream",
     "text": [
      "Wall time: 0 ns\n"
     ]
    },
    {
     "data": {
      "text/plain": [
       "(tensor([ 3.,  4.,  6., 10.]),\n",
       " tensor([-1.,  0.,  2.,  6.]),\n",
       " tensor([ 2.,  4.,  8., 16.]),\n",
       " tensor([0.5000, 1.0000, 2.0000, 4.0000]),\n",
       " tensor([ 1.,  4., 16., 64.]))"
      ]
     },
     "execution_count": 11,
     "metadata": {},
     "output_type": "execute_result"
    }
   ],
   "source": [
    "%time\n",
    "x = torch.tensor([1.0, 2, 4, 8])\n",
    "y = torch.tensor([2, 2, 2, 2])\n",
    "x + y, x - y, x * y, x / y, x**y  # The ** operator is exponentiation\n"
   ]
  },
  {
   "cell_type": "code",
   "execution_count": 12,
   "metadata": {
    "scrolled": true
   },
   "outputs": [
    {
     "name": "stdout",
     "output_type": "stream",
     "text": [
      "Wall time: 0 ns\n"
     ]
    },
    {
     "data": {
      "text/plain": [
       "tensor([2.7183e+00, 7.3891e+00, 5.4598e+01, 2.9810e+03])"
      ]
     },
     "execution_count": 12,
     "metadata": {},
     "output_type": "execute_result"
    }
   ],
   "source": [
    "%time\n",
    "torch.exp(x)"
   ]
  },
  {
   "cell_type": "code",
   "execution_count": 13,
   "metadata": {
    "scrolled": true
   },
   "outputs": [
    {
     "name": "stdout",
     "output_type": "stream",
     "text": [
      "Wall time: 0 ns\n"
     ]
    },
    {
     "data": {
      "text/plain": [
       "(tensor([[ 0.,  1.,  2.,  3.],\n",
       "         [ 4.,  5.,  6.,  7.],\n",
       "         [ 8.,  9., 10., 11.],\n",
       "         [ 2.,  1.,  4.,  3.],\n",
       "         [ 1.,  2.,  3.,  4.],\n",
       "         [ 4.,  3.,  2.,  1.]]),\n",
       " tensor([[ 0.,  1.,  2.,  3.,  2.,  1.,  4.,  3.],\n",
       "         [ 4.,  5.,  6.,  7.,  1.,  2.,  3.,  4.],\n",
       "         [ 8.,  9., 10., 11.,  4.,  3.,  2.,  1.]]))"
      ]
     },
     "execution_count": 13,
     "metadata": {},
     "output_type": "execute_result"
    }
   ],
   "source": [
    "%time\n",
    "X = torch.arange(12, dtype=torch.float32).reshape((3, 4))\n",
    "Y = torch.tensor([[2.0, 1, 4, 3], [1, 2, 3, 4], [4, 3, 2, 1]])\n",
    "torch.cat((X, Y), dim=0), torch.cat((X, Y), dim=1)"
   ]
  },
  {
   "cell_type": "code",
   "execution_count": 14,
   "metadata": {
    "scrolled": true
   },
   "outputs": [
    {
     "name": "stdout",
     "output_type": "stream",
     "text": [
      "Wall time: 0 ns\n"
     ]
    },
    {
     "data": {
      "text/plain": [
       "tensor([[False,  True, False,  True],\n",
       "        [False, False, False, False],\n",
       "        [False, False, False, False]])"
      ]
     },
     "execution_count": 14,
     "metadata": {},
     "output_type": "execute_result"
    }
   ],
   "source": [
    "%time\n",
    "X == Y"
   ]
  },
  {
   "cell_type": "code",
   "execution_count": 15,
   "metadata": {
    "scrolled": true
   },
   "outputs": [
    {
     "name": "stdout",
     "output_type": "stream",
     "text": [
      "Wall time: 0 ns\n"
     ]
    },
    {
     "data": {
      "text/plain": [
       "tensor(66.)"
      ]
     },
     "execution_count": 15,
     "metadata": {},
     "output_type": "execute_result"
    }
   ],
   "source": [
    "%time\n",
    "X.sum()"
   ]
  },
  {
   "cell_type": "code",
   "execution_count": 16,
   "metadata": {
    "scrolled": true
   },
   "outputs": [
    {
     "name": "stdout",
     "output_type": "stream",
     "text": [
      "Wall time: 0 ns\n"
     ]
    },
    {
     "data": {
      "text/plain": [
       "(tensor([[0],\n",
       "         [1],\n",
       "         [2]]),\n",
       " tensor([[0, 1]]))"
      ]
     },
     "execution_count": 16,
     "metadata": {},
     "output_type": "execute_result"
    }
   ],
   "source": [
    "%time\n",
    "a = torch.arange(3).reshape((3, 1))\n",
    "b = torch.arange(2).reshape((1, 2))\n",
    "a, b"
   ]
  },
  {
   "cell_type": "code",
   "execution_count": 17,
   "metadata": {
    "scrolled": true
   },
   "outputs": [
    {
     "name": "stdout",
     "output_type": "stream",
     "text": [
      "Wall time: 0 ns\n"
     ]
    },
    {
     "data": {
      "text/plain": [
       "tensor([[0, 1],\n",
       "        [1, 2],\n",
       "        [2, 3]])"
      ]
     },
     "execution_count": 17,
     "metadata": {},
     "output_type": "execute_result"
    }
   ],
   "source": [
    "%time\n",
    "a + b"
   ]
  },
  {
   "cell_type": "code",
   "execution_count": 18,
   "metadata": {
    "scrolled": true
   },
   "outputs": [
    {
     "name": "stdout",
     "output_type": "stream",
     "text": [
      "Wall time: 0 ns\n"
     ]
    },
    {
     "data": {
      "text/plain": [
       "(tensor([ 8.,  9., 10., 11.]),\n",
       " tensor([[ 4.,  5.,  6.,  7.],\n",
       "         [ 8.,  9., 10., 11.]]))"
      ]
     },
     "execution_count": 18,
     "metadata": {},
     "output_type": "execute_result"
    }
   ],
   "source": [
    "%time\n",
    "X[-1], X[1:3]"
   ]
  },
  {
   "cell_type": "code",
   "execution_count": 19,
   "metadata": {
    "scrolled": true
   },
   "outputs": [
    {
     "name": "stdout",
     "output_type": "stream",
     "text": [
      "Wall time: 0 ns\n"
     ]
    },
    {
     "data": {
      "text/plain": [
       "tensor([[ 0.,  1.,  2.,  3.],\n",
       "        [ 4.,  5.,  9.,  7.],\n",
       "        [ 8.,  9., 10., 11.]])"
      ]
     },
     "execution_count": 19,
     "metadata": {},
     "output_type": "execute_result"
    }
   ],
   "source": [
    "%time\n",
    "X[1, 2] = 9\n",
    "X"
   ]
  },
  {
   "cell_type": "code",
   "execution_count": 20,
   "metadata": {
    "scrolled": true
   },
   "outputs": [
    {
     "name": "stdout",
     "output_type": "stream",
     "text": [
      "Wall time: 0 ns\n"
     ]
    },
    {
     "data": {
      "text/plain": [
       "tensor([[12., 12., 12., 12.],\n",
       "        [12., 12., 12., 12.],\n",
       "        [ 8.,  9., 10., 11.]])"
      ]
     },
     "execution_count": 20,
     "metadata": {},
     "output_type": "execute_result"
    }
   ],
   "source": [
    "%time\n",
    "X[0:2, :] = 12\n",
    "X"
   ]
  },
  {
   "cell_type": "code",
   "execution_count": 21,
   "metadata": {
    "scrolled": true
   },
   "outputs": [
    {
     "name": "stdout",
     "output_type": "stream",
     "text": [
      "Wall time: 0 ns\n"
     ]
    },
    {
     "data": {
      "text/plain": [
       "False"
      ]
     },
     "execution_count": 21,
     "metadata": {},
     "output_type": "execute_result"
    }
   ],
   "source": [
    "%time\n",
    "before = id(Y)\n",
    "Y = Y + X\n",
    "id(Y) == before"
   ]
  },
  {
   "cell_type": "code",
   "execution_count": 22,
   "metadata": {
    "scrolled": true
   },
   "outputs": [
    {
     "name": "stdout",
     "output_type": "stream",
     "text": [
      "Wall time: 0 ns\n",
      "id(Z): 2120370257216\n",
      "id(Z): 2120370257216\n"
     ]
    }
   ],
   "source": [
    "%time\n",
    "Z = torch.zeros_like(Y)\n",
    "print('id(Z):', id(Z))\n",
    "Z[:] = X + Y\n",
    "print('id(Z):', id(Z))"
   ]
  },
  {
   "cell_type": "code",
   "execution_count": 23,
   "metadata": {
    "scrolled": true
   },
   "outputs": [
    {
     "name": "stdout",
     "output_type": "stream",
     "text": [
      "Wall time: 0 ns\n"
     ]
    },
    {
     "data": {
      "text/plain": [
       "True"
      ]
     },
     "execution_count": 23,
     "metadata": {},
     "output_type": "execute_result"
    }
   ],
   "source": [
    "%time\n",
    "before = id(X)\n",
    "X += Y\n",
    "id(X) == before"
   ]
  },
  {
   "cell_type": "code",
   "execution_count": 24,
   "metadata": {
    "scrolled": true
   },
   "outputs": [
    {
     "name": "stdout",
     "output_type": "stream",
     "text": [
      "Wall time: 0 ns\n"
     ]
    },
    {
     "data": {
      "text/plain": [
       "(numpy.ndarray, torch.Tensor)"
      ]
     },
     "execution_count": 24,
     "metadata": {},
     "output_type": "execute_result"
    }
   ],
   "source": [
    "%time\n",
    "A = X.numpy()\n",
    "B = torch.from_numpy(A)\n",
    "type(A), type(B)"
   ]
  },
  {
   "cell_type": "code",
   "execution_count": 25,
   "metadata": {
    "scrolled": true
   },
   "outputs": [
    {
     "name": "stdout",
     "output_type": "stream",
     "text": [
      "Wall time: 0 ns\n"
     ]
    },
    {
     "data": {
      "text/plain": [
       "(tensor([3.5000]), 3.5, 3.5, 3)"
      ]
     },
     "execution_count": 25,
     "metadata": {},
     "output_type": "execute_result"
    }
   ],
   "source": [
    "%time\n",
    "a = torch.tensor([3.5])\n",
    "a, a.item(), float(a), int(a)"
   ]
  },
  {
   "cell_type": "code",
   "execution_count": 26,
   "metadata": {
    "scrolled": true
   },
   "outputs": [
    {
     "name": "stdout",
     "output_type": "stream",
     "text": [
      "Wall time: 0 ns\n"
     ]
    },
    {
     "data": {
      "text/plain": [
       "(tensor([[ 0.,  1.,  2.,  3.],\n",
       "         [ 4.,  5.,  6.,  7.],\n",
       "         [ 8.,  9., 10., 11.]]),\n",
       " tensor([[2., 1., 4., 3.],\n",
       "         [1., 2., 3., 4.],\n",
       "         [4., 3., 2., 1.]]),\n",
       " tensor([[False,  True, False,  True],\n",
       "         [False, False, False, False],\n",
       "         [False, False, False, False]]),\n",
       " tensor([[ True, False,  True, False],\n",
       "         [False, False, False, False],\n",
       "         [False, False, False, False]]),\n",
       " tensor([[False, False, False, False],\n",
       "         [ True,  True,  True,  True],\n",
       "         [ True,  True,  True,  True]]))"
      ]
     },
     "execution_count": 26,
     "metadata": {},
     "output_type": "execute_result"
    }
   ],
   "source": [
    "#1.Run the code in this section. Change the conditional statement X == Y in this section to X < Y or X > Y, and then see what kind of tensor you can get.\n",
    "%time\n",
    "x = torch.arange(12, dtype=torch.float32).reshape((3,4))\n",
    "y = torch.tensor([[2.0, 1, 4, 3], [1, 2, 3, 4], [4, 3, 2, 1]])\n",
    "x,y,x == y,x < y,x > y"
   ]
  },
  {
   "cell_type": "code",
   "execution_count": 27,
   "metadata": {
    "scrolled": true
   },
   "outputs": [
    {
     "name": "stdout",
     "output_type": "stream",
     "text": [
      "Wall time: 0 ns\n",
      "tensor([[1.],\n",
      "        [2.],\n",
      "        [3.],\n",
      "        [4.],\n",
      "        [5.]]) tensor([[1, 2]])\n",
      "tensor([[2., 3.],\n",
      "        [3., 4.],\n",
      "        [4., 5.],\n",
      "        [5., 6.],\n",
      "        [6., 7.]])\n",
      "tensor([[ 0., -1.],\n",
      "        [ 1.,  0.],\n",
      "        [ 2.,  1.],\n",
      "        [ 3.,  2.],\n",
      "        [ 4.,  3.]])\n",
      "tensor([[ 1.,  2.],\n",
      "        [ 2.,  4.],\n",
      "        [ 3.,  6.],\n",
      "        [ 4.,  8.],\n",
      "        [ 5., 10.]])\n",
      "tensor([[1.0000, 0.5000],\n",
      "        [2.0000, 1.0000],\n",
      "        [3.0000, 1.5000],\n",
      "        [4.0000, 2.0000],\n",
      "        [5.0000, 2.5000]])\n",
      "tensor([[1., 0.],\n",
      "        [2., 1.],\n",
      "        [3., 1.],\n",
      "        [4., 2.],\n",
      "        [5., 2.]])\n",
      "tensor([[0., 1.],\n",
      "        [0., 0.],\n",
      "        [0., 1.],\n",
      "        [0., 0.],\n",
      "        [0., 1.]])\n",
      "tensor([[ 1.,  1.],\n",
      "        [ 2.,  4.],\n",
      "        [ 3.,  9.],\n",
      "        [ 4., 16.],\n",
      "        [ 5., 25.]])\n"
     ]
    }
   ],
   "source": [
    "#2.Replace the two tensors that operate by element in the broadcasting mechanism with other shapes, e.g., 3-dimensional tensors. Is the result the same as expected?\n",
    "%time\n",
    "a = torch.arange(1, 6, dtype =torch.float32).reshape((5, 1))\n",
    "b = torch.arange(1, 3).reshape((1, 2))\n",
    "print(a, b)\n",
    "print(a + b)\n",
    "print(a - b)\n",
    "print(a * b)\n",
    "print(a / b)\n",
    "print(a // b)\n",
    "print(a % b)\n",
    "print(a ** b)\n"
   ]
  },
  {
   "cell_type": "markdown",
   "metadata": {},
   "source": [
    "## 2.2 Data Preprocessing"
   ]
  },
  {
   "cell_type": "code",
   "execution_count": 29,
   "metadata": {
    "scrolled": true
   },
   "outputs": [
    {
     "name": "stdout",
     "output_type": "stream",
     "text": [
      "Wall time: 3.01 ms\n",
      "Wall time: 0 ns\n"
     ]
    }
   ],
   "source": [
    "import os\n",
    "\n",
    "%time os.makedirs(os.path.join('..', 'data'), exist_ok=True)\n",
    "%time data_file = os.path.join('..', 'data', 'house_tiny.csv')\n",
    "with open(data_file, 'w') as f:\n",
    "    f.write('NumRooms,Alley,Price\\n')  # Column names\n",
    "    f.write('NA,Pave,127500\\n')  # Each row represents a data example\n",
    "    f.write('2,NA,106000\\n')\n",
    "    f.write('4,NA,178100\\n')\n",
    "    f.write('NA,NA,140000\\n')"
   ]
  },
  {
   "cell_type": "code",
   "execution_count": 30,
   "metadata": {},
   "outputs": [
    {
     "name": "stdout",
     "output_type": "stream",
     "text": [
      "Wall time: 543 ms\n",
      "Wall time: 3.01 ms\n",
      "   NumRooms Alley   Price\n",
      "0       NaN  Pave  127500\n",
      "1       2.0   NaN  106000\n",
      "2       4.0   NaN  178100\n",
      "3       NaN   NaN  140000\n"
     ]
    }
   ],
   "source": [
    "%time import pandas as pd\n",
    "\n",
    "%time data = pd.read_csv(data_file)\n",
    "print(data)"
   ]
  },
  {
   "cell_type": "code",
   "execution_count": 31,
   "metadata": {},
   "outputs": [
    {
     "name": "stdout",
     "output_type": "stream",
     "text": [
      "Wall time: 999 µs\n",
      "Wall time: 7.02 ms\n",
      "   NumRooms Alley\n",
      "0       3.0  Pave\n",
      "1       2.0   NaN\n",
      "2       4.0   NaN\n",
      "3       3.0   NaN\n"
     ]
    }
   ],
   "source": [
    "%time inputs, outputs = data.iloc[:, 0:2], data.iloc[:, 2]\n",
    "%time inputs = inputs.fillna(inputs.mean())\n",
    "print(inputs)"
   ]
  },
  {
   "cell_type": "code",
   "execution_count": 32,
   "metadata": {},
   "outputs": [
    {
     "name": "stdout",
     "output_type": "stream",
     "text": [
      "Wall time: 10 ms\n",
      "   NumRooms  Alley_Pave  Alley_nan\n",
      "0       3.0           1          0\n",
      "1       2.0           0          1\n",
      "2       4.0           0          1\n",
      "3       3.0           0          1\n"
     ]
    }
   ],
   "source": [
    "%time inputs = pd.get_dummies(inputs, dummy_na=True)\n",
    "print(inputs)"
   ]
  },
  {
   "cell_type": "code",
   "execution_count": 33,
   "metadata": {},
   "outputs": [
    {
     "name": "stdout",
     "output_type": "stream",
     "text": [
      "Wall time: 0 ns\n",
      "Wall time: 1 ms\n"
     ]
    },
    {
     "data": {
      "text/plain": [
       "(tensor([[3., 1., 0.],\n",
       "         [2., 0., 1.],\n",
       "         [4., 0., 1.],\n",
       "         [3., 0., 1.]], dtype=torch.float64),\n",
       " tensor([127500, 106000, 178100, 140000]))"
      ]
     },
     "execution_count": 33,
     "metadata": {},
     "output_type": "execute_result"
    }
   ],
   "source": [
    "%time import torch\n",
    "\n",
    "%time X, y = torch.tensor(inputs.values), torch.tensor(outputs.values)\n",
    "X, y"
   ]
  },
  {
   "cell_type": "code",
   "execution_count": 34,
   "metadata": {},
   "outputs": [
    {
     "name": "stdout",
     "output_type": "stream",
     "text": [
      "Wall time: 0 ns\n",
      "   NumRooms   Price\n",
      "0       NaN  127500\n",
      "1       2.0  106000\n",
      "2       4.0  178100\n",
      "3       NaN  140000\n"
     ]
    }
   ],
   "source": [
    "#1.Delete the column with the most missing values\n",
    "%time import pandas as pd\n",
    "data = pd.read_csv(data_file)\n",
    "data = data.dropna(axis=1, how=any, thresh= len(data) -max(data.isnull().sum(axis=0))+1)\n",
    "print(data)"
   ]
  },
  {
   "cell_type": "code",
   "execution_count": 36,
   "metadata": {},
   "outputs": [
    {
     "name": "stdout",
     "output_type": "stream",
     "text": [
      "Wall time: 0 ns\n",
      "Wall time: 1 ms\n",
      "Wall time: 0 ns\n"
     ]
    },
    {
     "data": {
      "text/plain": [
       "(tensor([[3.],\n",
       "         [2.],\n",
       "         [4.],\n",
       "         [3.]], dtype=torch.float64),\n",
       " tensor([127500, 106000, 178100, 140000]))"
      ]
     },
     "execution_count": 36,
     "metadata": {},
     "output_type": "execute_result"
    }
   ],
   "source": [
    "#2.Convert the preprocessed dataset to the tensor format.\n",
    "%time inputs1, outputs1 = data.iloc[:, 0:-1], data.iloc[:, -1]\n",
    "%time inputs1 = inputs1.fillna(inputs.mean())\n",
    "%time X, y = torch.tensor(inputs1.values), torch.tensor(outputs1.values)\n",
    "X, y"
   ]
  },
  {
   "cell_type": "markdown",
   "metadata": {},
   "source": [
    "## 2.3 Linear Algebra"
   ]
  },
  {
   "cell_type": "code",
   "execution_count": 37,
   "metadata": {},
   "outputs": [
    {
     "name": "stdout",
     "output_type": "stream",
     "text": [
      "Wall time: 0 ns\n",
      "Wall time: 0 ns\n",
      "Wall time: 0 ns\n"
     ]
    },
    {
     "data": {
      "text/plain": [
       "(tensor(5.), tensor(6.), tensor(1.5000), tensor(9.))"
      ]
     },
     "execution_count": 37,
     "metadata": {},
     "output_type": "execute_result"
    }
   ],
   "source": [
    "%time import torch\n",
    "\n",
    "%time x = torch.tensor(3.0)\n",
    "%time y = torch.tensor(2.0)\n",
    "\n",
    "x + y, x * y, x / y, x**y"
   ]
  },
  {
   "cell_type": "code",
   "execution_count": 38,
   "metadata": {},
   "outputs": [
    {
     "name": "stdout",
     "output_type": "stream",
     "text": [
      "Wall time: 0 ns\n"
     ]
    },
    {
     "data": {
      "text/plain": [
       "tensor([0, 1, 2, 3])"
      ]
     },
     "execution_count": 38,
     "metadata": {},
     "output_type": "execute_result"
    }
   ],
   "source": [
    "%time x = torch.arange(4)\n",
    "x"
   ]
  },
  {
   "cell_type": "code",
   "execution_count": 39,
   "metadata": {},
   "outputs": [
    {
     "name": "stdout",
     "output_type": "stream",
     "text": [
      "Wall time: 0 ns\n"
     ]
    },
    {
     "data": {
      "text/plain": [
       "tensor(3)"
      ]
     },
     "execution_count": 39,
     "metadata": {},
     "output_type": "execute_result"
    }
   ],
   "source": [
    "%time x[3]"
   ]
  },
  {
   "cell_type": "code",
   "execution_count": 40,
   "metadata": {},
   "outputs": [
    {
     "name": "stdout",
     "output_type": "stream",
     "text": [
      "Wall time: 0 ns\n"
     ]
    },
    {
     "data": {
      "text/plain": [
       "4"
      ]
     },
     "execution_count": 40,
     "metadata": {},
     "output_type": "execute_result"
    }
   ],
   "source": [
    "%time len(x)"
   ]
  },
  {
   "cell_type": "code",
   "execution_count": 41,
   "metadata": {},
   "outputs": [
    {
     "name": "stdout",
     "output_type": "stream",
     "text": [
      "Wall time: 0 ns\n"
     ]
    },
    {
     "data": {
      "text/plain": [
       "torch.Size([4])"
      ]
     },
     "execution_count": 41,
     "metadata": {},
     "output_type": "execute_result"
    }
   ],
   "source": [
    "%time x.shape"
   ]
  },
  {
   "cell_type": "code",
   "execution_count": 42,
   "metadata": {},
   "outputs": [
    {
     "name": "stdout",
     "output_type": "stream",
     "text": [
      "Wall time: 0 ns\n"
     ]
    },
    {
     "data": {
      "text/plain": [
       "tensor([[ 0,  1,  2,  3],\n",
       "        [ 4,  5,  6,  7],\n",
       "        [ 8,  9, 10, 11],\n",
       "        [12, 13, 14, 15],\n",
       "        [16, 17, 18, 19]])"
      ]
     },
     "execution_count": 42,
     "metadata": {},
     "output_type": "execute_result"
    }
   ],
   "source": [
    "%time A = torch.arange(20).reshape(5, 4)\n",
    "A"
   ]
  },
  {
   "cell_type": "code",
   "execution_count": 43,
   "metadata": {},
   "outputs": [
    {
     "name": "stdout",
     "output_type": "stream",
     "text": [
      "Wall time: 0 ns\n"
     ]
    },
    {
     "data": {
      "text/plain": [
       "tensor([[ 0,  4,  8, 12, 16],\n",
       "        [ 1,  5,  9, 13, 17],\n",
       "        [ 2,  6, 10, 14, 18],\n",
       "        [ 3,  7, 11, 15, 19]])"
      ]
     },
     "execution_count": 43,
     "metadata": {},
     "output_type": "execute_result"
    }
   ],
   "source": [
    "%time A.T"
   ]
  },
  {
   "cell_type": "code",
   "execution_count": 44,
   "metadata": {},
   "outputs": [
    {
     "name": "stdout",
     "output_type": "stream",
     "text": [
      "Wall time: 0 ns\n"
     ]
    },
    {
     "data": {
      "text/plain": [
       "tensor([[1, 2, 3],\n",
       "        [2, 0, 4],\n",
       "        [3, 4, 5]])"
      ]
     },
     "execution_count": 44,
     "metadata": {},
     "output_type": "execute_result"
    }
   ],
   "source": [
    "%time B = torch.tensor([[1, 2, 3], [2, 0, 4], [3, 4, 5]])\n",
    "B"
   ]
  },
  {
   "cell_type": "code",
   "execution_count": 45,
   "metadata": {},
   "outputs": [
    {
     "name": "stdout",
     "output_type": "stream",
     "text": [
      "Wall time: 0 ns\n"
     ]
    },
    {
     "data": {
      "text/plain": [
       "tensor([[True, True, True],\n",
       "        [True, True, True],\n",
       "        [True, True, True]])"
      ]
     },
     "execution_count": 45,
     "metadata": {},
     "output_type": "execute_result"
    }
   ],
   "source": [
    "%time B == B.T"
   ]
  },
  {
   "cell_type": "code",
   "execution_count": 46,
   "metadata": {},
   "outputs": [
    {
     "name": "stdout",
     "output_type": "stream",
     "text": [
      "Wall time: 960 µs\n"
     ]
    },
    {
     "data": {
      "text/plain": [
       "tensor([[[ 0,  1,  2,  3],\n",
       "         [ 4,  5,  6,  7],\n",
       "         [ 8,  9, 10, 11]],\n",
       "\n",
       "        [[12, 13, 14, 15],\n",
       "         [16, 17, 18, 19],\n",
       "         [20, 21, 22, 23]]])"
      ]
     },
     "execution_count": 46,
     "metadata": {},
     "output_type": "execute_result"
    }
   ],
   "source": [
    "%time X = torch.arange(24).reshape(2, 3, 4)\n",
    "X"
   ]
  },
  {
   "cell_type": "code",
   "execution_count": 47,
   "metadata": {},
   "outputs": [
    {
     "name": "stdout",
     "output_type": "stream",
     "text": [
      "Wall time: 0 ns\n",
      "Wall time: 0 ns\n"
     ]
    },
    {
     "data": {
      "text/plain": [
       "(tensor([[ 0.,  1.,  2.,  3.],\n",
       "         [ 4.,  5.,  6.,  7.],\n",
       "         [ 8.,  9., 10., 11.],\n",
       "         [12., 13., 14., 15.],\n",
       "         [16., 17., 18., 19.]]),\n",
       " tensor([[ 0.,  2.,  4.,  6.],\n",
       "         [ 8., 10., 12., 14.],\n",
       "         [16., 18., 20., 22.],\n",
       "         [24., 26., 28., 30.],\n",
       "         [32., 34., 36., 38.]]))"
      ]
     },
     "execution_count": 47,
     "metadata": {},
     "output_type": "execute_result"
    }
   ],
   "source": [
    "%time A = torch.arange(20, dtype=torch.float32).reshape(5, 4)\n",
    "%time B = A.clone()  # Assign a copy of `A` to `B` by allocating new memory\n",
    "A, A + B"
   ]
  },
  {
   "cell_type": "code",
   "execution_count": 48,
   "metadata": {},
   "outputs": [
    {
     "name": "stdout",
     "output_type": "stream",
     "text": [
      "Wall time: 0 ns\n"
     ]
    },
    {
     "data": {
      "text/plain": [
       "tensor([[  0.,   1.,   4.,   9.],\n",
       "        [ 16.,  25.,  36.,  49.],\n",
       "        [ 64.,  81., 100., 121.],\n",
       "        [144., 169., 196., 225.],\n",
       "        [256., 289., 324., 361.]])"
      ]
     },
     "execution_count": 48,
     "metadata": {},
     "output_type": "execute_result"
    }
   ],
   "source": [
    "%time A * B"
   ]
  },
  {
   "cell_type": "code",
   "execution_count": 49,
   "metadata": {},
   "outputs": [
    {
     "name": "stdout",
     "output_type": "stream",
     "text": [
      "Wall time: 0 ns\n",
      "Wall time: 0 ns\n"
     ]
    },
    {
     "data": {
      "text/plain": [
       "(tensor([[[ 2,  3,  4,  5],\n",
       "          [ 6,  7,  8,  9],\n",
       "          [10, 11, 12, 13]],\n",
       " \n",
       "         [[14, 15, 16, 17],\n",
       "          [18, 19, 20, 21],\n",
       "          [22, 23, 24, 25]]]),\n",
       " torch.Size([2, 3, 4]))"
      ]
     },
     "execution_count": 49,
     "metadata": {},
     "output_type": "execute_result"
    }
   ],
   "source": [
    "%time a = 2\n",
    "%time X = torch.arange(24).reshape(2, 3, 4)\n",
    "a + X, (a * X).shape"
   ]
  },
  {
   "cell_type": "code",
   "execution_count": 50,
   "metadata": {},
   "outputs": [
    {
     "name": "stdout",
     "output_type": "stream",
     "text": [
      "Wall time: 0 ns\n"
     ]
    },
    {
     "data": {
      "text/plain": [
       "(tensor([0., 1., 2., 3.]), tensor(6.))"
      ]
     },
     "execution_count": 50,
     "metadata": {},
     "output_type": "execute_result"
    }
   ],
   "source": [
    "%time x = torch.arange(4, dtype=torch.float32)\n",
    "x, x.sum()"
   ]
  },
  {
   "cell_type": "code",
   "execution_count": 51,
   "metadata": {},
   "outputs": [
    {
     "name": "stdout",
     "output_type": "stream",
     "text": [
      "Wall time: 0 ns\n"
     ]
    },
    {
     "data": {
      "text/plain": [
       "(torch.Size([5, 4]), tensor(190.))"
      ]
     },
     "execution_count": 51,
     "metadata": {},
     "output_type": "execute_result"
    }
   ],
   "source": [
    "%time A.shape, A.sum()"
   ]
  },
  {
   "cell_type": "code",
   "execution_count": 52,
   "metadata": {},
   "outputs": [
    {
     "name": "stdout",
     "output_type": "stream",
     "text": [
      "Wall time: 0 ns\n"
     ]
    },
    {
     "data": {
      "text/plain": [
       "(tensor([40., 45., 50., 55.]), torch.Size([4]))"
      ]
     },
     "execution_count": 52,
     "metadata": {},
     "output_type": "execute_result"
    }
   ],
   "source": [
    "%time A_sum_axis0 = A.sum(axis=0)\n",
    "A_sum_axis0, A_sum_axis0.shape"
   ]
  },
  {
   "cell_type": "code",
   "execution_count": 53,
   "metadata": {},
   "outputs": [
    {
     "name": "stdout",
     "output_type": "stream",
     "text": [
      "Wall time: 0 ns\n"
     ]
    },
    {
     "data": {
      "text/plain": [
       "(tensor([ 6., 22., 38., 54., 70.]), torch.Size([5]))"
      ]
     },
     "execution_count": 53,
     "metadata": {},
     "output_type": "execute_result"
    }
   ],
   "source": [
    "%time A_sum_axis1 = A.sum(axis=1)\n",
    "A_sum_axis1, A_sum_axis1.shape"
   ]
  },
  {
   "cell_type": "code",
   "execution_count": 54,
   "metadata": {},
   "outputs": [
    {
     "name": "stdout",
     "output_type": "stream",
     "text": [
      "Wall time: 0 ns\n"
     ]
    },
    {
     "data": {
      "text/plain": [
       "tensor(190.)"
      ]
     },
     "execution_count": 54,
     "metadata": {},
     "output_type": "execute_result"
    }
   ],
   "source": [
    "%time A.sum(axis=[0, 1])  # Same as `A.sum()`"
   ]
  },
  {
   "cell_type": "code",
   "execution_count": 55,
   "metadata": {},
   "outputs": [
    {
     "name": "stdout",
     "output_type": "stream",
     "text": [
      "Wall time: 998 µs\n"
     ]
    },
    {
     "data": {
      "text/plain": [
       "(tensor(9.5000), tensor(9.5000))"
      ]
     },
     "execution_count": 55,
     "metadata": {},
     "output_type": "execute_result"
    }
   ],
   "source": [
    "%time A.mean(), A.sum() / A.numel()"
   ]
  },
  {
   "cell_type": "code",
   "execution_count": 56,
   "metadata": {},
   "outputs": [
    {
     "name": "stdout",
     "output_type": "stream",
     "text": [
      "Wall time: 0 ns\n"
     ]
    },
    {
     "data": {
      "text/plain": [
       "(tensor([ 8.,  9., 10., 11.]), tensor([ 8.,  9., 10., 11.]))"
      ]
     },
     "execution_count": 56,
     "metadata": {},
     "output_type": "execute_result"
    }
   ],
   "source": [
    "%time A.mean(axis=0), A.sum(axis=0) / A.shape[0]"
   ]
  },
  {
   "cell_type": "code",
   "execution_count": 57,
   "metadata": {},
   "outputs": [
    {
     "name": "stdout",
     "output_type": "stream",
     "text": [
      "Wall time: 1.02 ms\n"
     ]
    },
    {
     "data": {
      "text/plain": [
       "tensor([[ 6.],\n",
       "        [22.],\n",
       "        [38.],\n",
       "        [54.],\n",
       "        [70.]])"
      ]
     },
     "execution_count": 57,
     "metadata": {},
     "output_type": "execute_result"
    }
   ],
   "source": [
    "%time sum_A = A.sum(axis=1, keepdims=True)\n",
    "sum_A"
   ]
  },
  {
   "cell_type": "code",
   "execution_count": 58,
   "metadata": {},
   "outputs": [
    {
     "name": "stdout",
     "output_type": "stream",
     "text": [
      "Wall time: 0 ns\n"
     ]
    },
    {
     "data": {
      "text/plain": [
       "tensor([[0.0000, 0.1667, 0.3333, 0.5000],\n",
       "        [0.1818, 0.2273, 0.2727, 0.3182],\n",
       "        [0.2105, 0.2368, 0.2632, 0.2895],\n",
       "        [0.2222, 0.2407, 0.2593, 0.2778],\n",
       "        [0.2286, 0.2429, 0.2571, 0.2714]])"
      ]
     },
     "execution_count": 58,
     "metadata": {},
     "output_type": "execute_result"
    }
   ],
   "source": [
    "%time A / sum_A"
   ]
  },
  {
   "cell_type": "code",
   "execution_count": 59,
   "metadata": {},
   "outputs": [
    {
     "name": "stdout",
     "output_type": "stream",
     "text": [
      "Wall time: 0 ns\n"
     ]
    },
    {
     "data": {
      "text/plain": [
       "tensor([[ 0.,  1.,  2.,  3.],\n",
       "        [ 4.,  6.,  8., 10.],\n",
       "        [12., 15., 18., 21.],\n",
       "        [24., 28., 32., 36.],\n",
       "        [40., 45., 50., 55.]])"
      ]
     },
     "execution_count": 59,
     "metadata": {},
     "output_type": "execute_result"
    }
   ],
   "source": [
    "%time A.cumsum(axis=0)"
   ]
  },
  {
   "cell_type": "code",
   "execution_count": 60,
   "metadata": {},
   "outputs": [
    {
     "name": "stdout",
     "output_type": "stream",
     "text": [
      "Wall time: 0 ns\n"
     ]
    },
    {
     "data": {
      "text/plain": [
       "(tensor([0., 1., 2., 3.]), tensor([1., 1., 1., 1.]), tensor(6.))"
      ]
     },
     "execution_count": 60,
     "metadata": {},
     "output_type": "execute_result"
    }
   ],
   "source": [
    "%time y = torch.ones(4, dtype=torch.float32)\n",
    "x, y, torch.dot(x, y)"
   ]
  },
  {
   "cell_type": "code",
   "execution_count": 61,
   "metadata": {},
   "outputs": [
    {
     "name": "stdout",
     "output_type": "stream",
     "text": [
      "Wall time: 0 ns\n"
     ]
    },
    {
     "data": {
      "text/plain": [
       "tensor(6.)"
      ]
     },
     "execution_count": 61,
     "metadata": {},
     "output_type": "execute_result"
    }
   ],
   "source": [
    "%time torch.sum(x * y)"
   ]
  },
  {
   "cell_type": "code",
   "execution_count": 62,
   "metadata": {},
   "outputs": [
    {
     "name": "stdout",
     "output_type": "stream",
     "text": [
      "Wall time: 0 ns\n"
     ]
    },
    {
     "data": {
      "text/plain": [
       "(torch.Size([5, 4]), torch.Size([4]), tensor([ 14.,  38.,  62.,  86., 110.]))"
      ]
     },
     "execution_count": 62,
     "metadata": {},
     "output_type": "execute_result"
    }
   ],
   "source": [
    "%time A.shape, x.shape, torch.mv(A, x)"
   ]
  },
  {
   "cell_type": "code",
   "execution_count": 63,
   "metadata": {},
   "outputs": [
    {
     "name": "stdout",
     "output_type": "stream",
     "text": [
      "Wall time: 0 ns\n"
     ]
    },
    {
     "data": {
      "text/plain": [
       "tensor([[ 6.,  6.,  6.],\n",
       "        [22., 22., 22.],\n",
       "        [38., 38., 38.],\n",
       "        [54., 54., 54.],\n",
       "        [70., 70., 70.]])"
      ]
     },
     "execution_count": 63,
     "metadata": {},
     "output_type": "execute_result"
    }
   ],
   "source": [
    "%time B = torch.ones(4, 3)\n",
    "torch.mm(A, B)"
   ]
  },
  {
   "cell_type": "code",
   "execution_count": 64,
   "metadata": {},
   "outputs": [
    {
     "name": "stdout",
     "output_type": "stream",
     "text": [
      "Wall time: 1 ms\n"
     ]
    },
    {
     "data": {
      "text/plain": [
       "tensor(5.)"
      ]
     },
     "execution_count": 64,
     "metadata": {},
     "output_type": "execute_result"
    }
   ],
   "source": [
    "%time u = torch.tensor([3.0, -4.0])\n",
    "torch.norm(u)"
   ]
  },
  {
   "cell_type": "code",
   "execution_count": 65,
   "metadata": {},
   "outputs": [
    {
     "name": "stdout",
     "output_type": "stream",
     "text": [
      "Wall time: 1 ms\n"
     ]
    },
    {
     "data": {
      "text/plain": [
       "tensor(7.)"
      ]
     },
     "execution_count": 65,
     "metadata": {},
     "output_type": "execute_result"
    }
   ],
   "source": [
    "%time torch.abs(u).sum()"
   ]
  },
  {
   "cell_type": "code",
   "execution_count": 66,
   "metadata": {},
   "outputs": [
    {
     "name": "stdout",
     "output_type": "stream",
     "text": [
      "Wall time: 0 ns\n"
     ]
    },
    {
     "data": {
      "text/plain": [
       "tensor(6.)"
      ]
     },
     "execution_count": 66,
     "metadata": {},
     "output_type": "execute_result"
    }
   ],
   "source": [
    "%time torch.norm(torch.ones((4, 9)))"
   ]
  },
  {
   "cell_type": "markdown",
   "metadata": {},
   "source": [
    "## 2.4 Calculus"
   ]
  },
  {
   "cell_type": "code",
   "execution_count": 67,
   "metadata": {},
   "outputs": [
    {
     "name": "stderr",
     "output_type": "stream",
     "text": [
      "C:\\Anaconda\\lib\\site-packages\\torch\\cuda\\__init__.py:52: UserWarning: CUDA initialization: Found no NVIDIA driver on your system. Please check that you have an NVIDIA GPU and installed a driver from http://www.nvidia.com/Download/index.aspx (Triggered internally at  ..\\c10\\cuda\\CUDAFunctions.cpp:100.)\n",
      "  return torch._C._cuda_getDeviceCount() > 0\n"
     ]
    }
   ],
   "source": [
    "%matplotlib inline\n",
    "import numpy as np\n",
    "from IPython import display\n",
    "from d2l import torch as d2l\n",
    "\n",
    "\n",
    "def f(x):\n",
    "    return 3 * x ** 2 - 4 * x"
   ]
  },
  {
   "cell_type": "code",
   "execution_count": 68,
   "metadata": {},
   "outputs": [
    {
     "name": "stdout",
     "output_type": "stream",
     "text": [
      "Wall time: 0 ns\n",
      "Wall time: 0 ns\n",
      "h=0.10000, numerical limit=2.30000\n",
      "h=0.01000, numerical limit=2.03000\n",
      "h=0.00100, numerical limit=2.00300\n",
      "h=0.00010, numerical limit=2.00030\n",
      "h=0.00001, numerical limit=2.00003\n"
     ]
    }
   ],
   "source": [
    "%time \n",
    "def numerical_lim(f, x, h):\n",
    "    return (f(x + h) - f(x)) / h\n",
    "%time \n",
    "h = 0.1\n",
    "for i in range(5):\n",
    "    print(f'h={h:.5f}, numerical limit={numerical_lim(f, 1, h):.5f}')\n",
    "    h *= 0.1"
   ]
  },
  {
   "cell_type": "code",
   "execution_count": 69,
   "metadata": {},
   "outputs": [
    {
     "name": "stdout",
     "output_type": "stream",
     "text": [
      "Wall time: 0 ns\n"
     ]
    }
   ],
   "source": [
    "%time \n",
    "def use_svg_display():  #@save\n",
    "    \"\"\"Use the svg format to display a plot in Jupyter.\"\"\"\n",
    "    display.set_matplotlib_formats('svg')"
   ]
  },
  {
   "cell_type": "code",
   "execution_count": 70,
   "metadata": {},
   "outputs": [
    {
     "name": "stdout",
     "output_type": "stream",
     "text": [
      "Wall time: 0 ns\n"
     ]
    }
   ],
   "source": [
    "%time \n",
    "def set_figsize(figsize=(3.5, 2.5)):  #@save\n",
    "    \"\"\"Set the figure size for matplotlib.\"\"\"\n",
    "    use_svg_display()\n",
    "    d2l.plt.rcParams['figure.figsize'] = figsize"
   ]
  },
  {
   "cell_type": "code",
   "execution_count": 71,
   "metadata": {},
   "outputs": [
    {
     "name": "stdout",
     "output_type": "stream",
     "text": [
      "Wall time: 0 ns\n"
     ]
    }
   ],
   "source": [
    "#@save\n",
    "%time \n",
    "def set_axes(axes, xlabel, ylabel, xlim, ylim, xscale, yscale, legend):\n",
    "    \"\"\"Set the axes for matplotlib.\"\"\"\n",
    "    axes.set_xlabel(xlabel)\n",
    "    axes.set_ylabel(ylabel)\n",
    "    axes.set_xscale(xscale)\n",
    "    axes.set_yscale(yscale)\n",
    "    axes.set_xlim(xlim)\n",
    "    axes.set_ylim(ylim)\n",
    "    if legend:\n",
    "        axes.legend(legend)\n",
    "    axes.grid()"
   ]
  },
  {
   "cell_type": "code",
   "execution_count": 72,
   "metadata": {},
   "outputs": [
    {
     "name": "stdout",
     "output_type": "stream",
     "text": [
      "Wall time: 0 ns\n"
     ]
    }
   ],
   "source": [
    "#@save\n",
    "%time \n",
    "def plot(X, Y=None, xlabel=None, ylabel=None, legend=None, xlim=None,\n",
    "         ylim=None, xscale='linear', yscale='linear',\n",
    "         fmts=('-', 'm--', 'g-.', 'r:'), figsize=(3.5, 2.5), axes=None):\n",
    "    \"\"\"Plot data points.\"\"\"\n",
    "    if legend is None:\n",
    "        legend = []\n",
    "\n",
    "    set_figsize(figsize)\n",
    "    axes = axes if axes else d2l.plt.gca()\n",
    "\n",
    "    # Return True if `X` (tensor or list) has 1 axis\n",
    "    def has_one_axis(X):\n",
    "        return (hasattr(X, \"ndim\") and X.ndim == 1 or\n",
    "                isinstance(X, list) and not hasattr(X[0], \"__len__\"))\n",
    "\n",
    "    if has_one_axis(X):\n",
    "        X = [X]\n",
    "    if Y is None:\n",
    "        X, Y = [[]] * len(X), X\n",
    "    elif has_one_axis(Y):\n",
    "        Y = [Y]\n",
    "    if len(X) != len(Y):\n",
    "        X = X * len(Y)\n",
    "    axes.cla()\n",
    "    for x, y, fmt in zip(X, Y, fmts):\n",
    "        if len(x):\n",
    "            axes.plot(x, y, fmt)\n",
    "        else:\n",
    "            axes.plot(y, fmt)\n",
    "    set_axes(axes, xlabel, ylabel, xlim, ylim, xscale, yscale, legend)"
   ]
  },
  {
   "cell_type": "code",
   "execution_count": 73,
   "metadata": {},
   "outputs": [
    {
     "name": "stdout",
     "output_type": "stream",
     "text": [
      "Wall time: 0 ns\n",
      "Wall time: 52.1 ms\n"
     ]
    },
    {
     "data": {
      "image/svg+xml": [
       "<?xml version=\"1.0\" encoding=\"utf-8\" standalone=\"no\"?>\r\n",
       "<!DOCTYPE svg PUBLIC \"-//W3C//DTD SVG 1.1//EN\"\r\n",
       "  \"http://www.w3.org/Graphics/SVG/1.1/DTD/svg11.dtd\">\r\n",
       "<!-- Created with matplotlib (https://matplotlib.org/) -->\r\n",
       "<svg height=\"180.65625pt\" version=\"1.1\" viewBox=\"0 0 243.529359 180.65625\" width=\"243.529359pt\" xmlns=\"http://www.w3.org/2000/svg\" xmlns:xlink=\"http://www.w3.org/1999/xlink\">\r\n",
       " <defs>\r\n",
       "  <style type=\"text/css\">\r\n",
       "*{stroke-linecap:butt;stroke-linejoin:round;}\r\n",
       "  </style>\r\n",
       " </defs>\r\n",
       " <g id=\"figure_1\">\r\n",
       "  <g id=\"patch_1\">\r\n",
       "   <path d=\"M 0 180.65625 \r\n",
       "L 243.529359 180.65625 \r\n",
       "L 243.529359 0 \r\n",
       "L 0 0 \r\n",
       "z\r\n",
       "\" style=\"fill:none;\"/>\r\n",
       "  </g>\r\n",
       "  <g id=\"axes_1\">\r\n",
       "   <g id=\"patch_2\">\r\n",
       "    <path d=\"M 40.603125 143.1 \r\n",
       "L 235.903125 143.1 \r\n",
       "L 235.903125 7.2 \r\n",
       "L 40.603125 7.2 \r\n",
       "z\r\n",
       "\" style=\"fill:#ffffff;\"/>\r\n",
       "   </g>\r\n",
       "   <g id=\"matplotlib.axis_1\">\r\n",
       "    <g id=\"xtick_1\">\r\n",
       "     <g id=\"line2d_1\">\r\n",
       "      <path clip-path=\"url(#pe607bd12eb)\" d=\"M 49.480398 143.1 \r\n",
       "L 49.480398 7.2 \r\n",
       "\" style=\"fill:none;stroke:#b0b0b0;stroke-linecap:square;stroke-width:0.8;\"/>\r\n",
       "     </g>\r\n",
       "     <g id=\"line2d_2\">\r\n",
       "      <defs>\r\n",
       "       <path d=\"M 0 0 \r\n",
       "L 0 3.5 \r\n",
       "\" id=\"m8f854724de\" style=\"stroke:#000000;stroke-width:0.8;\"/>\r\n",
       "      </defs>\r\n",
       "      <g>\r\n",
       "       <use style=\"stroke:#000000;stroke-width:0.8;\" x=\"49.480398\" xlink:href=\"#m8f854724de\" y=\"143.1\"/>\r\n",
       "      </g>\r\n",
       "     </g>\r\n",
       "     <g id=\"text_1\">\r\n",
       "      <!-- 0 -->\r\n",
       "      <defs>\r\n",
       "       <path d=\"M 31.78125 66.40625 \r\n",
       "Q 24.171875 66.40625 20.328125 58.90625 \r\n",
       "Q 16.5 51.421875 16.5 36.375 \r\n",
       "Q 16.5 21.390625 20.328125 13.890625 \r\n",
       "Q 24.171875 6.390625 31.78125 6.390625 \r\n",
       "Q 39.453125 6.390625 43.28125 13.890625 \r\n",
       "Q 47.125 21.390625 47.125 36.375 \r\n",
       "Q 47.125 51.421875 43.28125 58.90625 \r\n",
       "Q 39.453125 66.40625 31.78125 66.40625 \r\n",
       "z\r\n",
       "M 31.78125 74.21875 \r\n",
       "Q 44.046875 74.21875 50.515625 64.515625 \r\n",
       "Q 56.984375 54.828125 56.984375 36.375 \r\n",
       "Q 56.984375 17.96875 50.515625 8.265625 \r\n",
       "Q 44.046875 -1.421875 31.78125 -1.421875 \r\n",
       "Q 19.53125 -1.421875 13.0625 8.265625 \r\n",
       "Q 6.59375 17.96875 6.59375 36.375 \r\n",
       "Q 6.59375 54.828125 13.0625 64.515625 \r\n",
       "Q 19.53125 74.21875 31.78125 74.21875 \r\n",
       "z\r\n",
       "\" id=\"DejaVuSans-48\"/>\r\n",
       "      </defs>\r\n",
       "      <g transform=\"translate(46.299148 157.698438)scale(0.1 -0.1)\">\r\n",
       "       <use xlink:href=\"#DejaVuSans-48\"/>\r\n",
       "      </g>\r\n",
       "     </g>\r\n",
       "    </g>\r\n",
       "    <g id=\"xtick_2\">\r\n",
       "     <g id=\"line2d_3\">\r\n",
       "      <path clip-path=\"url(#pe607bd12eb)\" d=\"M 110.702968 143.1 \r\n",
       "L 110.702968 7.2 \r\n",
       "\" style=\"fill:none;stroke:#b0b0b0;stroke-linecap:square;stroke-width:0.8;\"/>\r\n",
       "     </g>\r\n",
       "     <g id=\"line2d_4\">\r\n",
       "      <g>\r\n",
       "       <use style=\"stroke:#000000;stroke-width:0.8;\" x=\"110.702968\" xlink:href=\"#m8f854724de\" y=\"143.1\"/>\r\n",
       "      </g>\r\n",
       "     </g>\r\n",
       "     <g id=\"text_2\">\r\n",
       "      <!-- 1 -->\r\n",
       "      <defs>\r\n",
       "       <path d=\"M 12.40625 8.296875 \r\n",
       "L 28.515625 8.296875 \r\n",
       "L 28.515625 63.921875 \r\n",
       "L 10.984375 60.40625 \r\n",
       "L 10.984375 69.390625 \r\n",
       "L 28.421875 72.90625 \r\n",
       "L 38.28125 72.90625 \r\n",
       "L 38.28125 8.296875 \r\n",
       "L 54.390625 8.296875 \r\n",
       "L 54.390625 0 \r\n",
       "L 12.40625 0 \r\n",
       "z\r\n",
       "\" id=\"DejaVuSans-49\"/>\r\n",
       "      </defs>\r\n",
       "      <g transform=\"translate(107.521718 157.698438)scale(0.1 -0.1)\">\r\n",
       "       <use xlink:href=\"#DejaVuSans-49\"/>\r\n",
       "      </g>\r\n",
       "     </g>\r\n",
       "    </g>\r\n",
       "    <g id=\"xtick_3\">\r\n",
       "     <g id=\"line2d_5\">\r\n",
       "      <path clip-path=\"url(#pe607bd12eb)\" d=\"M 171.925539 143.1 \r\n",
       "L 171.925539 7.2 \r\n",
       "\" style=\"fill:none;stroke:#b0b0b0;stroke-linecap:square;stroke-width:0.8;\"/>\r\n",
       "     </g>\r\n",
       "     <g id=\"line2d_6\">\r\n",
       "      <g>\r\n",
       "       <use style=\"stroke:#000000;stroke-width:0.8;\" x=\"171.925539\" xlink:href=\"#m8f854724de\" y=\"143.1\"/>\r\n",
       "      </g>\r\n",
       "     </g>\r\n",
       "     <g id=\"text_3\">\r\n",
       "      <!-- 2 -->\r\n",
       "      <defs>\r\n",
       "       <path d=\"M 19.1875 8.296875 \r\n",
       "L 53.609375 8.296875 \r\n",
       "L 53.609375 0 \r\n",
       "L 7.328125 0 \r\n",
       "L 7.328125 8.296875 \r\n",
       "Q 12.9375 14.109375 22.625 23.890625 \r\n",
       "Q 32.328125 33.6875 34.8125 36.53125 \r\n",
       "Q 39.546875 41.84375 41.421875 45.53125 \r\n",
       "Q 43.3125 49.21875 43.3125 52.78125 \r\n",
       "Q 43.3125 58.59375 39.234375 62.25 \r\n",
       "Q 35.15625 65.921875 28.609375 65.921875 \r\n",
       "Q 23.96875 65.921875 18.8125 64.3125 \r\n",
       "Q 13.671875 62.703125 7.8125 59.421875 \r\n",
       "L 7.8125 69.390625 \r\n",
       "Q 13.765625 71.78125 18.9375 73 \r\n",
       "Q 24.125 74.21875 28.421875 74.21875 \r\n",
       "Q 39.75 74.21875 46.484375 68.546875 \r\n",
       "Q 53.21875 62.890625 53.21875 53.421875 \r\n",
       "Q 53.21875 48.921875 51.53125 44.890625 \r\n",
       "Q 49.859375 40.875 45.40625 35.40625 \r\n",
       "Q 44.1875 33.984375 37.640625 27.21875 \r\n",
       "Q 31.109375 20.453125 19.1875 8.296875 \r\n",
       "z\r\n",
       "\" id=\"DejaVuSans-50\"/>\r\n",
       "      </defs>\r\n",
       "      <g transform=\"translate(168.744289 157.698438)scale(0.1 -0.1)\">\r\n",
       "       <use xlink:href=\"#DejaVuSans-50\"/>\r\n",
       "      </g>\r\n",
       "     </g>\r\n",
       "    </g>\r\n",
       "    <g id=\"xtick_4\">\r\n",
       "     <g id=\"line2d_7\">\r\n",
       "      <path clip-path=\"url(#pe607bd12eb)\" d=\"M 233.148109 143.1 \r\n",
       "L 233.148109 7.2 \r\n",
       "\" style=\"fill:none;stroke:#b0b0b0;stroke-linecap:square;stroke-width:0.8;\"/>\r\n",
       "     </g>\r\n",
       "     <g id=\"line2d_8\">\r\n",
       "      <g>\r\n",
       "       <use style=\"stroke:#000000;stroke-width:0.8;\" x=\"233.148109\" xlink:href=\"#m8f854724de\" y=\"143.1\"/>\r\n",
       "      </g>\r\n",
       "     </g>\r\n",
       "     <g id=\"text_4\">\r\n",
       "      <!-- 3 -->\r\n",
       "      <defs>\r\n",
       "       <path d=\"M 40.578125 39.3125 \r\n",
       "Q 47.65625 37.796875 51.625 33 \r\n",
       "Q 55.609375 28.21875 55.609375 21.1875 \r\n",
       "Q 55.609375 10.40625 48.1875 4.484375 \r\n",
       "Q 40.765625 -1.421875 27.09375 -1.421875 \r\n",
       "Q 22.515625 -1.421875 17.65625 -0.515625 \r\n",
       "Q 12.796875 0.390625 7.625 2.203125 \r\n",
       "L 7.625 11.71875 \r\n",
       "Q 11.71875 9.328125 16.59375 8.109375 \r\n",
       "Q 21.484375 6.890625 26.8125 6.890625 \r\n",
       "Q 36.078125 6.890625 40.9375 10.546875 \r\n",
       "Q 45.796875 14.203125 45.796875 21.1875 \r\n",
       "Q 45.796875 27.640625 41.28125 31.265625 \r\n",
       "Q 36.765625 34.90625 28.71875 34.90625 \r\n",
       "L 20.21875 34.90625 \r\n",
       "L 20.21875 43.015625 \r\n",
       "L 29.109375 43.015625 \r\n",
       "Q 36.375 43.015625 40.234375 45.921875 \r\n",
       "Q 44.09375 48.828125 44.09375 54.296875 \r\n",
       "Q 44.09375 59.90625 40.109375 62.90625 \r\n",
       "Q 36.140625 65.921875 28.71875 65.921875 \r\n",
       "Q 24.65625 65.921875 20.015625 65.03125 \r\n",
       "Q 15.375 64.15625 9.8125 62.3125 \r\n",
       "L 9.8125 71.09375 \r\n",
       "Q 15.4375 72.65625 20.34375 73.4375 \r\n",
       "Q 25.25 74.21875 29.59375 74.21875 \r\n",
       "Q 40.828125 74.21875 47.359375 69.109375 \r\n",
       "Q 53.90625 64.015625 53.90625 55.328125 \r\n",
       "Q 53.90625 49.265625 50.4375 45.09375 \r\n",
       "Q 46.96875 40.921875 40.578125 39.3125 \r\n",
       "z\r\n",
       "\" id=\"DejaVuSans-51\"/>\r\n",
       "      </defs>\r\n",
       "      <g transform=\"translate(229.966859 157.698438)scale(0.1 -0.1)\">\r\n",
       "       <use xlink:href=\"#DejaVuSans-51\"/>\r\n",
       "      </g>\r\n",
       "     </g>\r\n",
       "    </g>\r\n",
       "    <g id=\"text_5\">\r\n",
       "     <!-- x -->\r\n",
       "     <defs>\r\n",
       "      <path d=\"M 54.890625 54.6875 \r\n",
       "L 35.109375 28.078125 \r\n",
       "L 55.90625 0 \r\n",
       "L 45.3125 0 \r\n",
       "L 29.390625 21.484375 \r\n",
       "L 13.484375 0 \r\n",
       "L 2.875 0 \r\n",
       "L 24.125 28.609375 \r\n",
       "L 4.6875 54.6875 \r\n",
       "L 15.28125 54.6875 \r\n",
       "L 29.78125 35.203125 \r\n",
       "L 44.28125 54.6875 \r\n",
       "z\r\n",
       "\" id=\"DejaVuSans-120\"/>\r\n",
       "     </defs>\r\n",
       "     <g transform=\"translate(135.29375 171.376563)scale(0.1 -0.1)\">\r\n",
       "      <use xlink:href=\"#DejaVuSans-120\"/>\r\n",
       "     </g>\r\n",
       "    </g>\r\n",
       "   </g>\r\n",
       "   <g id=\"matplotlib.axis_2\">\r\n",
       "    <g id=\"ytick_1\">\r\n",
       "     <g id=\"line2d_9\">\r\n",
       "      <path clip-path=\"url(#pe607bd12eb)\" d=\"M 40.603125 114.635514 \r\n",
       "L 235.903125 114.635514 \r\n",
       "\" style=\"fill:none;stroke:#b0b0b0;stroke-linecap:square;stroke-width:0.8;\"/>\r\n",
       "     </g>\r\n",
       "     <g id=\"line2d_10\">\r\n",
       "      <defs>\r\n",
       "       <path d=\"M 0 0 \r\n",
       "L -3.5 0 \r\n",
       "\" id=\"m8c94e7f717\" style=\"stroke:#000000;stroke-width:0.8;\"/>\r\n",
       "      </defs>\r\n",
       "      <g>\r\n",
       "       <use style=\"stroke:#000000;stroke-width:0.8;\" x=\"40.603125\" xlink:href=\"#m8c94e7f717\" y=\"114.635514\"/>\r\n",
       "      </g>\r\n",
       "     </g>\r\n",
       "     <g id=\"text_6\">\r\n",
       "      <!-- 0 -->\r\n",
       "      <g transform=\"translate(27.240625 118.434732)scale(0.1 -0.1)\">\r\n",
       "       <use xlink:href=\"#DejaVuSans-48\"/>\r\n",
       "      </g>\r\n",
       "     </g>\r\n",
       "    </g>\r\n",
       "    <g id=\"ytick_2\">\r\n",
       "     <g id=\"line2d_11\">\r\n",
       "      <path clip-path=\"url(#pe607bd12eb)\" d=\"M 40.603125 77.490157 \r\n",
       "L 235.903125 77.490157 \r\n",
       "\" style=\"fill:none;stroke:#b0b0b0;stroke-linecap:square;stroke-width:0.8;\"/>\r\n",
       "     </g>\r\n",
       "     <g id=\"line2d_12\">\r\n",
       "      <g>\r\n",
       "       <use style=\"stroke:#000000;stroke-width:0.8;\" x=\"40.603125\" xlink:href=\"#m8c94e7f717\" y=\"77.490157\"/>\r\n",
       "      </g>\r\n",
       "     </g>\r\n",
       "     <g id=\"text_7\">\r\n",
       "      <!-- 5 -->\r\n",
       "      <defs>\r\n",
       "       <path d=\"M 10.796875 72.90625 \r\n",
       "L 49.515625 72.90625 \r\n",
       "L 49.515625 64.59375 \r\n",
       "L 19.828125 64.59375 \r\n",
       "L 19.828125 46.734375 \r\n",
       "Q 21.96875 47.46875 24.109375 47.828125 \r\n",
       "Q 26.265625 48.1875 28.421875 48.1875 \r\n",
       "Q 40.625 48.1875 47.75 41.5 \r\n",
       "Q 54.890625 34.8125 54.890625 23.390625 \r\n",
       "Q 54.890625 11.625 47.5625 5.09375 \r\n",
       "Q 40.234375 -1.421875 26.90625 -1.421875 \r\n",
       "Q 22.3125 -1.421875 17.546875 -0.640625 \r\n",
       "Q 12.796875 0.140625 7.71875 1.703125 \r\n",
       "L 7.71875 11.625 \r\n",
       "Q 12.109375 9.234375 16.796875 8.0625 \r\n",
       "Q 21.484375 6.890625 26.703125 6.890625 \r\n",
       "Q 35.15625 6.890625 40.078125 11.328125 \r\n",
       "Q 45.015625 15.765625 45.015625 23.390625 \r\n",
       "Q 45.015625 31 40.078125 35.4375 \r\n",
       "Q 35.15625 39.890625 26.703125 39.890625 \r\n",
       "Q 22.75 39.890625 18.8125 39.015625 \r\n",
       "Q 14.890625 38.140625 10.796875 36.28125 \r\n",
       "z\r\n",
       "\" id=\"DejaVuSans-53\"/>\r\n",
       "      </defs>\r\n",
       "      <g transform=\"translate(27.240625 81.289376)scale(0.1 -0.1)\">\r\n",
       "       <use xlink:href=\"#DejaVuSans-53\"/>\r\n",
       "      </g>\r\n",
       "     </g>\r\n",
       "    </g>\r\n",
       "    <g id=\"ytick_3\">\r\n",
       "     <g id=\"line2d_13\">\r\n",
       "      <path clip-path=\"url(#pe607bd12eb)\" d=\"M 40.603125 40.344801 \r\n",
       "L 235.903125 40.344801 \r\n",
       "\" style=\"fill:none;stroke:#b0b0b0;stroke-linecap:square;stroke-width:0.8;\"/>\r\n",
       "     </g>\r\n",
       "     <g id=\"line2d_14\">\r\n",
       "      <g>\r\n",
       "       <use style=\"stroke:#000000;stroke-width:0.8;\" x=\"40.603125\" xlink:href=\"#m8c94e7f717\" y=\"40.344801\"/>\r\n",
       "      </g>\r\n",
       "     </g>\r\n",
       "     <g id=\"text_8\">\r\n",
       "      <!-- 10 -->\r\n",
       "      <g transform=\"translate(20.878125 44.14402)scale(0.1 -0.1)\">\r\n",
       "       <use xlink:href=\"#DejaVuSans-49\"/>\r\n",
       "       <use x=\"63.623047\" xlink:href=\"#DejaVuSans-48\"/>\r\n",
       "      </g>\r\n",
       "     </g>\r\n",
       "    </g>\r\n",
       "    <g id=\"text_9\">\r\n",
       "     <!-- f(x) -->\r\n",
       "     <defs>\r\n",
       "      <path d=\"M 37.109375 75.984375 \r\n",
       "L 37.109375 68.5 \r\n",
       "L 28.515625 68.5 \r\n",
       "Q 23.6875 68.5 21.796875 66.546875 \r\n",
       "Q 19.921875 64.59375 19.921875 59.515625 \r\n",
       "L 19.921875 54.6875 \r\n",
       "L 34.71875 54.6875 \r\n",
       "L 34.71875 47.703125 \r\n",
       "L 19.921875 47.703125 \r\n",
       "L 19.921875 0 \r\n",
       "L 10.890625 0 \r\n",
       "L 10.890625 47.703125 \r\n",
       "L 2.296875 47.703125 \r\n",
       "L 2.296875 54.6875 \r\n",
       "L 10.890625 54.6875 \r\n",
       "L 10.890625 58.5 \r\n",
       "Q 10.890625 67.625 15.140625 71.796875 \r\n",
       "Q 19.390625 75.984375 28.609375 75.984375 \r\n",
       "z\r\n",
       "\" id=\"DejaVuSans-102\"/>\r\n",
       "      <path d=\"M 31 75.875 \r\n",
       "Q 24.46875 64.65625 21.28125 53.65625 \r\n",
       "Q 18.109375 42.671875 18.109375 31.390625 \r\n",
       "Q 18.109375 20.125 21.3125 9.0625 \r\n",
       "Q 24.515625 -2 31 -13.1875 \r\n",
       "L 23.1875 -13.1875 \r\n",
       "Q 15.875 -1.703125 12.234375 9.375 \r\n",
       "Q 8.59375 20.453125 8.59375 31.390625 \r\n",
       "Q 8.59375 42.28125 12.203125 53.3125 \r\n",
       "Q 15.828125 64.359375 23.1875 75.875 \r\n",
       "z\r\n",
       "\" id=\"DejaVuSans-40\"/>\r\n",
       "      <path d=\"M 8.015625 75.875 \r\n",
       "L 15.828125 75.875 \r\n",
       "Q 23.140625 64.359375 26.78125 53.3125 \r\n",
       "Q 30.421875 42.28125 30.421875 31.390625 \r\n",
       "Q 30.421875 20.453125 26.78125 9.375 \r\n",
       "Q 23.140625 -1.703125 15.828125 -13.1875 \r\n",
       "L 8.015625 -13.1875 \r\n",
       "Q 14.5 -2 17.703125 9.0625 \r\n",
       "Q 20.90625 20.125 20.90625 31.390625 \r\n",
       "Q 20.90625 42.671875 17.703125 53.65625 \r\n",
       "Q 14.5 64.65625 8.015625 75.875 \r\n",
       "z\r\n",
       "\" id=\"DejaVuSans-41\"/>\r\n",
       "     </defs>\r\n",
       "     <g transform=\"translate(14.798437 83.771094)rotate(-90)scale(0.1 -0.1)\">\r\n",
       "      <use xlink:href=\"#DejaVuSans-102\"/>\r\n",
       "      <use x=\"35.205078\" xlink:href=\"#DejaVuSans-40\"/>\r\n",
       "      <use x=\"74.21875\" xlink:href=\"#DejaVuSans-120\"/>\r\n",
       "      <use x=\"133.398438\" xlink:href=\"#DejaVuSans-41\"/>\r\n",
       "     </g>\r\n",
       "    </g>\r\n",
       "   </g>\r\n",
       "   <g id=\"line2d_15\">\r\n",
       "    <path clip-path=\"url(#pe607bd12eb)\" d=\"M 49.480398 114.635514 \r\n",
       "L 55.602655 117.38427 \r\n",
       "L 61.724912 119.687282 \r\n",
       "L 67.847169 121.54455 \r\n",
       "L 73.969426 122.956073 \r\n",
       "L 80.091683 123.921853 \r\n",
       "L 86.21394 124.441888 \r\n",
       "L 92.336197 124.516178 \r\n",
       "L 98.458454 124.144725 \r\n",
       "L 104.580711 123.327527 \r\n",
       "L 110.702968 122.064585 \r\n",
       "L 116.825225 120.355898 \r\n",
       "L 122.947482 118.201468 \r\n",
       "L 129.069739 115.601293 \r\n",
       "L 135.191996 112.555374 \r\n",
       "L 141.314254 109.06371 \r\n",
       "L 147.436511 105.126302 \r\n",
       "L 153.558768 100.74315 \r\n",
       "L 159.681025 95.914254 \r\n",
       "L 165.803282 90.639614 \r\n",
       "L 171.925539 84.919229 \r\n",
       "L 178.047796 78.7531 \r\n",
       "L 184.170053 72.141226 \r\n",
       "L 190.29231 65.083608 \r\n",
       "L 196.414567 57.580247 \r\n",
       "L 202.536824 49.63114 \r\n",
       "L 208.659081 41.23629 \r\n",
       "L 214.781338 32.395695 \r\n",
       "L 220.903595 23.109356 \r\n",
       "L 227.025852 13.377273 \r\n",
       "\" style=\"fill:none;stroke:#1f77b4;stroke-linecap:square;stroke-width:1.5;\"/>\r\n",
       "   </g>\r\n",
       "   <g id=\"line2d_16\">\r\n",
       "    <path clip-path=\"url(#pe607bd12eb)\" d=\"M 49.480398 136.922727 \r\n",
       "L 55.602655 135.436913 \r\n",
       "L 61.724912 133.951099 \r\n",
       "L 67.847169 132.465285 \r\n",
       "L 73.969426 130.97947 \r\n",
       "L 80.091683 129.493656 \r\n",
       "L 86.21394 128.007842 \r\n",
       "L 92.336197 126.522028 \r\n",
       "L 98.458454 125.036213 \r\n",
       "L 104.580711 123.550399 \r\n",
       "L 110.702968 122.064585 \r\n",
       "L 116.825225 120.578771 \r\n",
       "L 122.947482 119.092956 \r\n",
       "L 129.069739 117.607142 \r\n",
       "L 135.191996 116.121328 \r\n",
       "L 141.314254 114.635514 \r\n",
       "L 147.436511 113.149699 \r\n",
       "L 153.558768 111.663885 \r\n",
       "L 159.681025 110.178071 \r\n",
       "L 165.803282 108.692257 \r\n",
       "L 171.925539 107.206442 \r\n",
       "L 178.047796 105.720628 \r\n",
       "L 184.170053 104.234814 \r\n",
       "L 190.29231 102.749 \r\n",
       "L 196.414567 101.263185 \r\n",
       "L 202.536824 99.777371 \r\n",
       "L 208.659081 98.291557 \r\n",
       "L 214.781338 96.805743 \r\n",
       "L 220.903595 95.319928 \r\n",
       "L 227.025852 93.834114 \r\n",
       "\" style=\"fill:none;stroke:#bf00bf;stroke-dasharray:5.55,2.4;stroke-dashoffset:0;stroke-width:1.5;\"/>\r\n",
       "   </g>\r\n",
       "   <g id=\"patch_3\">\r\n",
       "    <path d=\"M 40.603125 143.1 \r\n",
       "L 40.603125 7.2 \r\n",
       "\" style=\"fill:none;stroke:#000000;stroke-linecap:square;stroke-linejoin:miter;stroke-width:0.8;\"/>\r\n",
       "   </g>\r\n",
       "   <g id=\"patch_4\">\r\n",
       "    <path d=\"M 235.903125 143.1 \r\n",
       "L 235.903125 7.2 \r\n",
       "\" style=\"fill:none;stroke:#000000;stroke-linecap:square;stroke-linejoin:miter;stroke-width:0.8;\"/>\r\n",
       "   </g>\r\n",
       "   <g id=\"patch_5\">\r\n",
       "    <path d=\"M 40.603125 143.1 \r\n",
       "L 235.903125 143.1 \r\n",
       "\" style=\"fill:none;stroke:#000000;stroke-linecap:square;stroke-linejoin:miter;stroke-width:0.8;\"/>\r\n",
       "   </g>\r\n",
       "   <g id=\"patch_6\">\r\n",
       "    <path d=\"M 40.603125 7.2 \r\n",
       "L 235.903125 7.2 \r\n",
       "\" style=\"fill:none;stroke:#000000;stroke-linecap:square;stroke-linejoin:miter;stroke-width:0.8;\"/>\r\n",
       "   </g>\r\n",
       "   <g id=\"legend_1\">\r\n",
       "    <g id=\"patch_7\">\r\n",
       "     <path d=\"M 47.603125 44.55625 \r\n",
       "L 172.153125 44.55625 \r\n",
       "Q 174.153125 44.55625 174.153125 42.55625 \r\n",
       "L 174.153125 14.2 \r\n",
       "Q 174.153125 12.2 172.153125 12.2 \r\n",
       "L 47.603125 12.2 \r\n",
       "Q 45.603125 12.2 45.603125 14.2 \r\n",
       "L 45.603125 42.55625 \r\n",
       "Q 45.603125 44.55625 47.603125 44.55625 \r\n",
       "z\r\n",
       "\" style=\"fill:#ffffff;opacity:0.8;stroke:#cccccc;stroke-linejoin:miter;\"/>\r\n",
       "    </g>\r\n",
       "    <g id=\"line2d_17\">\r\n",
       "     <path d=\"M 49.603125 20.298437 \r\n",
       "L 69.603125 20.298437 \r\n",
       "\" style=\"fill:none;stroke:#1f77b4;stroke-linecap:square;stroke-width:1.5;\"/>\r\n",
       "    </g>\r\n",
       "    <g id=\"line2d_18\"/>\r\n",
       "    <g id=\"text_10\">\r\n",
       "     <!-- f(x) -->\r\n",
       "     <g transform=\"translate(77.603125 23.798437)scale(0.1 -0.1)\">\r\n",
       "      <use xlink:href=\"#DejaVuSans-102\"/>\r\n",
       "      <use x=\"35.205078\" xlink:href=\"#DejaVuSans-40\"/>\r\n",
       "      <use x=\"74.21875\" xlink:href=\"#DejaVuSans-120\"/>\r\n",
       "      <use x=\"133.398438\" xlink:href=\"#DejaVuSans-41\"/>\r\n",
       "     </g>\r\n",
       "    </g>\r\n",
       "    <g id=\"line2d_19\">\r\n",
       "     <path d=\"M 49.603125 34.976562 \r\n",
       "L 69.603125 34.976562 \r\n",
       "\" style=\"fill:none;stroke:#bf00bf;stroke-dasharray:5.55,2.4;stroke-dashoffset:0;stroke-width:1.5;\"/>\r\n",
       "    </g>\r\n",
       "    <g id=\"line2d_20\"/>\r\n",
       "    <g id=\"text_11\">\r\n",
       "     <!-- Tangent line (x=1) -->\r\n",
       "     <defs>\r\n",
       "      <path d=\"M -0.296875 72.90625 \r\n",
       "L 61.375 72.90625 \r\n",
       "L 61.375 64.59375 \r\n",
       "L 35.5 64.59375 \r\n",
       "L 35.5 0 \r\n",
       "L 25.59375 0 \r\n",
       "L 25.59375 64.59375 \r\n",
       "L -0.296875 64.59375 \r\n",
       "z\r\n",
       "\" id=\"DejaVuSans-84\"/>\r\n",
       "      <path d=\"M 34.28125 27.484375 \r\n",
       "Q 23.390625 27.484375 19.1875 25 \r\n",
       "Q 14.984375 22.515625 14.984375 16.5 \r\n",
       "Q 14.984375 11.71875 18.140625 8.90625 \r\n",
       "Q 21.296875 6.109375 26.703125 6.109375 \r\n",
       "Q 34.1875 6.109375 38.703125 11.40625 \r\n",
       "Q 43.21875 16.703125 43.21875 25.484375 \r\n",
       "L 43.21875 27.484375 \r\n",
       "z\r\n",
       "M 52.203125 31.203125 \r\n",
       "L 52.203125 0 \r\n",
       "L 43.21875 0 \r\n",
       "L 43.21875 8.296875 \r\n",
       "Q 40.140625 3.328125 35.546875 0.953125 \r\n",
       "Q 30.953125 -1.421875 24.3125 -1.421875 \r\n",
       "Q 15.921875 -1.421875 10.953125 3.296875 \r\n",
       "Q 6 8.015625 6 15.921875 \r\n",
       "Q 6 25.140625 12.171875 29.828125 \r\n",
       "Q 18.359375 34.515625 30.609375 34.515625 \r\n",
       "L 43.21875 34.515625 \r\n",
       "L 43.21875 35.40625 \r\n",
       "Q 43.21875 41.609375 39.140625 45 \r\n",
       "Q 35.0625 48.390625 27.6875 48.390625 \r\n",
       "Q 23 48.390625 18.546875 47.265625 \r\n",
       "Q 14.109375 46.140625 10.015625 43.890625 \r\n",
       "L 10.015625 52.203125 \r\n",
       "Q 14.9375 54.109375 19.578125 55.046875 \r\n",
       "Q 24.21875 56 28.609375 56 \r\n",
       "Q 40.484375 56 46.34375 49.84375 \r\n",
       "Q 52.203125 43.703125 52.203125 31.203125 \r\n",
       "z\r\n",
       "\" id=\"DejaVuSans-97\"/>\r\n",
       "      <path d=\"M 54.890625 33.015625 \r\n",
       "L 54.890625 0 \r\n",
       "L 45.90625 0 \r\n",
       "L 45.90625 32.71875 \r\n",
       "Q 45.90625 40.484375 42.875 44.328125 \r\n",
       "Q 39.84375 48.1875 33.796875 48.1875 \r\n",
       "Q 26.515625 48.1875 22.3125 43.546875 \r\n",
       "Q 18.109375 38.921875 18.109375 30.90625 \r\n",
       "L 18.109375 0 \r\n",
       "L 9.078125 0 \r\n",
       "L 9.078125 54.6875 \r\n",
       "L 18.109375 54.6875 \r\n",
       "L 18.109375 46.1875 \r\n",
       "Q 21.34375 51.125 25.703125 53.5625 \r\n",
       "Q 30.078125 56 35.796875 56 \r\n",
       "Q 45.21875 56 50.046875 50.171875 \r\n",
       "Q 54.890625 44.34375 54.890625 33.015625 \r\n",
       "z\r\n",
       "\" id=\"DejaVuSans-110\"/>\r\n",
       "      <path d=\"M 45.40625 27.984375 \r\n",
       "Q 45.40625 37.75 41.375 43.109375 \r\n",
       "Q 37.359375 48.484375 30.078125 48.484375 \r\n",
       "Q 22.859375 48.484375 18.828125 43.109375 \r\n",
       "Q 14.796875 37.75 14.796875 27.984375 \r\n",
       "Q 14.796875 18.265625 18.828125 12.890625 \r\n",
       "Q 22.859375 7.515625 30.078125 7.515625 \r\n",
       "Q 37.359375 7.515625 41.375 12.890625 \r\n",
       "Q 45.40625 18.265625 45.40625 27.984375 \r\n",
       "z\r\n",
       "M 54.390625 6.78125 \r\n",
       "Q 54.390625 -7.171875 48.1875 -13.984375 \r\n",
       "Q 42 -20.796875 29.203125 -20.796875 \r\n",
       "Q 24.46875 -20.796875 20.265625 -20.09375 \r\n",
       "Q 16.0625 -19.390625 12.109375 -17.921875 \r\n",
       "L 12.109375 -9.1875 \r\n",
       "Q 16.0625 -11.328125 19.921875 -12.34375 \r\n",
       "Q 23.78125 -13.375 27.78125 -13.375 \r\n",
       "Q 36.625 -13.375 41.015625 -8.765625 \r\n",
       "Q 45.40625 -4.15625 45.40625 5.171875 \r\n",
       "L 45.40625 9.625 \r\n",
       "Q 42.625 4.78125 38.28125 2.390625 \r\n",
       "Q 33.9375 0 27.875 0 \r\n",
       "Q 17.828125 0 11.671875 7.65625 \r\n",
       "Q 5.515625 15.328125 5.515625 27.984375 \r\n",
       "Q 5.515625 40.671875 11.671875 48.328125 \r\n",
       "Q 17.828125 56 27.875 56 \r\n",
       "Q 33.9375 56 38.28125 53.609375 \r\n",
       "Q 42.625 51.21875 45.40625 46.390625 \r\n",
       "L 45.40625 54.6875 \r\n",
       "L 54.390625 54.6875 \r\n",
       "z\r\n",
       "\" id=\"DejaVuSans-103\"/>\r\n",
       "      <path d=\"M 56.203125 29.59375 \r\n",
       "L 56.203125 25.203125 \r\n",
       "L 14.890625 25.203125 \r\n",
       "Q 15.484375 15.921875 20.484375 11.0625 \r\n",
       "Q 25.484375 6.203125 34.421875 6.203125 \r\n",
       "Q 39.59375 6.203125 44.453125 7.46875 \r\n",
       "Q 49.3125 8.734375 54.109375 11.28125 \r\n",
       "L 54.109375 2.78125 \r\n",
       "Q 49.265625 0.734375 44.1875 -0.34375 \r\n",
       "Q 39.109375 -1.421875 33.890625 -1.421875 \r\n",
       "Q 20.796875 -1.421875 13.15625 6.1875 \r\n",
       "Q 5.515625 13.8125 5.515625 26.8125 \r\n",
       "Q 5.515625 40.234375 12.765625 48.109375 \r\n",
       "Q 20.015625 56 32.328125 56 \r\n",
       "Q 43.359375 56 49.78125 48.890625 \r\n",
       "Q 56.203125 41.796875 56.203125 29.59375 \r\n",
       "z\r\n",
       "M 47.21875 32.234375 \r\n",
       "Q 47.125 39.59375 43.09375 43.984375 \r\n",
       "Q 39.0625 48.390625 32.421875 48.390625 \r\n",
       "Q 24.90625 48.390625 20.390625 44.140625 \r\n",
       "Q 15.875 39.890625 15.1875 32.171875 \r\n",
       "z\r\n",
       "\" id=\"DejaVuSans-101\"/>\r\n",
       "      <path d=\"M 18.3125 70.21875 \r\n",
       "L 18.3125 54.6875 \r\n",
       "L 36.8125 54.6875 \r\n",
       "L 36.8125 47.703125 \r\n",
       "L 18.3125 47.703125 \r\n",
       "L 18.3125 18.015625 \r\n",
       "Q 18.3125 11.328125 20.140625 9.421875 \r\n",
       "Q 21.96875 7.515625 27.59375 7.515625 \r\n",
       "L 36.8125 7.515625 \r\n",
       "L 36.8125 0 \r\n",
       "L 27.59375 0 \r\n",
       "Q 17.1875 0 13.234375 3.875 \r\n",
       "Q 9.28125 7.765625 9.28125 18.015625 \r\n",
       "L 9.28125 47.703125 \r\n",
       "L 2.6875 47.703125 \r\n",
       "L 2.6875 54.6875 \r\n",
       "L 9.28125 54.6875 \r\n",
       "L 9.28125 70.21875 \r\n",
       "z\r\n",
       "\" id=\"DejaVuSans-116\"/>\r\n",
       "      <path id=\"DejaVuSans-32\"/>\r\n",
       "      <path d=\"M 9.421875 75.984375 \r\n",
       "L 18.40625 75.984375 \r\n",
       "L 18.40625 0 \r\n",
       "L 9.421875 0 \r\n",
       "z\r\n",
       "\" id=\"DejaVuSans-108\"/>\r\n",
       "      <path d=\"M 9.421875 54.6875 \r\n",
       "L 18.40625 54.6875 \r\n",
       "L 18.40625 0 \r\n",
       "L 9.421875 0 \r\n",
       "z\r\n",
       "M 9.421875 75.984375 \r\n",
       "L 18.40625 75.984375 \r\n",
       "L 18.40625 64.59375 \r\n",
       "L 9.421875 64.59375 \r\n",
       "z\r\n",
       "\" id=\"DejaVuSans-105\"/>\r\n",
       "      <path d=\"M 10.59375 45.40625 \r\n",
       "L 73.1875 45.40625 \r\n",
       "L 73.1875 37.203125 \r\n",
       "L 10.59375 37.203125 \r\n",
       "z\r\n",
       "M 10.59375 25.484375 \r\n",
       "L 73.1875 25.484375 \r\n",
       "L 73.1875 17.1875 \r\n",
       "L 10.59375 17.1875 \r\n",
       "z\r\n",
       "\" id=\"DejaVuSans-61\"/>\r\n",
       "     </defs>\r\n",
       "     <g transform=\"translate(77.603125 38.476562)scale(0.1 -0.1)\">\r\n",
       "      <use xlink:href=\"#DejaVuSans-84\"/>\r\n",
       "      <use x=\"44.583984\" xlink:href=\"#DejaVuSans-97\"/>\r\n",
       "      <use x=\"105.863281\" xlink:href=\"#DejaVuSans-110\"/>\r\n",
       "      <use x=\"169.242188\" xlink:href=\"#DejaVuSans-103\"/>\r\n",
       "      <use x=\"232.71875\" xlink:href=\"#DejaVuSans-101\"/>\r\n",
       "      <use x=\"294.242188\" xlink:href=\"#DejaVuSans-110\"/>\r\n",
       "      <use x=\"357.621094\" xlink:href=\"#DejaVuSans-116\"/>\r\n",
       "      <use x=\"396.830078\" xlink:href=\"#DejaVuSans-32\"/>\r\n",
       "      <use x=\"428.617188\" xlink:href=\"#DejaVuSans-108\"/>\r\n",
       "      <use x=\"456.400391\" xlink:href=\"#DejaVuSans-105\"/>\r\n",
       "      <use x=\"484.183594\" xlink:href=\"#DejaVuSans-110\"/>\r\n",
       "      <use x=\"547.5625\" xlink:href=\"#DejaVuSans-101\"/>\r\n",
       "      <use x=\"609.085938\" xlink:href=\"#DejaVuSans-32\"/>\r\n",
       "      <use x=\"640.873047\" xlink:href=\"#DejaVuSans-40\"/>\r\n",
       "      <use x=\"679.886719\" xlink:href=\"#DejaVuSans-120\"/>\r\n",
       "      <use x=\"739.066406\" xlink:href=\"#DejaVuSans-61\"/>\r\n",
       "      <use x=\"822.855469\" xlink:href=\"#DejaVuSans-49\"/>\r\n",
       "      <use x=\"886.478516\" xlink:href=\"#DejaVuSans-41\"/>\r\n",
       "     </g>\r\n",
       "    </g>\r\n",
       "   </g>\r\n",
       "  </g>\r\n",
       " </g>\r\n",
       " <defs>\r\n",
       "  <clipPath id=\"pe607bd12eb\">\r\n",
       "   <rect height=\"135.9\" width=\"195.3\" x=\"40.603125\" y=\"7.2\"/>\r\n",
       "  </clipPath>\r\n",
       " </defs>\r\n",
       "</svg>\r\n"
      ],
      "text/plain": [
       "<Figure size 252x180 with 1 Axes>"
      ]
     },
     "metadata": {
      "needs_background": "light"
     },
     "output_type": "display_data"
    }
   ],
   "source": [
    "%time x = np.arange(0, 3, 0.1)\n",
    "%time plot(x, [f(x), 2 * x - 3], 'x', 'f(x)', legend=['f(x)', 'Tangent line (x=1)'])"
   ]
  },
  {
   "cell_type": "markdown",
   "metadata": {},
   "source": [
    "## 2.5 Automatic Differentiation"
   ]
  },
  {
   "cell_type": "code",
   "execution_count": 74,
   "metadata": {},
   "outputs": [
    {
     "name": "stdout",
     "output_type": "stream",
     "text": [
      "Wall time: 0 ns\n"
     ]
    },
    {
     "data": {
      "text/plain": [
       "tensor([0., 1., 2., 3.])"
      ]
     },
     "execution_count": 74,
     "metadata": {},
     "output_type": "execute_result"
    }
   ],
   "source": [
    "import torch\n",
    "\n",
    "%time x = torch.arange(4.0)\n",
    "x"
   ]
  },
  {
   "cell_type": "code",
   "execution_count": 75,
   "metadata": {},
   "outputs": [
    {
     "name": "stdout",
     "output_type": "stream",
     "text": [
      "tensor([0., 1., 2., 3.], requires_grad=True)\n",
      "Wall time: 2.97 ms\n",
      "None\n",
      "Wall time: 0 ns\n"
     ]
    }
   ],
   "source": [
    "%time print(x.requires_grad_(True))  # Same as `x = torch.arange(4.0, requires_grad=True)`\n",
    "%time print(x.grad)  # The default value is None"
   ]
  },
  {
   "cell_type": "code",
   "execution_count": 76,
   "metadata": {},
   "outputs": [
    {
     "name": "stdout",
     "output_type": "stream",
     "text": [
      "Wall time: 0 ns\n"
     ]
    },
    {
     "data": {
      "text/plain": [
       "tensor(28., grad_fn=<MulBackward0>)"
      ]
     },
     "execution_count": 76,
     "metadata": {},
     "output_type": "execute_result"
    }
   ],
   "source": [
    "%time y = 2 * torch.dot(x, x)\n",
    "y"
   ]
  },
  {
   "cell_type": "code",
   "execution_count": 77,
   "metadata": {},
   "outputs": [
    {
     "name": "stdout",
     "output_type": "stream",
     "text": [
      "Wall time: 2 ms\n",
      "Wall time: 0 ns\n"
     ]
    },
    {
     "data": {
      "text/plain": [
       "tensor([ 0.,  4.,  8., 12.])"
      ]
     },
     "execution_count": 77,
     "metadata": {},
     "output_type": "execute_result"
    }
   ],
   "source": [
    "%time y.backward()\n",
    "%time x.grad"
   ]
  },
  {
   "cell_type": "code",
   "execution_count": 78,
   "metadata": {},
   "outputs": [
    {
     "name": "stdout",
     "output_type": "stream",
     "text": [
      "Wall time: 0 ns\n"
     ]
    },
    {
     "data": {
      "text/plain": [
       "tensor([True, True, True, True])"
      ]
     },
     "execution_count": 78,
     "metadata": {},
     "output_type": "execute_result"
    }
   ],
   "source": [
    "%time x.grad == 4 * x"
   ]
  },
  {
   "cell_type": "code",
   "execution_count": 79,
   "metadata": {},
   "outputs": [
    {
     "name": "stdout",
     "output_type": "stream",
     "text": [
      "Wall time: 0 ns\n",
      "Wall time: 0 ns\n"
     ]
    },
    {
     "data": {
      "text/plain": [
       "tensor([1., 1., 1., 1.])"
      ]
     },
     "execution_count": 79,
     "metadata": {},
     "output_type": "execute_result"
    }
   ],
   "source": [
    "# PyTorch accumulates the gradient in default, we need to clear the previous\n",
    "# values\n",
    "%time x.grad.zero_()\n",
    "%time y = x.sum()\n",
    "y.backward()\n",
    "x.grad"
   ]
  },
  {
   "cell_type": "code",
   "execution_count": 80,
   "metadata": {},
   "outputs": [
    {
     "name": "stdout",
     "output_type": "stream",
     "text": [
      "Wall time: 1 ms\n",
      "Wall time: 1 ms\n"
     ]
    },
    {
     "data": {
      "text/plain": [
       "tensor([0., 2., 4., 6.])"
      ]
     },
     "execution_count": 80,
     "metadata": {},
     "output_type": "execute_result"
    }
   ],
   "source": [
    "# Invoking `backward` on a non-scalar requires passing in a `gradient` argument\n",
    "# which specifies the gradient of the differentiated function w.r.t `self`.\n",
    "# In our case, we simply want to sum the partial derivatives, so passing\n",
    "# in a gradient of ones is appropriate\n",
    "%time x.grad.zero_()\n",
    "%time y = x * x\n",
    "# y.backward(torch.ones(len(x))) equivalent to the below\n",
    "y.sum().backward()\n",
    "x.grad"
   ]
  },
  {
   "cell_type": "code",
   "execution_count": 81,
   "metadata": {},
   "outputs": [
    {
     "name": "stdout",
     "output_type": "stream",
     "text": [
      "Wall time: 0 ns\n",
      "Wall time: 0 ns\n",
      "Wall time: 0 ns\n",
      "Wall time: 0 ns\n"
     ]
    },
    {
     "data": {
      "text/plain": [
       "tensor([True, True, True, True])"
      ]
     },
     "execution_count": 81,
     "metadata": {},
     "output_type": "execute_result"
    }
   ],
   "source": [
    "%time x.grad.zero_()\n",
    "%time y = x * x\n",
    "%time u = y.detach()\n",
    "%time z = u * x\n",
    "\n",
    "z.sum().backward()\n",
    "x.grad == u"
   ]
  },
  {
   "cell_type": "code",
   "execution_count": 82,
   "metadata": {},
   "outputs": [
    {
     "name": "stdout",
     "output_type": "stream",
     "text": [
      "Wall time: 0 ns\n",
      "Wall time: 3 ms\n"
     ]
    },
    {
     "data": {
      "text/plain": [
       "tensor([True, True, True, True])"
      ]
     },
     "execution_count": 82,
     "metadata": {},
     "output_type": "execute_result"
    }
   ],
   "source": [
    "%time x.grad.zero_()\n",
    "%time y.sum().backward()\n",
    "x.grad == 2 * x"
   ]
  },
  {
   "cell_type": "code",
   "execution_count": 83,
   "metadata": {},
   "outputs": [],
   "source": [
    "def f(a):\n",
    "    b = a * 2\n",
    "    while b.norm() < 1000:\n",
    "        b = b * 2\n",
    "    if b.sum() > 0:\n",
    "        c = b\n",
    "    else:\n",
    "        c = 100 * b\n",
    "    return c"
   ]
  },
  {
   "cell_type": "code",
   "execution_count": 84,
   "metadata": {},
   "outputs": [
    {
     "name": "stdout",
     "output_type": "stream",
     "text": [
      "Wall time: 0 ns\n",
      "Wall time: 4.01 ms\n",
      "None\n"
     ]
    }
   ],
   "source": [
    "%time a = torch.randn(size=(), requires_grad=True)\n",
    "%time d = f(a)\n",
    "print(d.backward())"
   ]
  },
  {
   "cell_type": "code",
   "execution_count": 85,
   "metadata": {},
   "outputs": [
    {
     "name": "stdout",
     "output_type": "stream",
     "text": [
      "Wall time: 0 ns\n"
     ]
    },
    {
     "data": {
      "text/plain": [
       "tensor(16384.)"
      ]
     },
     "execution_count": 85,
     "metadata": {},
     "output_type": "execute_result"
    }
   ],
   "source": [
    "%time a.grad == d / a\n",
    "a.grad"
   ]
  },
  {
   "cell_type": "markdown",
   "metadata": {},
   "source": [
    "## 2.6 Probability"
   ]
  },
  {
   "cell_type": "code",
   "execution_count": 86,
   "metadata": {},
   "outputs": [],
   "source": [
    "%matplotlib inline\n",
    "import torch\n",
    "from torch.distributions import multinomial\n",
    "from d2l import torch as d2l"
   ]
  },
  {
   "cell_type": "code",
   "execution_count": 87,
   "metadata": {},
   "outputs": [
    {
     "name": "stdout",
     "output_type": "stream",
     "text": [
      "Wall time: 0 ns\n",
      "Wall time: 1 ms\n"
     ]
    },
    {
     "data": {
      "text/plain": [
       "tensor([0., 0., 0., 0., 1., 0.])"
      ]
     },
     "execution_count": 87,
     "metadata": {},
     "output_type": "execute_result"
    }
   ],
   "source": [
    "%time fair_probs = torch.ones([6]) / 6\n",
    "%time multinomial.Multinomial(1, fair_probs).sample()"
   ]
  },
  {
   "cell_type": "code",
   "execution_count": 88,
   "metadata": {},
   "outputs": [
    {
     "name": "stdout",
     "output_type": "stream",
     "text": [
      "Wall time: 1 ms\n"
     ]
    },
    {
     "data": {
      "text/plain": [
       "tensor([2., 0., 3., 2., 1., 2.])"
      ]
     },
     "execution_count": 88,
     "metadata": {},
     "output_type": "execute_result"
    }
   ],
   "source": [
    "%time multinomial.Multinomial(10, fair_probs).sample()"
   ]
  },
  {
   "cell_type": "code",
   "execution_count": 89,
   "metadata": {},
   "outputs": [
    {
     "name": "stdout",
     "output_type": "stream",
     "text": [
      "Wall time: 1 ms\n"
     ]
    },
    {
     "data": {
      "text/plain": [
       "tensor([0.1620, 0.1630, 0.1710, 0.1740, 0.1770, 0.1530])"
      ]
     },
     "execution_count": 89,
     "metadata": {},
     "output_type": "execute_result"
    }
   ],
   "source": [
    "# Store the results as 32-bit floats for division\n",
    "%time counts = multinomial.Multinomial(1000, fair_probs).sample()\n",
    "counts / 1000  # Relative frequency as the estimate"
   ]
  },
  {
   "cell_type": "code",
   "execution_count": 90,
   "metadata": {},
   "outputs": [
    {
     "name": "stdout",
     "output_type": "stream",
     "text": [
      "Wall time: 2 ms\n"
     ]
    },
    {
     "data": {
      "image/svg+xml": [
       "<?xml version=\"1.0\" encoding=\"utf-8\" standalone=\"no\"?>\r\n",
       "<!DOCTYPE svg PUBLIC \"-//W3C//DTD SVG 1.1//EN\"\r\n",
       "  \"http://www.w3.org/Graphics/SVG/1.1/DTD/svg11.dtd\">\r\n",
       "<!-- Created with matplotlib (https://matplotlib.org/) -->\r\n",
       "<svg height=\"289.37625pt\" version=\"1.1\" viewBox=\"0 0 392.14375 289.37625\" width=\"392.14375pt\" xmlns=\"http://www.w3.org/2000/svg\" xmlns:xlink=\"http://www.w3.org/1999/xlink\">\r\n",
       " <defs>\r\n",
       "  <style type=\"text/css\">\r\n",
       "*{stroke-linecap:butt;stroke-linejoin:round;}\r\n",
       "  </style>\r\n",
       " </defs>\r\n",
       " <g id=\"figure_1\">\r\n",
       "  <g id=\"patch_1\">\r\n",
       "   <path d=\"M 0 289.37625 \r\n",
       "L 392.14375 289.37625 \r\n",
       "L 392.14375 0 \r\n",
       "L 0 0 \r\n",
       "z\r\n",
       "\" style=\"fill:none;\"/>\r\n",
       "  </g>\r\n",
       "  <g id=\"axes_1\">\r\n",
       "   <g id=\"patch_2\">\r\n",
       "    <path d=\"M 50.14375 251.82 \r\n",
       "L 384.94375 251.82 \r\n",
       "L 384.94375 7.2 \r\n",
       "L 50.14375 7.2 \r\n",
       "z\r\n",
       "\" style=\"fill:#ffffff;\"/>\r\n",
       "   </g>\r\n",
       "   <g id=\"matplotlib.axis_1\">\r\n",
       "    <g id=\"xtick_1\">\r\n",
       "     <g id=\"line2d_1\">\r\n",
       "      <defs>\r\n",
       "       <path d=\"M 0 0 \r\n",
       "L 0 3.5 \r\n",
       "\" id=\"mfb4e1cb01c\" style=\"stroke:#000000;stroke-width:0.8;\"/>\r\n",
       "      </defs>\r\n",
       "      <g>\r\n",
       "       <use style=\"stroke:#000000;stroke-width:0.8;\" x=\"65.361932\" xlink:href=\"#mfb4e1cb01c\" y=\"251.82\"/>\r\n",
       "      </g>\r\n",
       "     </g>\r\n",
       "     <g id=\"text_1\">\r\n",
       "      <!-- 0 -->\r\n",
       "      <defs>\r\n",
       "       <path d=\"M 31.78125 66.40625 \r\n",
       "Q 24.171875 66.40625 20.328125 58.90625 \r\n",
       "Q 16.5 51.421875 16.5 36.375 \r\n",
       "Q 16.5 21.390625 20.328125 13.890625 \r\n",
       "Q 24.171875 6.390625 31.78125 6.390625 \r\n",
       "Q 39.453125 6.390625 43.28125 13.890625 \r\n",
       "Q 47.125 21.390625 47.125 36.375 \r\n",
       "Q 47.125 51.421875 43.28125 58.90625 \r\n",
       "Q 39.453125 66.40625 31.78125 66.40625 \r\n",
       "z\r\n",
       "M 31.78125 74.21875 \r\n",
       "Q 44.046875 74.21875 50.515625 64.515625 \r\n",
       "Q 56.984375 54.828125 56.984375 36.375 \r\n",
       "Q 56.984375 17.96875 50.515625 8.265625 \r\n",
       "Q 44.046875 -1.421875 31.78125 -1.421875 \r\n",
       "Q 19.53125 -1.421875 13.0625 8.265625 \r\n",
       "Q 6.59375 17.96875 6.59375 36.375 \r\n",
       "Q 6.59375 54.828125 13.0625 64.515625 \r\n",
       "Q 19.53125 74.21875 31.78125 74.21875 \r\n",
       "z\r\n",
       "\" id=\"DejaVuSans-48\"/>\r\n",
       "      </defs>\r\n",
       "      <g transform=\"translate(62.180682 266.418437)scale(0.1 -0.1)\">\r\n",
       "       <use xlink:href=\"#DejaVuSans-48\"/>\r\n",
       "      </g>\r\n",
       "     </g>\r\n",
       "    </g>\r\n",
       "    <g id=\"xtick_2\">\r\n",
       "     <g id=\"line2d_2\">\r\n",
       "      <g>\r\n",
       "       <use style=\"stroke:#000000;stroke-width:0.8;\" x=\"126.356649\" xlink:href=\"#mfb4e1cb01c\" y=\"251.82\"/>\r\n",
       "      </g>\r\n",
       "     </g>\r\n",
       "     <g id=\"text_2\">\r\n",
       "      <!-- 100 -->\r\n",
       "      <defs>\r\n",
       "       <path d=\"M 12.40625 8.296875 \r\n",
       "L 28.515625 8.296875 \r\n",
       "L 28.515625 63.921875 \r\n",
       "L 10.984375 60.40625 \r\n",
       "L 10.984375 69.390625 \r\n",
       "L 28.421875 72.90625 \r\n",
       "L 38.28125 72.90625 \r\n",
       "L 38.28125 8.296875 \r\n",
       "L 54.390625 8.296875 \r\n",
       "L 54.390625 0 \r\n",
       "L 12.40625 0 \r\n",
       "z\r\n",
       "\" id=\"DejaVuSans-49\"/>\r\n",
       "      </defs>\r\n",
       "      <g transform=\"translate(116.812899 266.418437)scale(0.1 -0.1)\">\r\n",
       "       <use xlink:href=\"#DejaVuSans-49\"/>\r\n",
       "       <use x=\"63.623047\" xlink:href=\"#DejaVuSans-48\"/>\r\n",
       "       <use x=\"127.246094\" xlink:href=\"#DejaVuSans-48\"/>\r\n",
       "      </g>\r\n",
       "     </g>\r\n",
       "    </g>\r\n",
       "    <g id=\"xtick_3\">\r\n",
       "     <g id=\"line2d_3\">\r\n",
       "      <g>\r\n",
       "       <use style=\"stroke:#000000;stroke-width:0.8;\" x=\"187.351365\" xlink:href=\"#mfb4e1cb01c\" y=\"251.82\"/>\r\n",
       "      </g>\r\n",
       "     </g>\r\n",
       "     <g id=\"text_3\">\r\n",
       "      <!-- 200 -->\r\n",
       "      <defs>\r\n",
       "       <path d=\"M 19.1875 8.296875 \r\n",
       "L 53.609375 8.296875 \r\n",
       "L 53.609375 0 \r\n",
       "L 7.328125 0 \r\n",
       "L 7.328125 8.296875 \r\n",
       "Q 12.9375 14.109375 22.625 23.890625 \r\n",
       "Q 32.328125 33.6875 34.8125 36.53125 \r\n",
       "Q 39.546875 41.84375 41.421875 45.53125 \r\n",
       "Q 43.3125 49.21875 43.3125 52.78125 \r\n",
       "Q 43.3125 58.59375 39.234375 62.25 \r\n",
       "Q 35.15625 65.921875 28.609375 65.921875 \r\n",
       "Q 23.96875 65.921875 18.8125 64.3125 \r\n",
       "Q 13.671875 62.703125 7.8125 59.421875 \r\n",
       "L 7.8125 69.390625 \r\n",
       "Q 13.765625 71.78125 18.9375 73 \r\n",
       "Q 24.125 74.21875 28.421875 74.21875 \r\n",
       "Q 39.75 74.21875 46.484375 68.546875 \r\n",
       "Q 53.21875 62.890625 53.21875 53.421875 \r\n",
       "Q 53.21875 48.921875 51.53125 44.890625 \r\n",
       "Q 49.859375 40.875 45.40625 35.40625 \r\n",
       "Q 44.1875 33.984375 37.640625 27.21875 \r\n",
       "Q 31.109375 20.453125 19.1875 8.296875 \r\n",
       "z\r\n",
       "\" id=\"DejaVuSans-50\"/>\r\n",
       "      </defs>\r\n",
       "      <g transform=\"translate(177.807615 266.418437)scale(0.1 -0.1)\">\r\n",
       "       <use xlink:href=\"#DejaVuSans-50\"/>\r\n",
       "       <use x=\"63.623047\" xlink:href=\"#DejaVuSans-48\"/>\r\n",
       "       <use x=\"127.246094\" xlink:href=\"#DejaVuSans-48\"/>\r\n",
       "      </g>\r\n",
       "     </g>\r\n",
       "    </g>\r\n",
       "    <g id=\"xtick_4\">\r\n",
       "     <g id=\"line2d_4\">\r\n",
       "      <g>\r\n",
       "       <use style=\"stroke:#000000;stroke-width:0.8;\" x=\"248.346082\" xlink:href=\"#mfb4e1cb01c\" y=\"251.82\"/>\r\n",
       "      </g>\r\n",
       "     </g>\r\n",
       "     <g id=\"text_4\">\r\n",
       "      <!-- 300 -->\r\n",
       "      <defs>\r\n",
       "       <path d=\"M 40.578125 39.3125 \r\n",
       "Q 47.65625 37.796875 51.625 33 \r\n",
       "Q 55.609375 28.21875 55.609375 21.1875 \r\n",
       "Q 55.609375 10.40625 48.1875 4.484375 \r\n",
       "Q 40.765625 -1.421875 27.09375 -1.421875 \r\n",
       "Q 22.515625 -1.421875 17.65625 -0.515625 \r\n",
       "Q 12.796875 0.390625 7.625 2.203125 \r\n",
       "L 7.625 11.71875 \r\n",
       "Q 11.71875 9.328125 16.59375 8.109375 \r\n",
       "Q 21.484375 6.890625 26.8125 6.890625 \r\n",
       "Q 36.078125 6.890625 40.9375 10.546875 \r\n",
       "Q 45.796875 14.203125 45.796875 21.1875 \r\n",
       "Q 45.796875 27.640625 41.28125 31.265625 \r\n",
       "Q 36.765625 34.90625 28.71875 34.90625 \r\n",
       "L 20.21875 34.90625 \r\n",
       "L 20.21875 43.015625 \r\n",
       "L 29.109375 43.015625 \r\n",
       "Q 36.375 43.015625 40.234375 45.921875 \r\n",
       "Q 44.09375 48.828125 44.09375 54.296875 \r\n",
       "Q 44.09375 59.90625 40.109375 62.90625 \r\n",
       "Q 36.140625 65.921875 28.71875 65.921875 \r\n",
       "Q 24.65625 65.921875 20.015625 65.03125 \r\n",
       "Q 15.375 64.15625 9.8125 62.3125 \r\n",
       "L 9.8125 71.09375 \r\n",
       "Q 15.4375 72.65625 20.34375 73.4375 \r\n",
       "Q 25.25 74.21875 29.59375 74.21875 \r\n",
       "Q 40.828125 74.21875 47.359375 69.109375 \r\n",
       "Q 53.90625 64.015625 53.90625 55.328125 \r\n",
       "Q 53.90625 49.265625 50.4375 45.09375 \r\n",
       "Q 46.96875 40.921875 40.578125 39.3125 \r\n",
       "z\r\n",
       "\" id=\"DejaVuSans-51\"/>\r\n",
       "      </defs>\r\n",
       "      <g transform=\"translate(238.802332 266.418437)scale(0.1 -0.1)\">\r\n",
       "       <use xlink:href=\"#DejaVuSans-51\"/>\r\n",
       "       <use x=\"63.623047\" xlink:href=\"#DejaVuSans-48\"/>\r\n",
       "       <use x=\"127.246094\" xlink:href=\"#DejaVuSans-48\"/>\r\n",
       "      </g>\r\n",
       "     </g>\r\n",
       "    </g>\r\n",
       "    <g id=\"xtick_5\">\r\n",
       "     <g id=\"line2d_5\">\r\n",
       "      <g>\r\n",
       "       <use style=\"stroke:#000000;stroke-width:0.8;\" x=\"309.340799\" xlink:href=\"#mfb4e1cb01c\" y=\"251.82\"/>\r\n",
       "      </g>\r\n",
       "     </g>\r\n",
       "     <g id=\"text_5\">\r\n",
       "      <!-- 400 -->\r\n",
       "      <defs>\r\n",
       "       <path d=\"M 37.796875 64.3125 \r\n",
       "L 12.890625 25.390625 \r\n",
       "L 37.796875 25.390625 \r\n",
       "z\r\n",
       "M 35.203125 72.90625 \r\n",
       "L 47.609375 72.90625 \r\n",
       "L 47.609375 25.390625 \r\n",
       "L 58.015625 25.390625 \r\n",
       "L 58.015625 17.1875 \r\n",
       "L 47.609375 17.1875 \r\n",
       "L 47.609375 0 \r\n",
       "L 37.796875 0 \r\n",
       "L 37.796875 17.1875 \r\n",
       "L 4.890625 17.1875 \r\n",
       "L 4.890625 26.703125 \r\n",
       "z\r\n",
       "\" id=\"DejaVuSans-52\"/>\r\n",
       "      </defs>\r\n",
       "      <g transform=\"translate(299.797049 266.418437)scale(0.1 -0.1)\">\r\n",
       "       <use xlink:href=\"#DejaVuSans-52\"/>\r\n",
       "       <use x=\"63.623047\" xlink:href=\"#DejaVuSans-48\"/>\r\n",
       "       <use x=\"127.246094\" xlink:href=\"#DejaVuSans-48\"/>\r\n",
       "      </g>\r\n",
       "     </g>\r\n",
       "    </g>\r\n",
       "    <g id=\"xtick_6\">\r\n",
       "     <g id=\"line2d_6\">\r\n",
       "      <g>\r\n",
       "       <use style=\"stroke:#000000;stroke-width:0.8;\" x=\"370.335515\" xlink:href=\"#mfb4e1cb01c\" y=\"251.82\"/>\r\n",
       "      </g>\r\n",
       "     </g>\r\n",
       "     <g id=\"text_6\">\r\n",
       "      <!-- 500 -->\r\n",
       "      <defs>\r\n",
       "       <path d=\"M 10.796875 72.90625 \r\n",
       "L 49.515625 72.90625 \r\n",
       "L 49.515625 64.59375 \r\n",
       "L 19.828125 64.59375 \r\n",
       "L 19.828125 46.734375 \r\n",
       "Q 21.96875 47.46875 24.109375 47.828125 \r\n",
       "Q 26.265625 48.1875 28.421875 48.1875 \r\n",
       "Q 40.625 48.1875 47.75 41.5 \r\n",
       "Q 54.890625 34.8125 54.890625 23.390625 \r\n",
       "Q 54.890625 11.625 47.5625 5.09375 \r\n",
       "Q 40.234375 -1.421875 26.90625 -1.421875 \r\n",
       "Q 22.3125 -1.421875 17.546875 -0.640625 \r\n",
       "Q 12.796875 0.140625 7.71875 1.703125 \r\n",
       "L 7.71875 11.625 \r\n",
       "Q 12.109375 9.234375 16.796875 8.0625 \r\n",
       "Q 21.484375 6.890625 26.703125 6.890625 \r\n",
       "Q 35.15625 6.890625 40.078125 11.328125 \r\n",
       "Q 45.015625 15.765625 45.015625 23.390625 \r\n",
       "Q 45.015625 31 40.078125 35.4375 \r\n",
       "Q 35.15625 39.890625 26.703125 39.890625 \r\n",
       "Q 22.75 39.890625 18.8125 39.015625 \r\n",
       "Q 14.890625 38.140625 10.796875 36.28125 \r\n",
       "z\r\n",
       "\" id=\"DejaVuSans-53\"/>\r\n",
       "      </defs>\r\n",
       "      <g transform=\"translate(360.791765 266.418437)scale(0.1 -0.1)\">\r\n",
       "       <use xlink:href=\"#DejaVuSans-53\"/>\r\n",
       "       <use x=\"63.623047\" xlink:href=\"#DejaVuSans-48\"/>\r\n",
       "       <use x=\"127.246094\" xlink:href=\"#DejaVuSans-48\"/>\r\n",
       "      </g>\r\n",
       "     </g>\r\n",
       "    </g>\r\n",
       "    <g id=\"text_7\">\r\n",
       "     <!-- Groups of experiments -->\r\n",
       "     <defs>\r\n",
       "      <path d=\"M 59.515625 10.40625 \r\n",
       "L 59.515625 29.984375 \r\n",
       "L 43.40625 29.984375 \r\n",
       "L 43.40625 38.09375 \r\n",
       "L 69.28125 38.09375 \r\n",
       "L 69.28125 6.78125 \r\n",
       "Q 63.578125 2.734375 56.6875 0.65625 \r\n",
       "Q 49.8125 -1.421875 42 -1.421875 \r\n",
       "Q 24.90625 -1.421875 15.25 8.5625 \r\n",
       "Q 5.609375 18.5625 5.609375 36.375 \r\n",
       "Q 5.609375 54.25 15.25 64.234375 \r\n",
       "Q 24.90625 74.21875 42 74.21875 \r\n",
       "Q 49.125 74.21875 55.546875 72.453125 \r\n",
       "Q 61.96875 70.703125 67.390625 67.28125 \r\n",
       "L 67.390625 56.78125 \r\n",
       "Q 61.921875 61.421875 55.765625 63.765625 \r\n",
       "Q 49.609375 66.109375 42.828125 66.109375 \r\n",
       "Q 29.4375 66.109375 22.71875 58.640625 \r\n",
       "Q 16.015625 51.171875 16.015625 36.375 \r\n",
       "Q 16.015625 21.625 22.71875 14.15625 \r\n",
       "Q 29.4375 6.6875 42.828125 6.6875 \r\n",
       "Q 48.046875 6.6875 52.140625 7.59375 \r\n",
       "Q 56.25 8.5 59.515625 10.40625 \r\n",
       "z\r\n",
       "\" id=\"DejaVuSans-71\"/>\r\n",
       "      <path d=\"M 41.109375 46.296875 \r\n",
       "Q 39.59375 47.171875 37.8125 47.578125 \r\n",
       "Q 36.03125 48 33.890625 48 \r\n",
       "Q 26.265625 48 22.1875 43.046875 \r\n",
       "Q 18.109375 38.09375 18.109375 28.8125 \r\n",
       "L 18.109375 0 \r\n",
       "L 9.078125 0 \r\n",
       "L 9.078125 54.6875 \r\n",
       "L 18.109375 54.6875 \r\n",
       "L 18.109375 46.1875 \r\n",
       "Q 20.953125 51.171875 25.484375 53.578125 \r\n",
       "Q 30.03125 56 36.53125 56 \r\n",
       "Q 37.453125 56 38.578125 55.875 \r\n",
       "Q 39.703125 55.765625 41.0625 55.515625 \r\n",
       "z\r\n",
       "\" id=\"DejaVuSans-114\"/>\r\n",
       "      <path d=\"M 30.609375 48.390625 \r\n",
       "Q 23.390625 48.390625 19.1875 42.75 \r\n",
       "Q 14.984375 37.109375 14.984375 27.296875 \r\n",
       "Q 14.984375 17.484375 19.15625 11.84375 \r\n",
       "Q 23.34375 6.203125 30.609375 6.203125 \r\n",
       "Q 37.796875 6.203125 41.984375 11.859375 \r\n",
       "Q 46.1875 17.53125 46.1875 27.296875 \r\n",
       "Q 46.1875 37.015625 41.984375 42.703125 \r\n",
       "Q 37.796875 48.390625 30.609375 48.390625 \r\n",
       "z\r\n",
       "M 30.609375 56 \r\n",
       "Q 42.328125 56 49.015625 48.375 \r\n",
       "Q 55.71875 40.765625 55.71875 27.296875 \r\n",
       "Q 55.71875 13.875 49.015625 6.21875 \r\n",
       "Q 42.328125 -1.421875 30.609375 -1.421875 \r\n",
       "Q 18.84375 -1.421875 12.171875 6.21875 \r\n",
       "Q 5.515625 13.875 5.515625 27.296875 \r\n",
       "Q 5.515625 40.765625 12.171875 48.375 \r\n",
       "Q 18.84375 56 30.609375 56 \r\n",
       "z\r\n",
       "\" id=\"DejaVuSans-111\"/>\r\n",
       "      <path d=\"M 8.5 21.578125 \r\n",
       "L 8.5 54.6875 \r\n",
       "L 17.484375 54.6875 \r\n",
       "L 17.484375 21.921875 \r\n",
       "Q 17.484375 14.15625 20.5 10.265625 \r\n",
       "Q 23.53125 6.390625 29.59375 6.390625 \r\n",
       "Q 36.859375 6.390625 41.078125 11.03125 \r\n",
       "Q 45.3125 15.671875 45.3125 23.6875 \r\n",
       "L 45.3125 54.6875 \r\n",
       "L 54.296875 54.6875 \r\n",
       "L 54.296875 0 \r\n",
       "L 45.3125 0 \r\n",
       "L 45.3125 8.40625 \r\n",
       "Q 42.046875 3.421875 37.71875 1 \r\n",
       "Q 33.40625 -1.421875 27.6875 -1.421875 \r\n",
       "Q 18.265625 -1.421875 13.375 4.4375 \r\n",
       "Q 8.5 10.296875 8.5 21.578125 \r\n",
       "z\r\n",
       "M 31.109375 56 \r\n",
       "z\r\n",
       "\" id=\"DejaVuSans-117\"/>\r\n",
       "      <path d=\"M 18.109375 8.203125 \r\n",
       "L 18.109375 -20.796875 \r\n",
       "L 9.078125 -20.796875 \r\n",
       "L 9.078125 54.6875 \r\n",
       "L 18.109375 54.6875 \r\n",
       "L 18.109375 46.390625 \r\n",
       "Q 20.953125 51.265625 25.265625 53.625 \r\n",
       "Q 29.59375 56 35.59375 56 \r\n",
       "Q 45.5625 56 51.78125 48.09375 \r\n",
       "Q 58.015625 40.1875 58.015625 27.296875 \r\n",
       "Q 58.015625 14.40625 51.78125 6.484375 \r\n",
       "Q 45.5625 -1.421875 35.59375 -1.421875 \r\n",
       "Q 29.59375 -1.421875 25.265625 0.953125 \r\n",
       "Q 20.953125 3.328125 18.109375 8.203125 \r\n",
       "z\r\n",
       "M 48.6875 27.296875 \r\n",
       "Q 48.6875 37.203125 44.609375 42.84375 \r\n",
       "Q 40.53125 48.484375 33.40625 48.484375 \r\n",
       "Q 26.265625 48.484375 22.1875 42.84375 \r\n",
       "Q 18.109375 37.203125 18.109375 27.296875 \r\n",
       "Q 18.109375 17.390625 22.1875 11.75 \r\n",
       "Q 26.265625 6.109375 33.40625 6.109375 \r\n",
       "Q 40.53125 6.109375 44.609375 11.75 \r\n",
       "Q 48.6875 17.390625 48.6875 27.296875 \r\n",
       "z\r\n",
       "\" id=\"DejaVuSans-112\"/>\r\n",
       "      <path d=\"M 44.28125 53.078125 \r\n",
       "L 44.28125 44.578125 \r\n",
       "Q 40.484375 46.53125 36.375 47.5 \r\n",
       "Q 32.28125 48.484375 27.875 48.484375 \r\n",
       "Q 21.1875 48.484375 17.84375 46.4375 \r\n",
       "Q 14.5 44.390625 14.5 40.28125 \r\n",
       "Q 14.5 37.15625 16.890625 35.375 \r\n",
       "Q 19.28125 33.59375 26.515625 31.984375 \r\n",
       "L 29.59375 31.296875 \r\n",
       "Q 39.15625 29.25 43.1875 25.515625 \r\n",
       "Q 47.21875 21.78125 47.21875 15.09375 \r\n",
       "Q 47.21875 7.46875 41.1875 3.015625 \r\n",
       "Q 35.15625 -1.421875 24.609375 -1.421875 \r\n",
       "Q 20.21875 -1.421875 15.453125 -0.5625 \r\n",
       "Q 10.6875 0.296875 5.421875 2 \r\n",
       "L 5.421875 11.28125 \r\n",
       "Q 10.40625 8.6875 15.234375 7.390625 \r\n",
       "Q 20.0625 6.109375 24.8125 6.109375 \r\n",
       "Q 31.15625 6.109375 34.5625 8.28125 \r\n",
       "Q 37.984375 10.453125 37.984375 14.40625 \r\n",
       "Q 37.984375 18.0625 35.515625 20.015625 \r\n",
       "Q 33.0625 21.96875 24.703125 23.78125 \r\n",
       "L 21.578125 24.515625 \r\n",
       "Q 13.234375 26.265625 9.515625 29.90625 \r\n",
       "Q 5.8125 33.546875 5.8125 39.890625 \r\n",
       "Q 5.8125 47.609375 11.28125 51.796875 \r\n",
       "Q 16.75 56 26.8125 56 \r\n",
       "Q 31.78125 56 36.171875 55.265625 \r\n",
       "Q 40.578125 54.546875 44.28125 53.078125 \r\n",
       "z\r\n",
       "\" id=\"DejaVuSans-115\"/>\r\n",
       "      <path id=\"DejaVuSans-32\"/>\r\n",
       "      <path d=\"M 37.109375 75.984375 \r\n",
       "L 37.109375 68.5 \r\n",
       "L 28.515625 68.5 \r\n",
       "Q 23.6875 68.5 21.796875 66.546875 \r\n",
       "Q 19.921875 64.59375 19.921875 59.515625 \r\n",
       "L 19.921875 54.6875 \r\n",
       "L 34.71875 54.6875 \r\n",
       "L 34.71875 47.703125 \r\n",
       "L 19.921875 47.703125 \r\n",
       "L 19.921875 0 \r\n",
       "L 10.890625 0 \r\n",
       "L 10.890625 47.703125 \r\n",
       "L 2.296875 47.703125 \r\n",
       "L 2.296875 54.6875 \r\n",
       "L 10.890625 54.6875 \r\n",
       "L 10.890625 58.5 \r\n",
       "Q 10.890625 67.625 15.140625 71.796875 \r\n",
       "Q 19.390625 75.984375 28.609375 75.984375 \r\n",
       "z\r\n",
       "\" id=\"DejaVuSans-102\"/>\r\n",
       "      <path d=\"M 56.203125 29.59375 \r\n",
       "L 56.203125 25.203125 \r\n",
       "L 14.890625 25.203125 \r\n",
       "Q 15.484375 15.921875 20.484375 11.0625 \r\n",
       "Q 25.484375 6.203125 34.421875 6.203125 \r\n",
       "Q 39.59375 6.203125 44.453125 7.46875 \r\n",
       "Q 49.3125 8.734375 54.109375 11.28125 \r\n",
       "L 54.109375 2.78125 \r\n",
       "Q 49.265625 0.734375 44.1875 -0.34375 \r\n",
       "Q 39.109375 -1.421875 33.890625 -1.421875 \r\n",
       "Q 20.796875 -1.421875 13.15625 6.1875 \r\n",
       "Q 5.515625 13.8125 5.515625 26.8125 \r\n",
       "Q 5.515625 40.234375 12.765625 48.109375 \r\n",
       "Q 20.015625 56 32.328125 56 \r\n",
       "Q 43.359375 56 49.78125 48.890625 \r\n",
       "Q 56.203125 41.796875 56.203125 29.59375 \r\n",
       "z\r\n",
       "M 47.21875 32.234375 \r\n",
       "Q 47.125 39.59375 43.09375 43.984375 \r\n",
       "Q 39.0625 48.390625 32.421875 48.390625 \r\n",
       "Q 24.90625 48.390625 20.390625 44.140625 \r\n",
       "Q 15.875 39.890625 15.1875 32.171875 \r\n",
       "z\r\n",
       "\" id=\"DejaVuSans-101\"/>\r\n",
       "      <path d=\"M 54.890625 54.6875 \r\n",
       "L 35.109375 28.078125 \r\n",
       "L 55.90625 0 \r\n",
       "L 45.3125 0 \r\n",
       "L 29.390625 21.484375 \r\n",
       "L 13.484375 0 \r\n",
       "L 2.875 0 \r\n",
       "L 24.125 28.609375 \r\n",
       "L 4.6875 54.6875 \r\n",
       "L 15.28125 54.6875 \r\n",
       "L 29.78125 35.203125 \r\n",
       "L 44.28125 54.6875 \r\n",
       "z\r\n",
       "\" id=\"DejaVuSans-120\"/>\r\n",
       "      <path d=\"M 9.421875 54.6875 \r\n",
       "L 18.40625 54.6875 \r\n",
       "L 18.40625 0 \r\n",
       "L 9.421875 0 \r\n",
       "z\r\n",
       "M 9.421875 75.984375 \r\n",
       "L 18.40625 75.984375 \r\n",
       "L 18.40625 64.59375 \r\n",
       "L 9.421875 64.59375 \r\n",
       "z\r\n",
       "\" id=\"DejaVuSans-105\"/>\r\n",
       "      <path d=\"M 52 44.1875 \r\n",
       "Q 55.375 50.25 60.0625 53.125 \r\n",
       "Q 64.75 56 71.09375 56 \r\n",
       "Q 79.640625 56 84.28125 50.015625 \r\n",
       "Q 88.921875 44.046875 88.921875 33.015625 \r\n",
       "L 88.921875 0 \r\n",
       "L 79.890625 0 \r\n",
       "L 79.890625 32.71875 \r\n",
       "Q 79.890625 40.578125 77.09375 44.375 \r\n",
       "Q 74.3125 48.1875 68.609375 48.1875 \r\n",
       "Q 61.625 48.1875 57.5625 43.546875 \r\n",
       "Q 53.515625 38.921875 53.515625 30.90625 \r\n",
       "L 53.515625 0 \r\n",
       "L 44.484375 0 \r\n",
       "L 44.484375 32.71875 \r\n",
       "Q 44.484375 40.625 41.703125 44.40625 \r\n",
       "Q 38.921875 48.1875 33.109375 48.1875 \r\n",
       "Q 26.21875 48.1875 22.15625 43.53125 \r\n",
       "Q 18.109375 38.875 18.109375 30.90625 \r\n",
       "L 18.109375 0 \r\n",
       "L 9.078125 0 \r\n",
       "L 9.078125 54.6875 \r\n",
       "L 18.109375 54.6875 \r\n",
       "L 18.109375 46.1875 \r\n",
       "Q 21.1875 51.21875 25.484375 53.609375 \r\n",
       "Q 29.78125 56 35.6875 56 \r\n",
       "Q 41.65625 56 45.828125 52.96875 \r\n",
       "Q 50 49.953125 52 44.1875 \r\n",
       "z\r\n",
       "\" id=\"DejaVuSans-109\"/>\r\n",
       "      <path d=\"M 54.890625 33.015625 \r\n",
       "L 54.890625 0 \r\n",
       "L 45.90625 0 \r\n",
       "L 45.90625 32.71875 \r\n",
       "Q 45.90625 40.484375 42.875 44.328125 \r\n",
       "Q 39.84375 48.1875 33.796875 48.1875 \r\n",
       "Q 26.515625 48.1875 22.3125 43.546875 \r\n",
       "Q 18.109375 38.921875 18.109375 30.90625 \r\n",
       "L 18.109375 0 \r\n",
       "L 9.078125 0 \r\n",
       "L 9.078125 54.6875 \r\n",
       "L 18.109375 54.6875 \r\n",
       "L 18.109375 46.1875 \r\n",
       "Q 21.34375 51.125 25.703125 53.5625 \r\n",
       "Q 30.078125 56 35.796875 56 \r\n",
       "Q 45.21875 56 50.046875 50.171875 \r\n",
       "Q 54.890625 44.34375 54.890625 33.015625 \r\n",
       "z\r\n",
       "\" id=\"DejaVuSans-110\"/>\r\n",
       "      <path d=\"M 18.3125 70.21875 \r\n",
       "L 18.3125 54.6875 \r\n",
       "L 36.8125 54.6875 \r\n",
       "L 36.8125 47.703125 \r\n",
       "L 18.3125 47.703125 \r\n",
       "L 18.3125 18.015625 \r\n",
       "Q 18.3125 11.328125 20.140625 9.421875 \r\n",
       "Q 21.96875 7.515625 27.59375 7.515625 \r\n",
       "L 36.8125 7.515625 \r\n",
       "L 36.8125 0 \r\n",
       "L 27.59375 0 \r\n",
       "Q 17.1875 0 13.234375 3.875 \r\n",
       "Q 9.28125 7.765625 9.28125 18.015625 \r\n",
       "L 9.28125 47.703125 \r\n",
       "L 2.6875 47.703125 \r\n",
       "L 2.6875 54.6875 \r\n",
       "L 9.28125 54.6875 \r\n",
       "L 9.28125 70.21875 \r\n",
       "z\r\n",
       "\" id=\"DejaVuSans-116\"/>\r\n",
       "     </defs>\r\n",
       "     <g transform=\"translate(160.397656 280.096562)scale(0.1 -0.1)\">\r\n",
       "      <use xlink:href=\"#DejaVuSans-71\"/>\r\n",
       "      <use x=\"77.490234\" xlink:href=\"#DejaVuSans-114\"/>\r\n",
       "      <use x=\"116.353516\" xlink:href=\"#DejaVuSans-111\"/>\r\n",
       "      <use x=\"177.535156\" xlink:href=\"#DejaVuSans-117\"/>\r\n",
       "      <use x=\"240.914062\" xlink:href=\"#DejaVuSans-112\"/>\r\n",
       "      <use x=\"304.390625\" xlink:href=\"#DejaVuSans-115\"/>\r\n",
       "      <use x=\"356.490234\" xlink:href=\"#DejaVuSans-32\"/>\r\n",
       "      <use x=\"388.277344\" xlink:href=\"#DejaVuSans-111\"/>\r\n",
       "      <use x=\"449.458984\" xlink:href=\"#DejaVuSans-102\"/>\r\n",
       "      <use x=\"484.664062\" xlink:href=\"#DejaVuSans-32\"/>\r\n",
       "      <use x=\"516.451172\" xlink:href=\"#DejaVuSans-101\"/>\r\n",
       "      <use x=\"576.224609\" xlink:href=\"#DejaVuSans-120\"/>\r\n",
       "      <use x=\"635.404297\" xlink:href=\"#DejaVuSans-112\"/>\r\n",
       "      <use x=\"698.880859\" xlink:href=\"#DejaVuSans-101\"/>\r\n",
       "      <use x=\"760.404297\" xlink:href=\"#DejaVuSans-114\"/>\r\n",
       "      <use x=\"801.517578\" xlink:href=\"#DejaVuSans-105\"/>\r\n",
       "      <use x=\"829.300781\" xlink:href=\"#DejaVuSans-109\"/>\r\n",
       "      <use x=\"926.712891\" xlink:href=\"#DejaVuSans-101\"/>\r\n",
       "      <use x=\"988.236328\" xlink:href=\"#DejaVuSans-110\"/>\r\n",
       "      <use x=\"1051.615234\" xlink:href=\"#DejaVuSans-116\"/>\r\n",
       "      <use x=\"1090.824219\" xlink:href=\"#DejaVuSans-115\"/>\r\n",
       "     </g>\r\n",
       "    </g>\r\n",
       "   </g>\r\n",
       "   <g id=\"matplotlib.axis_2\">\r\n",
       "    <g id=\"ytick_1\">\r\n",
       "     <g id=\"line2d_7\">\r\n",
       "      <defs>\r\n",
       "       <path d=\"M 0 0 \r\n",
       "L -3.5 0 \r\n",
       "\" id=\"m097e25801e\" style=\"stroke:#000000;stroke-width:0.8;\"/>\r\n",
       "      </defs>\r\n",
       "      <g>\r\n",
       "       <use style=\"stroke:#000000;stroke-width:0.8;\" x=\"50.14375\" xlink:href=\"#m097e25801e\" y=\"240.700909\"/>\r\n",
       "      </g>\r\n",
       "     </g>\r\n",
       "     <g id=\"text_8\">\r\n",
       "      <!-- 0.00 -->\r\n",
       "      <defs>\r\n",
       "       <path d=\"M 10.6875 12.40625 \r\n",
       "L 21 12.40625 \r\n",
       "L 21 0 \r\n",
       "L 10.6875 0 \r\n",
       "z\r\n",
       "\" id=\"DejaVuSans-46\"/>\r\n",
       "      </defs>\r\n",
       "      <g transform=\"translate(20.878125 244.500128)scale(0.1 -0.1)\">\r\n",
       "       <use xlink:href=\"#DejaVuSans-48\"/>\r\n",
       "       <use x=\"63.623047\" xlink:href=\"#DejaVuSans-46\"/>\r\n",
       "       <use x=\"95.410156\" xlink:href=\"#DejaVuSans-48\"/>\r\n",
       "       <use x=\"159.033203\" xlink:href=\"#DejaVuSans-48\"/>\r\n",
       "      </g>\r\n",
       "     </g>\r\n",
       "    </g>\r\n",
       "    <g id=\"ytick_2\">\r\n",
       "     <g id=\"line2d_8\">\r\n",
       "      <g>\r\n",
       "       <use style=\"stroke:#000000;stroke-width:0.8;\" x=\"50.14375\" xlink:href=\"#m097e25801e\" y=\"203.637274\"/>\r\n",
       "      </g>\r\n",
       "     </g>\r\n",
       "     <g id=\"text_9\">\r\n",
       "      <!-- 0.05 -->\r\n",
       "      <g transform=\"translate(20.878125 207.436493)scale(0.1 -0.1)\">\r\n",
       "       <use xlink:href=\"#DejaVuSans-48\"/>\r\n",
       "       <use x=\"63.623047\" xlink:href=\"#DejaVuSans-46\"/>\r\n",
       "       <use x=\"95.410156\" xlink:href=\"#DejaVuSans-48\"/>\r\n",
       "       <use x=\"159.033203\" xlink:href=\"#DejaVuSans-53\"/>\r\n",
       "      </g>\r\n",
       "     </g>\r\n",
       "    </g>\r\n",
       "    <g id=\"ytick_3\">\r\n",
       "     <g id=\"line2d_9\">\r\n",
       "      <g>\r\n",
       "       <use style=\"stroke:#000000;stroke-width:0.8;\" x=\"50.14375\" xlink:href=\"#m097e25801e\" y=\"166.573639\"/>\r\n",
       "      </g>\r\n",
       "     </g>\r\n",
       "     <g id=\"text_10\">\r\n",
       "      <!-- 0.10 -->\r\n",
       "      <g transform=\"translate(20.878125 170.372858)scale(0.1 -0.1)\">\r\n",
       "       <use xlink:href=\"#DejaVuSans-48\"/>\r\n",
       "       <use x=\"63.623047\" xlink:href=\"#DejaVuSans-46\"/>\r\n",
       "       <use x=\"95.410156\" xlink:href=\"#DejaVuSans-49\"/>\r\n",
       "       <use x=\"159.033203\" xlink:href=\"#DejaVuSans-48\"/>\r\n",
       "      </g>\r\n",
       "     </g>\r\n",
       "    </g>\r\n",
       "    <g id=\"ytick_4\">\r\n",
       "     <g id=\"line2d_10\">\r\n",
       "      <g>\r\n",
       "       <use style=\"stroke:#000000;stroke-width:0.8;\" x=\"50.14375\" xlink:href=\"#m097e25801e\" y=\"129.510004\"/>\r\n",
       "      </g>\r\n",
       "     </g>\r\n",
       "     <g id=\"text_11\">\r\n",
       "      <!-- 0.15 -->\r\n",
       "      <g transform=\"translate(20.878125 133.309223)scale(0.1 -0.1)\">\r\n",
       "       <use xlink:href=\"#DejaVuSans-48\"/>\r\n",
       "       <use x=\"63.623047\" xlink:href=\"#DejaVuSans-46\"/>\r\n",
       "       <use x=\"95.410156\" xlink:href=\"#DejaVuSans-49\"/>\r\n",
       "       <use x=\"159.033203\" xlink:href=\"#DejaVuSans-53\"/>\r\n",
       "      </g>\r\n",
       "     </g>\r\n",
       "    </g>\r\n",
       "    <g id=\"ytick_5\">\r\n",
       "     <g id=\"line2d_11\">\r\n",
       "      <g>\r\n",
       "       <use style=\"stroke:#000000;stroke-width:0.8;\" x=\"50.14375\" xlink:href=\"#m097e25801e\" y=\"92.44637\"/>\r\n",
       "      </g>\r\n",
       "     </g>\r\n",
       "     <g id=\"text_12\">\r\n",
       "      <!-- 0.20 -->\r\n",
       "      <g transform=\"translate(20.878125 96.245588)scale(0.1 -0.1)\">\r\n",
       "       <use xlink:href=\"#DejaVuSans-48\"/>\r\n",
       "       <use x=\"63.623047\" xlink:href=\"#DejaVuSans-46\"/>\r\n",
       "       <use x=\"95.410156\" xlink:href=\"#DejaVuSans-50\"/>\r\n",
       "       <use x=\"159.033203\" xlink:href=\"#DejaVuSans-48\"/>\r\n",
       "      </g>\r\n",
       "     </g>\r\n",
       "    </g>\r\n",
       "    <g id=\"ytick_6\">\r\n",
       "     <g id=\"line2d_12\">\r\n",
       "      <g>\r\n",
       "       <use style=\"stroke:#000000;stroke-width:0.8;\" x=\"50.14375\" xlink:href=\"#m097e25801e\" y=\"55.382735\"/>\r\n",
       "      </g>\r\n",
       "     </g>\r\n",
       "     <g id=\"text_13\">\r\n",
       "      <!-- 0.25 -->\r\n",
       "      <g transform=\"translate(20.878125 59.181953)scale(0.1 -0.1)\">\r\n",
       "       <use xlink:href=\"#DejaVuSans-48\"/>\r\n",
       "       <use x=\"63.623047\" xlink:href=\"#DejaVuSans-46\"/>\r\n",
       "       <use x=\"95.410156\" xlink:href=\"#DejaVuSans-50\"/>\r\n",
       "       <use x=\"159.033203\" xlink:href=\"#DejaVuSans-53\"/>\r\n",
       "      </g>\r\n",
       "     </g>\r\n",
       "    </g>\r\n",
       "    <g id=\"ytick_7\">\r\n",
       "     <g id=\"line2d_13\">\r\n",
       "      <g>\r\n",
       "       <use style=\"stroke:#000000;stroke-width:0.8;\" x=\"50.14375\" xlink:href=\"#m097e25801e\" y=\"18.3191\"/>\r\n",
       "      </g>\r\n",
       "     </g>\r\n",
       "     <g id=\"text_14\">\r\n",
       "      <!-- 0.30 -->\r\n",
       "      <g transform=\"translate(20.878125 22.118318)scale(0.1 -0.1)\">\r\n",
       "       <use xlink:href=\"#DejaVuSans-48\"/>\r\n",
       "       <use x=\"63.623047\" xlink:href=\"#DejaVuSans-46\"/>\r\n",
       "       <use x=\"95.410156\" xlink:href=\"#DejaVuSans-51\"/>\r\n",
       "       <use x=\"159.033203\" xlink:href=\"#DejaVuSans-48\"/>\r\n",
       "      </g>\r\n",
       "     </g>\r\n",
       "    </g>\r\n",
       "    <g id=\"text_15\">\r\n",
       "     <!-- Estimated probability -->\r\n",
       "     <defs>\r\n",
       "      <path d=\"M 9.8125 72.90625 \r\n",
       "L 55.90625 72.90625 \r\n",
       "L 55.90625 64.59375 \r\n",
       "L 19.671875 64.59375 \r\n",
       "L 19.671875 43.015625 \r\n",
       "L 54.390625 43.015625 \r\n",
       "L 54.390625 34.71875 \r\n",
       "L 19.671875 34.71875 \r\n",
       "L 19.671875 8.296875 \r\n",
       "L 56.78125 8.296875 \r\n",
       "L 56.78125 0 \r\n",
       "L 9.8125 0 \r\n",
       "z\r\n",
       "\" id=\"DejaVuSans-69\"/>\r\n",
       "      <path d=\"M 34.28125 27.484375 \r\n",
       "Q 23.390625 27.484375 19.1875 25 \r\n",
       "Q 14.984375 22.515625 14.984375 16.5 \r\n",
       "Q 14.984375 11.71875 18.140625 8.90625 \r\n",
       "Q 21.296875 6.109375 26.703125 6.109375 \r\n",
       "Q 34.1875 6.109375 38.703125 11.40625 \r\n",
       "Q 43.21875 16.703125 43.21875 25.484375 \r\n",
       "L 43.21875 27.484375 \r\n",
       "z\r\n",
       "M 52.203125 31.203125 \r\n",
       "L 52.203125 0 \r\n",
       "L 43.21875 0 \r\n",
       "L 43.21875 8.296875 \r\n",
       "Q 40.140625 3.328125 35.546875 0.953125 \r\n",
       "Q 30.953125 -1.421875 24.3125 -1.421875 \r\n",
       "Q 15.921875 -1.421875 10.953125 3.296875 \r\n",
       "Q 6 8.015625 6 15.921875 \r\n",
       "Q 6 25.140625 12.171875 29.828125 \r\n",
       "Q 18.359375 34.515625 30.609375 34.515625 \r\n",
       "L 43.21875 34.515625 \r\n",
       "L 43.21875 35.40625 \r\n",
       "Q 43.21875 41.609375 39.140625 45 \r\n",
       "Q 35.0625 48.390625 27.6875 48.390625 \r\n",
       "Q 23 48.390625 18.546875 47.265625 \r\n",
       "Q 14.109375 46.140625 10.015625 43.890625 \r\n",
       "L 10.015625 52.203125 \r\n",
       "Q 14.9375 54.109375 19.578125 55.046875 \r\n",
       "Q 24.21875 56 28.609375 56 \r\n",
       "Q 40.484375 56 46.34375 49.84375 \r\n",
       "Q 52.203125 43.703125 52.203125 31.203125 \r\n",
       "z\r\n",
       "\" id=\"DejaVuSans-97\"/>\r\n",
       "      <path d=\"M 45.40625 46.390625 \r\n",
       "L 45.40625 75.984375 \r\n",
       "L 54.390625 75.984375 \r\n",
       "L 54.390625 0 \r\n",
       "L 45.40625 0 \r\n",
       "L 45.40625 8.203125 \r\n",
       "Q 42.578125 3.328125 38.25 0.953125 \r\n",
       "Q 33.9375 -1.421875 27.875 -1.421875 \r\n",
       "Q 17.96875 -1.421875 11.734375 6.484375 \r\n",
       "Q 5.515625 14.40625 5.515625 27.296875 \r\n",
       "Q 5.515625 40.1875 11.734375 48.09375 \r\n",
       "Q 17.96875 56 27.875 56 \r\n",
       "Q 33.9375 56 38.25 53.625 \r\n",
       "Q 42.578125 51.265625 45.40625 46.390625 \r\n",
       "z\r\n",
       "M 14.796875 27.296875 \r\n",
       "Q 14.796875 17.390625 18.875 11.75 \r\n",
       "Q 22.953125 6.109375 30.078125 6.109375 \r\n",
       "Q 37.203125 6.109375 41.296875 11.75 \r\n",
       "Q 45.40625 17.390625 45.40625 27.296875 \r\n",
       "Q 45.40625 37.203125 41.296875 42.84375 \r\n",
       "Q 37.203125 48.484375 30.078125 48.484375 \r\n",
       "Q 22.953125 48.484375 18.875 42.84375 \r\n",
       "Q 14.796875 37.203125 14.796875 27.296875 \r\n",
       "z\r\n",
       "\" id=\"DejaVuSans-100\"/>\r\n",
       "      <path d=\"M 48.6875 27.296875 \r\n",
       "Q 48.6875 37.203125 44.609375 42.84375 \r\n",
       "Q 40.53125 48.484375 33.40625 48.484375 \r\n",
       "Q 26.265625 48.484375 22.1875 42.84375 \r\n",
       "Q 18.109375 37.203125 18.109375 27.296875 \r\n",
       "Q 18.109375 17.390625 22.1875 11.75 \r\n",
       "Q 26.265625 6.109375 33.40625 6.109375 \r\n",
       "Q 40.53125 6.109375 44.609375 11.75 \r\n",
       "Q 48.6875 17.390625 48.6875 27.296875 \r\n",
       "z\r\n",
       "M 18.109375 46.390625 \r\n",
       "Q 20.953125 51.265625 25.265625 53.625 \r\n",
       "Q 29.59375 56 35.59375 56 \r\n",
       "Q 45.5625 56 51.78125 48.09375 \r\n",
       "Q 58.015625 40.1875 58.015625 27.296875 \r\n",
       "Q 58.015625 14.40625 51.78125 6.484375 \r\n",
       "Q 45.5625 -1.421875 35.59375 -1.421875 \r\n",
       "Q 29.59375 -1.421875 25.265625 0.953125 \r\n",
       "Q 20.953125 3.328125 18.109375 8.203125 \r\n",
       "L 18.109375 0 \r\n",
       "L 9.078125 0 \r\n",
       "L 9.078125 75.984375 \r\n",
       "L 18.109375 75.984375 \r\n",
       "z\r\n",
       "\" id=\"DejaVuSans-98\"/>\r\n",
       "      <path d=\"M 9.421875 75.984375 \r\n",
       "L 18.40625 75.984375 \r\n",
       "L 18.40625 0 \r\n",
       "L 9.421875 0 \r\n",
       "z\r\n",
       "\" id=\"DejaVuSans-108\"/>\r\n",
       "      <path d=\"M 32.171875 -5.078125 \r\n",
       "Q 28.375 -14.84375 24.75 -17.8125 \r\n",
       "Q 21.140625 -20.796875 15.09375 -20.796875 \r\n",
       "L 7.90625 -20.796875 \r\n",
       "L 7.90625 -13.28125 \r\n",
       "L 13.1875 -13.28125 \r\n",
       "Q 16.890625 -13.28125 18.9375 -11.515625 \r\n",
       "Q 21 -9.765625 23.484375 -3.21875 \r\n",
       "L 25.09375 0.875 \r\n",
       "L 2.984375 54.6875 \r\n",
       "L 12.5 54.6875 \r\n",
       "L 29.59375 11.921875 \r\n",
       "L 46.6875 54.6875 \r\n",
       "L 56.203125 54.6875 \r\n",
       "z\r\n",
       "\" id=\"DejaVuSans-121\"/>\r\n",
       "     </defs>\r\n",
       "     <g transform=\"translate(14.798438 183.033437)rotate(-90)scale(0.1 -0.1)\">\r\n",
       "      <use xlink:href=\"#DejaVuSans-69\"/>\r\n",
       "      <use x=\"63.183594\" xlink:href=\"#DejaVuSans-115\"/>\r\n",
       "      <use x=\"115.283203\" xlink:href=\"#DejaVuSans-116\"/>\r\n",
       "      <use x=\"154.492188\" xlink:href=\"#DejaVuSans-105\"/>\r\n",
       "      <use x=\"182.275391\" xlink:href=\"#DejaVuSans-109\"/>\r\n",
       "      <use x=\"279.6875\" xlink:href=\"#DejaVuSans-97\"/>\r\n",
       "      <use x=\"340.966797\" xlink:href=\"#DejaVuSans-116\"/>\r\n",
       "      <use x=\"380.175781\" xlink:href=\"#DejaVuSans-101\"/>\r\n",
       "      <use x=\"441.699219\" xlink:href=\"#DejaVuSans-100\"/>\r\n",
       "      <use x=\"505.175781\" xlink:href=\"#DejaVuSans-32\"/>\r\n",
       "      <use x=\"536.962891\" xlink:href=\"#DejaVuSans-112\"/>\r\n",
       "      <use x=\"600.439453\" xlink:href=\"#DejaVuSans-114\"/>\r\n",
       "      <use x=\"639.302734\" xlink:href=\"#DejaVuSans-111\"/>\r\n",
       "      <use x=\"700.484375\" xlink:href=\"#DejaVuSans-98\"/>\r\n",
       "      <use x=\"763.960938\" xlink:href=\"#DejaVuSans-97\"/>\r\n",
       "      <use x=\"825.240234\" xlink:href=\"#DejaVuSans-98\"/>\r\n",
       "      <use x=\"888.716797\" xlink:href=\"#DejaVuSans-105\"/>\r\n",
       "      <use x=\"916.5\" xlink:href=\"#DejaVuSans-108\"/>\r\n",
       "      <use x=\"944.283203\" xlink:href=\"#DejaVuSans-105\"/>\r\n",
       "      <use x=\"972.066406\" xlink:href=\"#DejaVuSans-116\"/>\r\n",
       "      <use x=\"1011.275391\" xlink:href=\"#DejaVuSans-121\"/>\r\n",
       "     </g>\r\n",
       "    </g>\r\n",
       "   </g>\r\n",
       "   <g id=\"line2d_14\">\r\n",
       "    <path clip-path=\"url(#pf2962341e9)\" d=\"M 65.361932 240.700909 \r\n",
       "L 65.971879 240.700909 \r\n",
       "L 66.581826 215.991818 \r\n",
       "L 67.191773 185.105455 \r\n",
       "L 67.80172 196.224548 \r\n",
       "L 68.411668 191.282727 \r\n",
       "L 69.021615 187.752857 \r\n",
       "L 69.631562 185.105455 \r\n",
       "L 70.241509 174.810001 \r\n",
       "L 72.071351 129.51 \r\n",
       "L 72.681298 138.063146 \r\n",
       "L 73.901192 131.980918 \r\n",
       "L 74.511139 129.51 \r\n",
       "L 75.731034 117.155456 \r\n",
       "L 76.340981 115.854976 \r\n",
       "L 76.950928 110.978189 \r\n",
       "L 77.560875 113.625586 \r\n",
       "L 78.170822 105.924051 \r\n",
       "L 78.780769 111.783916 \r\n",
       "L 79.390717 110.978189 \r\n",
       "L 80.000664 107.271818 \r\n",
       "L 81.220558 111.664555 \r\n",
       "L 81.830505 110.978189 \r\n",
       "L 82.440452 115.451383 \r\n",
       "L 83.0504 117.155456 \r\n",
       "L 83.660347 113.967189 \r\n",
       "L 84.270294 113.294664 \r\n",
       "L 84.880241 110.416619 \r\n",
       "L 85.490188 112.068291 \r\n",
       "L 86.100135 109.389744 \r\n",
       "L 87.32003 112.480764 \r\n",
       "L 87.929977 110.002832 \r\n",
       "L 88.539924 111.453358 \r\n",
       "L 90.369766 104.800912 \r\n",
       "L 90.979713 99.341933 \r\n",
       "L 91.58966 95.815785 \r\n",
       "L 92.199607 94.093642 \r\n",
       "L 92.809554 94.057832 \r\n",
       "L 93.419502 90.869189 \r\n",
       "L 94.029449 92.446367 \r\n",
       "L 94.639396 89.420761 \r\n",
       "L 95.249343 92.446367 \r\n",
       "L 95.85929 90.992892 \r\n",
       "L 97.689132 99.31001 \r\n",
       "L 98.299079 100.532982 \r\n",
       "L 98.909026 99.06487 \r\n",
       "L 99.518973 100.249237 \r\n",
       "L 100.12892 100.11471 \r\n",
       "L 100.738868 101.24113 \r\n",
       "L 101.958762 100.952778 \r\n",
       "L 103.178656 103.035977 \r\n",
       "L 103.788603 101.712278 \r\n",
       "L 104.398551 102.710147 \r\n",
       "L 105.008498 100.308354 \r\n",
       "L 105.618445 100.191014 \r\n",
       "L 106.838339 102.115142 \r\n",
       "L 107.448286 101.977014 \r\n",
       "L 108.058234 102.886825 \r\n",
       "L 109.278128 106.662564 \r\n",
       "L 109.888075 104.467007 \r\n",
       "L 110.498022 106.28346 \r\n",
       "L 111.107969 106.101392 \r\n",
       "L 111.717917 107.849437 \r\n",
       "L 113.547758 110.051599 \r\n",
       "L 114.157705 108.919093 \r\n",
       "L 114.767652 109.622204 \r\n",
       "L 115.987547 107.448319 \r\n",
       "L 117.207441 108.823326 \r\n",
       "L 118.427335 106.766405 \r\n",
       "L 119.037283 104.939724 \r\n",
       "L 119.64723 104.800912 \r\n",
       "L 120.257177 103.035977 \r\n",
       "L 121.477071 101.214112 \r\n",
       "L 122.087018 101.120841 \r\n",
       "L 122.696966 99.468949 \r\n",
       "L 123.306913 100.94012 \r\n",
       "L 123.91686 101.616754 \r\n",
       "L 124.526807 103.035977 \r\n",
       "L 125.136754 102.180257 \r\n",
       "L 126.356649 101.987507 \r\n",
       "L 126.966596 101.167222 \r\n",
       "L 127.576543 101.082556 \r\n",
       "L 128.18649 99.573995 \r\n",
       "L 128.796437 98.800135 \r\n",
       "L 129.406384 99.439512 \r\n",
       "L 130.016332 100.759708 \r\n",
       "L 131.236226 100.607166 \r\n",
       "L 131.846173 99.185215 \r\n",
       "L 132.45612 100.460124 \r\n",
       "L 133.066067 100.38858 \r\n",
       "L 133.676015 100.974285 \r\n",
       "L 134.285962 100.899482 \r\n",
       "L 134.895909 100.181393 \r\n",
       "L 135.505856 101.392767 \r\n",
       "L 136.115803 101.316297 \r\n",
       "L 136.72575 102.497526 \r\n",
       "L 137.945645 102.330005 \r\n",
       "L 139.165539 103.38318 \r\n",
       "L 139.775486 102.691601 \r\n",
       "L 140.385433 103.206778 \r\n",
       "L 140.995381 103.120698 \r\n",
       "L 141.605328 104.2126 \r\n",
       "L 142.825222 102.870521 \r\n",
       "L 144.045116 102.710147 \r\n",
       "L 144.655064 103.76351 \r\n",
       "L 145.265011 103.677772 \r\n",
       "L 146.484905 104.616524 \r\n",
       "L 147.094852 103.97728 \r\n",
       "L 147.704799 103.892492 \r\n",
       "L 148.314747 104.350021 \r\n",
       "L 148.924694 105.33807 \r\n",
       "L 149.534641 105.778611 \r\n",
       "L 150.144588 106.742348 \r\n",
       "L 151.364482 106.540993 \r\n",
       "L 152.584377 107.374776 \r\n",
       "L 153.194324 106.760606 \r\n",
       "L 153.804271 106.662564 \r\n",
       "L 155.024165 107.472167 \r\n",
       "L 155.634113 107.371319 \r\n",
       "L 156.24406 108.260187 \r\n",
       "L 156.854007 108.155462 \r\n",
       "L 157.463954 107.564433 \r\n",
       "L 158.073901 107.950109 \r\n",
       "L 158.683848 107.368094 \r\n",
       "L 159.293796 107.271818 \r\n",
       "L 159.903743 106.226441 \r\n",
       "L 160.51369 107.082968 \r\n",
       "L 161.733584 107.831278 \r\n",
       "L 162.343531 108.661714 \r\n",
       "L 162.953479 108.100575 \r\n",
       "L 163.563426 108.46152 \r\n",
       "L 164.173373 107.453732 \r\n",
       "L 164.78332 107.362217 \r\n",
       "L 165.393267 106.822562 \r\n",
       "L 166.613162 107.538144 \r\n",
       "L 167.223109 107.448319 \r\n",
       "L 167.833056 108.236792 \r\n",
       "L 168.443003 108.143908 \r\n",
       "L 169.05295 108.919093 \r\n",
       "L 169.662897 108.823326 \r\n",
       "L 170.882792 109.487124 \r\n",
       "L 171.492739 108.542574 \r\n",
       "L 172.102686 108.029948 \r\n",
       "L 172.712633 107.941902 \r\n",
       "L 173.932528 109.425246 \r\n",
       "L 174.542475 109.742736 \r\n",
       "L 175.152422 110.466259 \r\n",
       "L 175.762369 110.367245 \r\n",
       "L 176.372316 109.054117 \r\n",
       "L 176.982263 109.366725 \r\n",
       "L 177.592211 109.275266 \r\n",
       "L 178.812105 109.888077 \r\n",
       "L 179.422052 109.006719 \r\n",
       "L 180.031999 109.311308 \r\n",
       "L 180.641946 110.002832 \r\n",
       "L 181.861841 109.819946 \r\n",
       "L 182.471788 110.498093 \r\n",
       "L 183.081735 110.022935 \r\n",
       "L 183.691682 110.312943 \r\n",
       "L 184.301629 110.978189 \r\n",
       "L 184.911577 110.507836 \r\n",
       "L 186.741418 111.348821 \r\n",
       "L 187.351365 111.254777 \r\n",
       "L 187.961312 111.528636 \r\n",
       "L 188.57126 111.434636 \r\n",
       "L 189.181207 111.704927 \r\n",
       "L 189.791154 111.610982 \r\n",
       "L 190.401101 111.877794 \r\n",
       "L 191.011048 111.783916 \r\n",
       "L 191.620995 112.047326 \r\n",
       "L 192.230943 112.662898 \r\n",
       "L 192.84089 112.919614 \r\n",
       "L 193.450837 112.471275 \r\n",
       "L 194.060784 112.726467 \r\n",
       "L 194.670731 113.327294 \r\n",
       "L 195.890626 113.82261 \r\n",
       "L 196.500573 113.037274 \r\n",
       "L 197.11052 111.917592 \r\n",
       "L 197.720467 112.168299 \r\n",
       "L 198.330414 111.739766 \r\n",
       "L 200.160256 112.480764 \r\n",
       "L 200.770203 112.390928 \r\n",
       "L 201.38015 112.963742 \r\n",
       "L 201.990097 112.543095 \r\n",
       "L 202.600044 112.782171 \r\n",
       "L 203.209992 112.366031 \r\n",
       "L 203.819939 112.278669 \r\n",
       "L 204.429886 112.515757 \r\n",
       "L 205.039833 112.428506 \r\n",
       "L 206.259727 113.534303 \r\n",
       "L 206.869675 113.125652 \r\n",
       "L 207.479622 113.354058 \r\n",
       "L 208.089569 113.895966 \r\n",
       "L 209.309463 114.340505 \r\n",
       "L 209.91941 113.937045 \r\n",
       "L 210.529358 114.157288 \r\n",
       "L 211.139305 113.449096 \r\n",
       "L 211.749252 113.054362 \r\n",
       "L 212.969146 112.884754 \r\n",
       "L 213.579093 112.497189 \r\n",
       "L 214.189041 112.717906 \r\n",
       "L 214.798988 112.334175 \r\n",
       "L 216.018882 112.771589 \r\n",
       "L 216.628829 112.392265 \r\n",
       "L 217.238776 112.312481 \r\n",
       "L 217.848724 112.823991 \r\n",
       "L 218.458671 112.743124 \r\n",
       "L 220.898459 113.584219 \r\n",
       "L 221.508407 114.07884 \r\n",
       "L 222.118354 114.282304 \r\n",
       "L 222.728301 114.198003 \r\n",
       "L 223.338248 113.544134 \r\n",
       "L 223.948195 113.747311 \r\n",
       "L 224.558142 113.383075 \r\n",
       "L 225.16809 113.585324 \r\n",
       "L 225.778037 113.505253 \r\n",
       "L 226.387984 113.705514 \r\n",
       "L 228.827773 113.389393 \r\n",
       "L 229.43772 113.586373 \r\n",
       "L 230.047667 114.055423 \r\n",
       "L 230.657614 113.975982 \r\n",
       "L 231.267561 114.168643 \r\n",
       "L 231.877508 114.089367 \r\n",
       "L 232.487456 113.741114 \r\n",
       "L 233.097403 113.932538 \r\n",
       "L 233.70735 113.854964 \r\n",
       "L 234.317297 113.511317 \r\n",
       "L 235.537191 113.890332 \r\n",
       "L 236.147139 114.341609 \r\n",
       "L 236.757086 114.263968 \r\n",
       "L 237.367033 114.710739 \r\n",
       "L 237.97698 114.893359 \r\n",
       "L 238.586927 115.334795 \r\n",
       "L 239.806822 115.691851 \r\n",
       "L 240.416769 116.125919 \r\n",
       "L 241.026716 116.300476 \r\n",
       "L 241.636663 115.706995 \r\n",
       "L 243.466505 116.227816 \r\n",
       "L 247.126188 115.750593 \r\n",
       "L 247.736135 115.425823 \r\n",
       "L 248.346082 115.842019 \r\n",
       "L 248.956029 115.519094 \r\n",
       "L 249.565976 115.442944 \r\n",
       "L 252.005765 116.109151 \r\n",
       "L 252.615712 115.550973 \r\n",
       "L 253.225659 115.476203 \r\n",
       "L 253.835606 115.641029 \r\n",
       "L 254.445554 116.043152 \r\n",
       "L 255.665448 116.366033 \r\n",
       "L 256.275395 116.28985 \r\n",
       "L 256.885342 115.743512 \r\n",
       "L 257.495289 116.138942 \r\n",
       "L 259.325131 116.613249 \r\n",
       "L 259.935078 116.306087 \r\n",
       "L 260.545025 116.462684 \r\n",
       "L 261.154972 116.388091 \r\n",
       "L 262.374867 117.155456 \r\n",
       "L 263.594761 116.549106 \r\n",
       "L 264.204708 116.70208 \r\n",
       "L 264.814655 116.402131 \r\n",
       "L 265.424603 116.329317 \r\n",
       "L 266.03455 116.032316 \r\n",
       "L 267.254444 116.783333 \r\n",
       "L 268.474338 117.081482 \r\n",
       "L 269.084286 117.007939 \r\n",
       "L 269.694233 116.71423 \r\n",
       "L 270.30418 116.862178 \r\n",
       "L 270.914127 116.132005 \r\n",
       "L 272.134021 116.864763 \r\n",
       "L 272.743969 117.010535 \r\n",
       "L 273.353916 116.938715 \r\n",
       "L 273.963863 116.651192 \r\n",
       "L 274.57381 116.796312 \r\n",
       "L 275.183757 116.72574 \r\n",
       "L 275.793704 116.8698 \r\n",
       "L 277.013599 116.303425 \r\n",
       "L 277.623546 116.235062 \r\n",
       "L 278.84344 116.521889 \r\n",
       "L 279.453387 116.453494 \r\n",
       "L 280.063335 116.595477 \r\n",
       "L 280.673282 116.527258 \r\n",
       "L 281.283229 116.668236 \r\n",
       "L 281.893176 116.183755 \r\n",
       "L 282.503123 115.909619 \r\n",
       "L 283.11307 116.051138 \r\n",
       "L 283.723018 115.572424 \r\n",
       "L 284.332965 115.714097 \r\n",
       "L 284.942912 116.060318 \r\n",
       "L 285.552859 115.790313 \r\n",
       "L 286.162806 115.726005 \r\n",
       "L 286.772753 116.069342 \r\n",
       "L 287.382701 116.207713 \r\n",
       "L 288.602595 116.078223 \r\n",
       "L 289.212542 115.812571 \r\n",
       "L 289.822489 115.347475 \r\n",
       "L 290.432436 115.485924 \r\n",
       "L 291.042384 114.824411 \r\n",
       "L 291.652331 114.963522 \r\n",
       "L 292.262278 115.300619 \r\n",
       "L 292.872225 115.041318 \r\n",
       "L 294.092119 115.31542 \r\n",
       "L 295.921961 113.960882 \r\n",
       "L 297.141855 113.458827 \r\n",
       "L 297.751802 113.403819 \r\n",
       "L 299.581644 112.662898 \r\n",
       "L 301.411485 112.506589 \r\n",
       "L 302.021433 112.645578 \r\n",
       "L 302.63138 112.973927 \r\n",
       "L 303.851274 112.490992 \r\n",
       "L 305.071168 112.389238 \r\n",
       "L 305.681116 112.714074 \r\n",
       "L 306.291063 112.662898 \r\n",
       "L 307.510957 112.933808 \r\n",
       "L 309.340799 112.780536 \r\n",
       "L 309.950746 112.545558 \r\n",
       "L 310.560693 112.679622 \r\n",
       "L 311.17064 112.62954 \r\n",
       "L 311.780587 112.76273 \r\n",
       "L 313.000482 112.662898 \r\n",
       "L 314.220376 112.201558 \r\n",
       "L 316.050217 112.057709 \r\n",
       "L 316.660165 111.830739 \r\n",
       "L 317.270112 111.962969 \r\n",
       "L 318.490006 111.15638 \r\n",
       "L 319.099953 110.933741 \r\n",
       "L 319.7099 111.066854 \r\n",
       "L 320.319848 111.376248 \r\n",
       "L 320.929795 111.507671 \r\n",
       "L 321.539742 111.286312 \r\n",
       "L 322.149689 111.592989 \r\n",
       "L 322.759636 111.547723 \r\n",
       "L 323.369583 111.153011 \r\n",
       "L 323.979531 111.283418 \r\n",
       "L 325.809372 111.151377 \r\n",
       "L 326.419319 111.280569 \r\n",
       "L 327.029266 111.06438 \r\n",
       "L 327.639214 111.193174 \r\n",
       "L 328.249161 110.978189 \r\n",
       "L 328.859108 110.935387 \r\n",
       "L 329.469055 111.234386 \r\n",
       "L 330.079002 111.361601 \r\n",
       "L 330.688949 111.318224 \r\n",
       "L 331.298897 111.105404 \r\n",
       "L 331.908844 111.232044 \r\n",
       "L 332.518791 110.851549 \r\n",
       "L 333.128738 110.978189 \r\n",
       "L 333.738685 111.272339 \r\n",
       "L 334.348632 111.062038 \r\n",
       "L 336.788421 111.559906 \r\n",
       "L 338.008315 110.812723 \r\n",
       "L 338.618263 111.102013 \r\n",
       "L 339.22821 111.060547 \r\n",
       "L 341.058051 111.919095 \r\n",
       "L 341.667998 112.039483 \r\n",
       "L 342.277946 111.8335 \r\n",
       "L 344.107787 112.192059 \r\n",
       "L 344.717734 111.987546 \r\n",
       "L 345.937629 112.224357 \r\n",
       "L 346.547576 112.021103 \r\n",
       "L 347.157523 112.299027 \r\n",
       "L 347.76747 111.936735 \r\n",
       "L 348.377417 111.894816 \r\n",
       "L 348.987365 112.012156 \r\n",
       "L 349.597312 112.287716 \r\n",
       "L 350.817206 112.519214 \r\n",
       "L 351.427153 112.4765 \r\n",
       "L 352.0371 112.591365 \r\n",
       "L 352.647048 112.548684 \r\n",
       "L 353.256995 112.662898 \r\n",
       "L 353.866942 112.62025 \r\n",
       "L 354.476889 112.421713 \r\n",
       "L 355.086836 112.37975 \r\n",
       "L 355.696783 112.493367 \r\n",
       "L 356.306731 112.451426 \r\n",
       "L 356.916678 112.564414 \r\n",
       "L 357.526625 112.522506 \r\n",
       "L 358.136572 112.634875 \r\n",
       "L 358.746519 112.592989 \r\n",
       "L 359.356466 112.39781 \r\n",
       "L 361.186308 112.732222 \r\n",
       "L 361.796255 112.995002 \r\n",
       "L 362.406202 113.104786 \r\n",
       "L 363.016149 113.062547 \r\n",
       "L 363.626097 113.171746 \r\n",
       "L 364.236044 112.978566 \r\n",
       "L 364.845991 113.238165 \r\n",
       "L 365.455938 113.195992 \r\n",
       "L 367.28578 113.518839 \r\n",
       "L 367.895727 113.476445 \r\n",
       "L 368.505674 113.285364 \r\n",
       "L 369.725568 113.202001 \r\n",
       "L 369.725568 113.202001 \r\n",
       "\" style=\"fill:none;stroke:#1f77b4;stroke-linecap:square;stroke-width:1.5;\"/>\r\n",
       "   </g>\r\n",
       "   <g id=\"line2d_15\">\r\n",
       "    <path clip-path=\"url(#pf2962341e9)\" d=\"M 65.361932 166.573638 \r\n",
       "L 66.581826 166.573638 \r\n",
       "L 67.80172 92.446367 \r\n",
       "L 68.411668 92.446367 \r\n",
       "L 69.021615 113.625586 \r\n",
       "L 69.631562 92.446367 \r\n",
       "L 70.851456 92.446367 \r\n",
       "L 71.461403 85.707531 \r\n",
       "L 72.071351 86.269101 \r\n",
       "L 72.681298 98.148465 \r\n",
       "L 73.291245 97.741172 \r\n",
       "L 74.511139 106.345228 \r\n",
       "L 75.121086 105.527649 \r\n",
       "L 75.731034 108.919093 \r\n",
       "L 76.950928 107.271818 \r\n",
       "L 78.170822 112.662898 \r\n",
       "L 78.780769 108.560998 \r\n",
       "L 79.390717 110.978189 \r\n",
       "L 80.000664 110.236915 \r\n",
       "L 80.610611 103.850562 \r\n",
       "L 81.220558 100.68273 \r\n",
       "L 81.830505 103.035977 \r\n",
       "L 82.440452 100.11471 \r\n",
       "L 83.0504 99.859098 \r\n",
       "L 84.880241 105.924051 \r\n",
       "L 85.490188 109.888077 \r\n",
       "L 86.100135 109.389744 \r\n",
       "L 86.710083 113.037274 \r\n",
       "L 87.32003 112.480764 \r\n",
       "L 87.929977 115.854976 \r\n",
       "L 88.539924 117.155456 \r\n",
       "L 89.149871 116.537729 \r\n",
       "L 89.759819 119.566107 \r\n",
       "L 90.979713 121.752496 \r\n",
       "L 91.58966 124.455873 \r\n",
       "L 92.199607 123.744555 \r\n",
       "L 92.809554 124.675618 \r\n",
       "L 93.419502 123.989894 \r\n",
       "L 94.029449 126.421367 \r\n",
       "L 95.85929 128.783262 \r\n",
       "L 97.079185 130.209322 \r\n",
       "L 98.299079 128.836116 \r\n",
       "L 98.909026 126.862603 \r\n",
       "L 99.518973 128.859765 \r\n",
       "L 100.12892 128.231943 \r\n",
       "L 101.348815 129.51 \r\n",
       "L 101.958762 131.332804 \r\n",
       "L 102.568709 128.3144 \r\n",
       "L 103.788603 129.51 \r\n",
       "L 104.398551 126.658951 \r\n",
       "L 105.008498 127.263721 \r\n",
       "L 105.618445 125.637688 \r\n",
       "L 106.228392 125.149573 \r\n",
       "L 106.838339 125.749924 \r\n",
       "L 108.058234 128.987985 \r\n",
       "L 108.668181 129.51 \r\n",
       "L 109.278128 127.986836 \r\n",
       "L 109.888075 129.51 \r\n",
       "L 111.717917 130.954043 \r\n",
       "L 112.327864 130.46035 \r\n",
       "L 112.937811 130.917481 \r\n",
       "L 113.547758 128.58341 \r\n",
       "L 114.157705 129.052427 \r\n",
       "L 114.767652 126.798029 \r\n",
       "L 115.3776 126.384153 \r\n",
       "L 115.987547 124.215195 \r\n",
       "L 116.597494 125.585618 \r\n",
       "L 117.207441 124.338334 \r\n",
       "L 118.427335 126.982936 \r\n",
       "L 119.037283 126.594886 \r\n",
       "L 119.64723 125.391819 \r\n",
       "L 120.257177 125.029781 \r\n",
       "L 120.867124 126.287083 \r\n",
       "L 122.696966 127.559285 \r\n",
       "L 123.306913 126.421367 \r\n",
       "L 125.136754 125.391819 \r\n",
       "L 125.746701 125.80364 \r\n",
       "L 126.356649 126.941238 \r\n",
       "L 127.576543 127.710801 \r\n",
       "L 128.18649 126.658951 \r\n",
       "L 128.796437 127.039093 \r\n",
       "L 129.406384 126.712744 \r\n",
       "L 130.626279 127.450915 \r\n",
       "L 131.236226 126.449699 \r\n",
       "L 132.45612 127.172659 \r\n",
       "L 134.285962 126.258805 \r\n",
       "L 134.895909 126.609367 \r\n",
       "L 135.505856 126.314863 \r\n",
       "L 136.115803 127.292518 \r\n",
       "L 136.72575 126.369021 \r\n",
       "L 137.335698 127.329786 \r\n",
       "L 137.945645 127.65682 \r\n",
       "L 138.555592 127.365829 \r\n",
       "L 139.165539 125.864403 \r\n",
       "L 139.775486 126.798029 \r\n",
       "L 140.385433 127.1188 \r\n",
       "L 140.995381 126.2484 \r\n",
       "L 141.605328 124.803507 \r\n",
       "L 142.215275 125.132407 \r\n",
       "L 142.825222 124.297929 \r\n",
       "L 145.265011 125.579012 \r\n",
       "L 145.874958 126.444596 \r\n",
       "L 146.484905 125.637688 \r\n",
       "L 147.094852 125.940918 \r\n",
       "L 147.704799 125.694629 \r\n",
       "L 148.314747 124.910872 \r\n",
       "L 148.924694 125.749924 \r\n",
       "L 149.534641 124.977037 \r\n",
       "L 150.144588 124.744677 \r\n",
       "L 150.754535 125.567061 \r\n",
       "L 151.364482 125.855843 \r\n",
       "L 152.584377 127.450915 \r\n",
       "L 153.194324 127.209508 \r\n",
       "L 153.804271 127.986836 \r\n",
       "L 154.414218 128.24934 \r\n",
       "L 155.024165 129.009149 \r\n",
       "L 155.634113 127.768758 \r\n",
       "L 156.24406 128.027463 \r\n",
       "L 156.854007 127.300913 \r\n",
       "L 157.463954 127.071612 \r\n",
       "L 158.073901 127.329786 \r\n",
       "L 159.293796 126.87968 \r\n",
       "L 159.903743 127.609301 \r\n",
       "L 161.123637 127.164209 \r\n",
       "L 161.733584 126.479644 \r\n",
       "L 162.343531 127.193525 \r\n",
       "L 163.563426 125.849403 \r\n",
       "L 164.173373 125.64447 \r\n",
       "L 164.78332 124.990049 \r\n",
       "L 165.393267 125.24207 \r\n",
       "L 166.003214 123.258307 \r\n",
       "L 166.613162 123.073808 \r\n",
       "L 167.833056 124.465836 \r\n",
       "L 169.05295 123.224363 \r\n",
       "L 170.272845 122.868544 \r\n",
       "L 170.882792 121.841669 \r\n",
       "L 171.492739 121.673695 \r\n",
       "L 172.712633 122.181041 \r\n",
       "L 173.32258 121.181095 \r\n",
       "L 173.932528 121.848804 \r\n",
       "L 174.542475 122.09728 \r\n",
       "L 175.152422 121.523913 \r\n",
       "L 175.762369 121.364147 \r\n",
       "L 176.372316 121.611198 \r\n",
       "L 176.982263 121.45269 \r\n",
       "L 177.592211 122.09728 \r\n",
       "L 178.202158 121.937867 \r\n",
       "L 178.812105 121.383753 \r\n",
       "L 179.422052 121.624121 \r\n",
       "L 181.251894 121.16583 \r\n",
       "L 181.861841 121.402332 \r\n",
       "L 182.471788 121.252308 \r\n",
       "L 183.081735 120.339624 \r\n",
       "L 183.691682 119.816439 \r\n",
       "L 184.911577 119.53857 \r\n",
       "L 185.521524 119.027358 \r\n",
       "L 186.131471 118.893792 \r\n",
       "L 187.351365 119.36821 \r\n",
       "L 188.57126 118.372661 \r\n",
       "L 189.181207 118.972306 \r\n",
       "L 190.401101 117.995093 \r\n",
       "L 191.011048 117.871667 \r\n",
       "L 191.620995 118.105805 \r\n",
       "L 192.230943 117.983042 \r\n",
       "L 192.84089 118.56741 \r\n",
       "L 193.450837 118.794921 \r\n",
       "L 194.670731 117.851486 \r\n",
       "L 195.280678 118.425549 \r\n",
       "L 195.890626 118.649503 \r\n",
       "L 196.500573 119.214552 \r\n",
       "L 197.11052 119.432795 \r\n",
       "L 197.720467 119.989074 \r\n",
       "L 198.940361 120.412571 \r\n",
       "L 199.550309 120.286019 \r\n",
       "L 200.160256 119.826712 \r\n",
       "L 200.770203 120.036339 \r\n",
       "L 201.38015 119.582245 \r\n",
       "L 201.990097 119.7911 \r\n",
       "L 203.209992 120.856381 \r\n",
       "L 203.819939 121.056896 \r\n",
       "L 204.429886 120.931957 \r\n",
       "L 205.64978 120.04353 \r\n",
       "L 206.259727 120.2441 \r\n",
       "L 206.869675 120.761078 \r\n",
       "L 207.479622 120.640071 \r\n",
       "L 209.309463 122.159833 \r\n",
       "L 209.91941 122.346441 \r\n",
       "L 210.529358 122.221336 \r\n",
       "L 211.139305 122.406143 \r\n",
       "L 211.749252 122.896987 \r\n",
       "L 212.969146 122.646368 \r\n",
       "L 213.579093 122.218795 \r\n",
       "L 215.408935 121.857188 \r\n",
       "L 216.628829 122.216354 \r\n",
       "L 217.238776 121.207749 \r\n",
       "L 217.848724 120.502506 \r\n",
       "L 218.458671 120.979487 \r\n",
       "L 219.068618 120.866709 \r\n",
       "L 219.678565 120.462973 \r\n",
       "L 220.288512 120.934497 \r\n",
       "L 220.898459 120.823211 \r\n",
       "L 221.508407 121.001236 \r\n",
       "L 222.118354 120.603244 \r\n",
       "L 222.728301 121.066937 \r\n",
       "L 223.338248 120.956854 \r\n",
       "L 224.558142 121.305074 \r\n",
       "L 225.16809 121.195344 \r\n",
       "L 225.778037 121.648024 \r\n",
       "L 226.387984 121.537831 \r\n",
       "L 226.997931 121.985806 \r\n",
       "L 227.607878 121.875171 \r\n",
       "L 228.217825 122.041963 \r\n",
       "L 228.827773 121.105244 \r\n",
       "L 229.43772 120.999093 \r\n",
       "L 230.047667 121.167266 \r\n",
       "L 230.657614 120.516623 \r\n",
       "L 231.267561 120.956854 \r\n",
       "L 233.097403 120.646963 \r\n",
       "L 233.70735 120.812761 \r\n",
       "L 234.317297 120.71072 \r\n",
       "L 234.927244 120.875104 \r\n",
       "L 235.537191 121.303052 \r\n",
       "L 236.757086 121.098395 \r\n",
       "L 237.367033 121.521019 \r\n",
       "L 238.586927 121.316992 \r\n",
       "L 239.196874 121.475235 \r\n",
       "L 239.806822 121.374088 \r\n",
       "L 240.416769 121.531027 \r\n",
       "L 241.026716 121.430388 \r\n",
       "L 241.636663 121.841669 \r\n",
       "L 242.24661 121.485916 \r\n",
       "L 244.076452 121.945996 \r\n",
       "L 244.686399 121.594717 \r\n",
       "L 245.296346 121.496244 \r\n",
       "L 245.906293 121.897605 \r\n",
       "L 247.126188 121.204778 \r\n",
       "L 247.736135 121.603101 \r\n",
       "L 248.346082 121.013685 \r\n",
       "L 248.956029 121.164549 \r\n",
       "L 250.175923 120.487937 \r\n",
       "L 250.785871 120.639033 \r\n",
       "L 251.395818 120.546899 \r\n",
       "L 252.005765 120.696824 \r\n",
       "L 253.225659 120.513972 \r\n",
       "L 253.835606 120.18432 \r\n",
       "L 254.445554 120.095125 \r\n",
       "L 255.055501 119.76892 \r\n",
       "L 255.665448 119.918458 \r\n",
       "L 256.275395 119.830964 \r\n",
       "L 256.885342 119.979354 \r\n",
       "L 257.495289 119.657644 \r\n",
       "L 258.105237 120.039487 \r\n",
       "L 258.715184 120.185822 \r\n",
       "L 259.935078 120.012447 \r\n",
       "L 260.545025 120.388425 \r\n",
       "L 261.154972 120.301649 \r\n",
       "L 261.76492 120.444902 \r\n",
       "L 262.374867 120.358491 \r\n",
       "L 262.984814 120.044524 \r\n",
       "L 263.594761 119.505101 \r\n",
       "L 264.814655 119.792105 \r\n",
       "L 265.424603 120.1596 \r\n",
       "L 266.03455 119.851001 \r\n",
       "L 266.644497 119.768202 \r\n",
       "L 267.254444 119.90918 \r\n",
       "L 267.864391 119.826712 \r\n",
       "L 268.474338 119.300864 \r\n",
       "L 269.084286 119.441974 \r\n",
       "L 269.694233 119.802864 \r\n",
       "L 270.30418 119.721688 \r\n",
       "L 270.914127 120.079617 \r\n",
       "L 271.524074 120.216762 \r\n",
       "L 272.134021 119.699044 \r\n",
       "L 272.743969 119.619127 \r\n",
       "L 273.353916 119.756416 \r\n",
       "L 275.183757 119.518942 \r\n",
       "L 276.403652 120.217391 \r\n",
       "L 277.013599 120.350604 \r\n",
       "L 278.84344 120.112103 \r\n",
       "L 280.063335 120.375336 \r\n",
       "L 280.673282 120.296446 \r\n",
       "L 281.893176 120.556432 \r\n",
       "L 282.503123 120.477686 \r\n",
       "L 283.11307 120.813512 \r\n",
       "L 283.723018 120.94097 \r\n",
       "L 284.332965 120.450005 \r\n",
       "L 284.942912 120.37243 \r\n",
       "L 285.552859 120.704832 \r\n",
       "L 286.162806 120.422777 \r\n",
       "L 286.772753 120.753213 \r\n",
       "L 287.382701 120.472572 \r\n",
       "L 287.992648 120.801064 \r\n",
       "L 288.602595 120.925782 \r\n",
       "L 289.822489 121.574967 \r\n",
       "L 290.432436 121.696593 \r\n",
       "L 291.042384 122.017353 \r\n",
       "L 291.652331 121.539333 \r\n",
       "L 292.262278 121.461328 \r\n",
       "L 293.482172 122.09728 \r\n",
       "L 294.092119 121.624121 \r\n",
       "L 294.702067 121.350107 \r\n",
       "L 295.312014 121.469745 \r\n",
       "L 295.921961 121.393164 \r\n",
       "L 297.141855 121.630329 \r\n",
       "L 297.751802 121.359883 \r\n",
       "L 298.36175 121.477941 \r\n",
       "L 298.971697 121.788417 \r\n",
       "L 299.581644 121.90474 \r\n",
       "L 300.191591 121.828425 \r\n",
       "L 300.801538 122.135587 \r\n",
       "L 301.411485 121.676964 \r\n",
       "L 302.021433 121.601831 \r\n",
       "L 302.63138 121.336996 \r\n",
       "L 303.851274 121.189601 \r\n",
       "L 304.461221 121.305074 \r\n",
       "L 305.071168 121.231829 \r\n",
       "L 305.681116 121.534285 \r\n",
       "L 306.90101 121.387752 \r\n",
       "L 307.510957 121.501281 \r\n",
       "L 308.120904 121.428455 \r\n",
       "L 308.730851 120.985363 \r\n",
       "L 309.340799 120.359628 \r\n",
       "L 309.950746 120.658992 \r\n",
       "L 311.17064 120.152354 \r\n",
       "L 311.780587 119.717888 \r\n",
       "L 312.390534 119.468131 \r\n",
       "L 313.000482 119.766004 \r\n",
       "L 313.610429 119.880726 \r\n",
       "L 314.220376 120.176135 \r\n",
       "L 315.44027 120.041188 \r\n",
       "L 316.660165 120.266534 \r\n",
       "L 317.270112 120.020279 \r\n",
       "L 317.880059 120.13246 \r\n",
       "L 319.099953 119.999667 \r\n",
       "L 320.319848 120.575806 \r\n",
       "L 320.929795 119.979354 \r\n",
       "L 321.539742 120.266103 \r\n",
       "L 322.759636 119.784086 \r\n",
       "L 323.369583 120.069267 \r\n",
       "L 325.199425 119.875192 \r\n",
       "L 325.809372 119.637916 \r\n",
       "L 327.639214 119.448646 \r\n",
       "L 328.249161 119.729321 \r\n",
       "L 328.859108 119.666315 \r\n",
       "L 329.469055 119.774399 \r\n",
       "L 330.079002 119.541166 \r\n",
       "L 330.688949 119.819057 \r\n",
       "L 331.908844 119.355585 \r\n",
       "L 333.128738 119.907158 \r\n",
       "L 333.738685 119.844882 \r\n",
       "L 334.348632 119.950602 \r\n",
       "L 334.95858 119.721191 \r\n",
       "L 335.568527 119.826712 \r\n",
       "L 336.178474 120.098339 \r\n",
       "L 336.788421 119.703926 \r\n",
       "L 338.008315 119.913167 \r\n",
       "L 338.618263 119.686905 \r\n",
       "L 339.838157 120.223555 \r\n",
       "L 340.448104 119.834101 \r\n",
       "L 341.058051 119.610004 \r\n",
       "L 341.667998 119.550168 \r\n",
       "L 342.887893 119.756416 \r\n",
       "L 343.49784 119.696658 \r\n",
       "L 344.107787 119.799009 \r\n",
       "L 344.717734 119.577915 \r\n",
       "L 345.327681 119.518942 \r\n",
       "L 345.937629 119.299417 \r\n",
       "L 347.76747 119.605066 \r\n",
       "L 348.377417 119.546667 \r\n",
       "L 349.597312 119.748065 \r\n",
       "L 350.207259 119.372938 \r\n",
       "L 350.817206 119.315533 \r\n",
       "L 352.0371 119.830964 \r\n",
       "L 352.647048 119.772952 \r\n",
       "L 353.256995 119.401746 \r\n",
       "L 354.476889 119.600361 \r\n",
       "L 355.086836 119.543309 \r\n",
       "L 355.696783 119.175704 \r\n",
       "L 356.916678 119.064097 \r\n",
       "L 357.526625 119.163078 \r\n",
       "L 358.746519 119.052212 \r\n",
       "L 359.356466 119.304078 \r\n",
       "L 359.966414 119.248584 \r\n",
       "L 360.576361 119.040481 \r\n",
       "L 361.186308 118.98576 \r\n",
       "L 361.796255 119.235694 \r\n",
       "L 363.016149 118.822944 \r\n",
       "L 363.626097 118.315278 \r\n",
       "L 364.236044 118.26259 \r\n",
       "L 364.845991 118.360776 \r\n",
       "L 365.455938 118.608932 \r\n",
       "L 367.895727 118.398376 \r\n",
       "L 368.505674 118.643958 \r\n",
       "L 369.115621 118.591457 \r\n",
       "L 369.725568 118.687423 \r\n",
       "L 369.725568 118.687423 \r\n",
       "\" style=\"fill:none;stroke:#ff7f0e;stroke-linecap:square;stroke-width:1.5;\"/>\r\n",
       "   </g>\r\n",
       "   <g id=\"line2d_16\">\r\n",
       "    <path clip-path=\"url(#pf2962341e9)\" d=\"M 65.361932 18.319091 \r\n",
       "L 65.971879 55.382735 \r\n",
       "L 66.581826 43.028179 \r\n",
       "L 67.191773 73.914557 \r\n",
       "L 67.80172 62.795466 \r\n",
       "L 68.411668 55.382735 \r\n",
       "L 69.021615 71.267149 \r\n",
       "L 69.631562 83.180456 \r\n",
       "L 70.241509 92.446367 \r\n",
       "L 70.851456 107.271818 \r\n",
       "L 71.461403 105.924051 \r\n",
       "L 72.071351 110.978189 \r\n",
       "L 72.681298 103.850562 \r\n",
       "L 73.291245 113.625586 \r\n",
       "L 73.901192 117.155456 \r\n",
       "L 74.511139 110.978189 \r\n",
       "L 75.121086 118.608932 \r\n",
       "L 75.731034 108.919093 \r\n",
       "L 76.950928 114.684549 \r\n",
       "L 77.560875 117.155456 \r\n",
       "L 78.170822 122.771164 \r\n",
       "L 78.780769 118.229773 \r\n",
       "L 80.000664 128.027463 \r\n",
       "L 80.610611 129.51 \r\n",
       "L 81.220558 128.13728 \r\n",
       "L 82.440452 130.788057 \r\n",
       "L 83.0504 122.09728 \r\n",
       "L 84.270294 124.87705 \r\n",
       "L 84.880241 128.386861 \r\n",
       "L 85.490188 122.969359 \r\n",
       "L 86.100135 124.215195 \r\n",
       "L 86.710083 119.214552 \r\n",
       "L 87.32003 112.480764 \r\n",
       "L 87.929977 115.854976 \r\n",
       "L 88.539924 113.354058 \r\n",
       "L 89.149871 114.684549 \r\n",
       "L 89.759819 112.334175 \r\n",
       "L 90.369766 111.860651 \r\n",
       "L 91.58966 114.347607 \r\n",
       "L 92.199607 113.860917 \r\n",
       "L 93.419502 116.104004 \r\n",
       "L 95.85929 114.248504 \r\n",
       "L 96.469237 113.829238 \r\n",
       "L 97.689132 107.546373 \r\n",
       "L 98.299079 107.271818 \r\n",
       "L 98.909026 108.330781 \r\n",
       "L 99.518973 108.052106 \r\n",
       "L 100.738868 110.035892 \r\n",
       "L 101.348815 109.742736 \r\n",
       "L 101.958762 110.674385 \r\n",
       "L 102.568709 110.380389 \r\n",
       "L 103.788603 112.136421 \r\n",
       "L 104.398551 111.8335 \r\n",
       "L 105.008498 109.29348 \r\n",
       "L 106.838339 108.560998 \r\n",
       "L 107.448286 110.448708 \r\n",
       "L 108.058234 110.195151 \r\n",
       "L 108.668181 108.919093 \r\n",
       "L 109.278128 108.693438 \r\n",
       "L 109.888075 109.475604 \r\n",
       "L 111.107969 112.928904 \r\n",
       "L 111.717917 108.812125 \r\n",
       "L 112.327864 105.751261 \r\n",
       "L 112.937811 105.582845 \r\n",
       "L 114.157705 107.088789 \r\n",
       "L 114.767652 106.006232 \r\n",
       "L 115.3776 107.629062 \r\n",
       "L 115.987547 106.565846 \r\n",
       "L 117.207441 106.237487 \r\n",
       "L 117.817388 105.226938 \r\n",
       "L 118.427335 106.766405 \r\n",
       "L 120.867124 106.143797 \r\n",
       "L 122.696966 103.370389 \r\n",
       "L 123.306913 103.256595 \r\n",
       "L 123.91686 102.380948 \r\n",
       "L 124.526807 103.792384 \r\n",
       "L 125.136754 104.426535 \r\n",
       "L 125.746701 104.306732 \r\n",
       "L 126.356649 104.923233 \r\n",
       "L 127.576543 104.680965 \r\n",
       "L 128.18649 105.988857 \r\n",
       "L 128.796437 105.859875 \r\n",
       "L 129.406384 106.432645 \r\n",
       "L 130.016332 104.916374 \r\n",
       "L 130.626279 104.114546 \r\n",
       "L 131.846173 103.9024 \r\n",
       "L 132.45612 103.131379 \r\n",
       "L 133.066067 101.050424 \r\n",
       "L 133.676015 99.662295 \r\n",
       "L 134.895909 98.247634 \r\n",
       "L 135.505856 99.475676 \r\n",
       "L 136.115803 100.049164 \r\n",
       "L 136.72575 99.356535 \r\n",
       "L 137.335698 100.544304 \r\n",
       "L 137.945645 101.094552 \r\n",
       "L 139.165539 99.737572 \r\n",
       "L 139.775486 100.28096 \r\n",
       "L 140.385433 99.022178 \r\n",
       "L 140.995381 98.37655 \r\n",
       "L 141.605328 98.917795 \r\n",
       "L 142.215275 98.866841 \r\n",
       "L 142.825222 98.23756 \r\n",
       "L 143.435169 99.341933 \r\n",
       "L 144.045116 99.288891 \r\n",
       "L 144.655064 98.6708 \r\n",
       "L 145.265011 98.623645 \r\n",
       "L 145.874958 98.019847 \r\n",
       "L 147.094852 97.93728 \r\n",
       "L 147.704799 96.806795 \r\n",
       "L 148.314747 97.31604 \r\n",
       "L 148.924694 96.743602 \r\n",
       "L 149.534641 97.779269 \r\n",
       "L 150.144588 97.741172 \r\n",
       "L 150.754535 98.755068 \r\n",
       "L 151.364482 99.232668 \r\n",
       "L 151.97443 97.630095 \r\n",
       "L 152.584377 97.594097 \r\n",
       "L 154.414218 99.001843 \r\n",
       "L 155.024165 96.954113 \r\n",
       "L 155.634113 97.421351 \r\n",
       "L 156.24406 97.388192 \r\n",
       "L 156.854007 96.864553 \r\n",
       "L 157.463954 96.835481 \r\n",
       "L 158.073901 97.291287 \r\n",
       "L 158.683848 96.778484 \r\n",
       "L 159.293796 97.707018 \r\n",
       "L 159.903743 97.673295 \r\n",
       "L 160.51369 96.223553 \r\n",
       "L 161.123637 95.73049 \r\n",
       "L 161.733584 96.642256 \r\n",
       "L 162.343531 96.152738 \r\n",
       "L 162.953479 97.050543 \r\n",
       "L 163.563426 96.564549 \r\n",
       "L 164.173373 97.448822 \r\n",
       "L 165.393267 96.48968 \r\n",
       "L 166.003214 96.911863 \r\n",
       "L 166.613162 96.885132 \r\n",
       "L 167.833056 95.955349 \r\n",
       "L 168.443003 96.806795 \r\n",
       "L 169.05295 96.781301 \r\n",
       "L 169.662897 97.187069 \r\n",
       "L 170.272845 98.016622 \r\n",
       "L 171.492739 97.105794 \r\n",
       "L 172.102686 97.079328 \r\n",
       "L 172.712633 97.890743 \r\n",
       "L 173.932528 98.658152 \r\n",
       "L 174.542475 98.211824 \r\n",
       "L 176.372316 100.547706 \r\n",
       "L 176.982263 100.503677 \r\n",
       "L 177.592211 100.860811 \r\n",
       "L 178.202158 100.018512 \r\n",
       "L 178.812105 99.581616 \r\n",
       "L 179.422052 99.543663 \r\n",
       "L 180.031999 99.113903 \r\n",
       "L 181.251894 100.596484 \r\n",
       "L 181.861841 100.554035 \r\n",
       "L 182.471788 99.743868 \r\n",
       "L 183.081735 100.470451 \r\n",
       "L 183.691682 100.049164 \r\n",
       "L 184.301629 100.766778 \r\n",
       "L 184.911577 100.724539 \r\n",
       "L 186.131471 101.386338 \r\n",
       "L 186.741418 101.341647 \r\n",
       "L 187.351365 101.666184 \r\n",
       "L 188.57126 103.035977 \r\n",
       "L 189.181207 103.347436 \r\n",
       "L 189.791154 104.017453 \r\n",
       "L 190.401101 103.601446 \r\n",
       "L 191.011048 103.547553 \r\n",
       "L 192.230943 102.731973 \r\n",
       "L 193.450837 104.039733 \r\n",
       "L 194.060784 103.285734 \r\n",
       "L 194.670731 103.234846 \r\n",
       "L 195.280678 103.530819 \r\n",
       "L 195.890626 102.444937 \r\n",
       "L 196.500573 102.741826 \r\n",
       "L 197.11052 102.694385 \r\n",
       "L 197.720467 102.987408 \r\n",
       "L 198.330414 102.93927 \r\n",
       "L 198.940361 103.565458 \r\n",
       "L 199.550309 103.515144 \r\n",
       "L 200.160256 103.131379 \r\n",
       "L 201.38015 103.697831 \r\n",
       "L 201.990097 103.318374 \r\n",
       "L 202.600044 103.270259 \r\n",
       "L 203.209992 103.549132 \r\n",
       "L 203.819939 102.850197 \r\n",
       "L 204.429886 103.452161 \r\n",
       "L 205.64978 103.998675 \r\n",
       "L 206.259727 103.948881 \r\n",
       "L 207.479622 104.484128 \r\n",
       "L 208.699516 102.497526 \r\n",
       "L 209.309463 102.142336 \r\n",
       "L 209.91941 102.724518 \r\n",
       "L 210.529358 102.681516 \r\n",
       "L 211.139305 102.947732 \r\n",
       "L 211.749252 103.51932 \r\n",
       "L 212.359199 103.77988 \r\n",
       "L 213.579093 104.90218 \r\n",
       "L 214.798988 104.800912 \r\n",
       "L 216.018882 104.103478 \r\n",
       "L 216.628829 104.354362 \r\n",
       "L 217.238776 104.306732 \r\n",
       "L 217.848724 104.554811 \r\n",
       "L 218.458671 103.91845 \r\n",
       "L 220.288512 104.655571 \r\n",
       "L 221.508407 104.560554 \r\n",
       "L 222.728301 105.039424 \r\n",
       "L 223.338248 105.561196 \r\n",
       "L 223.948195 105.510948 \r\n",
       "L 225.16809 105.975304 \r\n",
       "L 225.778037 106.485621 \r\n",
       "L 226.387984 106.15292 \r\n",
       "L 228.827773 107.051366 \r\n",
       "L 229.43772 107.546373 \r\n",
       "L 230.657614 107.980397 \r\n",
       "L 231.877508 107.867011 \r\n",
       "L 232.487456 108.080483 \r\n",
       "L 233.097403 108.02384 \r\n",
       "L 233.70735 107.432391 \r\n",
       "L 234.927244 107.856341 \r\n",
       "L 235.537191 107.271818 \r\n",
       "L 236.147139 107.48286 \r\n",
       "L 237.367033 107.376599 \r\n",
       "L 237.97698 106.802006 \r\n",
       "L 238.586927 107.271818 \r\n",
       "L 239.196874 107.219991 \r\n",
       "L 239.806822 107.685076 \r\n",
       "L 241.636663 107.52743 \r\n",
       "L 242.24661 107.98508 \r\n",
       "L 242.856557 108.185717 \r\n",
       "L 243.466505 107.37302 \r\n",
       "L 244.076452 107.826517 \r\n",
       "L 245.296346 108.22346 \r\n",
       "L 245.906293 108.170341 \r\n",
       "L 246.51624 108.366316 \r\n",
       "L 247.126188 108.313075 \r\n",
       "L 247.736135 108.507283 \r\n",
       "L 249.565976 108.348256 \r\n",
       "L 250.175923 108.53979 \r\n",
       "L 250.785871 108.243983 \r\n",
       "L 251.395818 108.192355 \r\n",
       "L 253.835606 108.945669 \r\n",
       "L 254.445554 108.654258 \r\n",
       "L 255.665448 108.550693 \r\n",
       "L 256.275395 108.027264 \r\n",
       "L 256.885342 108.213121 \r\n",
       "L 257.495289 108.632388 \r\n",
       "L 258.105237 108.347483 \r\n",
       "L 259.325131 108.247794 \r\n",
       "L 261.154972 108.791204 \r\n",
       "L 261.76492 108.052106 \r\n",
       "L 263.594761 108.590656 \r\n",
       "L 264.204708 108.087906 \r\n",
       "L 264.814655 108.266218 \r\n",
       "L 265.424603 107.992823 \r\n",
       "L 266.03455 108.170341 \r\n",
       "L 266.644497 107.674936 \r\n",
       "L 267.864391 107.583465 \r\n",
       "L 268.474338 107.316211 \r\n",
       "L 269.694233 107.668938 \r\n",
       "L 270.30418 107.403805 \r\n",
       "L 270.914127 107.359544 \r\n",
       "L 271.524074 106.878222 \r\n",
       "L 272.134021 106.835784 \r\n",
       "L 272.743969 106.576196 \r\n",
       "L 273.963863 106.92604 \r\n",
       "L 274.57381 106.883944 \r\n",
       "L 275.183757 107.271818 \r\n",
       "L 275.793704 107.228971 \r\n",
       "L 276.403652 107.399994 \r\n",
       "L 277.623546 106.8895 \r\n",
       "L 280.063335 106.725845 \r\n",
       "L 280.673282 107.104308 \r\n",
       "L 281.283229 107.271818 \r\n",
       "L 281.893176 107.230175 \r\n",
       "L 282.503123 107.604043 \r\n",
       "L 283.11307 107.76877 \r\n",
       "L 283.723018 108.139048 \r\n",
       "L 284.332965 108.095461 \r\n",
       "L 284.942912 108.46279 \r\n",
       "L 286.162806 108.782953 \r\n",
       "L 286.772753 108.738074 \r\n",
       "L 288.602595 109.210846 \r\n",
       "L 289.212542 109.568157 \r\n",
       "L 289.822489 109.521753 \r\n",
       "L 291.042384 109.829313 \r\n",
       "L 291.652331 110.181123 \r\n",
       "L 292.872225 110.086283 \r\n",
       "L 293.482172 109.841574 \r\n",
       "L 296.531908 110.58804 \r\n",
       "L 297.141855 110.540432 \r\n",
       "L 297.751802 110.68711 \r\n",
       "L 298.36175 111.02657 \r\n",
       "L 298.971697 110.785152 \r\n",
       "L 300.801538 111.217618 \r\n",
       "L 301.411485 111.169238 \r\n",
       "L 302.021433 111.311663 \r\n",
       "L 302.63138 111.263293 \r\n",
       "L 303.241327 111.594336 \r\n",
       "L 305.071168 112.012962 \r\n",
       "L 305.681116 111.775764 \r\n",
       "L 308.120904 111.581976 \r\n",
       "L 308.730851 111.719463 \r\n",
       "L 309.340799 112.041107 \r\n",
       "L 309.950746 111.992362 \r\n",
       "L 310.560693 112.127805 \r\n",
       "L 311.17064 112.079082 \r\n",
       "L 311.780587 112.213643 \r\n",
       "L 312.390534 112.530116 \r\n",
       "L 313.610429 112.068291 \r\n",
       "L 314.220376 112.020318 \r\n",
       "L 314.830323 111.79178 \r\n",
       "L 315.44027 111.92507 \r\n",
       "L 317.270112 111.783916 \r\n",
       "L 317.880059 112.094557 \r\n",
       "L 319.099953 112.355857 \r\n",
       "L 320.319848 112.260819 \r\n",
       "L 320.929795 112.390133 \r\n",
       "L 321.539742 112.342757 \r\n",
       "L 324.589478 112.979273 \r\n",
       "L 325.199425 112.93119 \r\n",
       "L 325.809372 113.056516 \r\n",
       "L 326.419319 112.835688 \r\n",
       "L 327.639214 113.085048 \r\n",
       "L 328.249161 113.037274 \r\n",
       "L 328.859108 112.647335 \r\n",
       "L 329.469055 112.600788 \r\n",
       "L 330.079002 112.895269 \r\n",
       "L 330.688949 113.018386 \r\n",
       "L 331.298897 112.971309 \r\n",
       "L 331.908844 113.26293 \r\n",
       "L 332.518791 113.21551 \r\n",
       "L 333.128738 112.831369 \r\n",
       "L 333.738685 112.953238 \r\n",
       "L 334.348632 112.571417 \r\n",
       "L 334.95858 112.358663 \r\n",
       "L 335.568527 112.480764 \r\n",
       "L 336.178474 112.435741 \r\n",
       "L 337.398368 113.009638 \r\n",
       "L 338.008315 112.963742 \r\n",
       "L 339.22821 113.202001 \r\n",
       "L 339.838157 112.82726 \r\n",
       "L 341.058051 112.737281 \r\n",
       "L 341.667998 112.855858 \r\n",
       "L 342.277946 112.648086 \r\n",
       "L 343.49784 112.88408 \r\n",
       "L 344.107787 112.030216 \r\n",
       "L 344.717734 112.310536 \r\n",
       "L 345.327681 112.267358 \r\n",
       "L 345.937629 112.385162 \r\n",
       "L 346.547576 112.021103 \r\n",
       "L 347.76747 111.936735 \r\n",
       "L 348.987365 112.489368 \r\n",
       "L 349.597312 111.811519 \r\n",
       "L 350.207259 112.086925 \r\n",
       "L 351.427153 111.687917 \r\n",
       "L 352.647048 111.920486 \r\n",
       "L 353.256995 111.879308 \r\n",
       "L 353.866942 111.994703 \r\n",
       "L 354.476889 111.797491 \r\n",
       "L 355.086836 111.756831 \r\n",
       "L 355.696783 111.871752 \r\n",
       "L 356.306731 112.14127 \r\n",
       "L 357.526625 112.059211 \r\n",
       "L 358.136572 112.172541 \r\n",
       "L 359.356466 112.704751 \r\n",
       "L 360.576361 112.926893 \r\n",
       "L 361.186308 112.884754 \r\n",
       "L 361.796255 112.538357 \r\n",
       "L 362.406202 112.345287 \r\n",
       "L 363.016149 112.304594 \r\n",
       "L 363.626097 112.41535 \r\n",
       "L 364.236044 112.37468 \r\n",
       "L 364.845991 112.635505 \r\n",
       "L 366.065885 112.553766 \r\n",
       "L 366.675832 112.662898 \r\n",
       "L 368.505674 112.541107 \r\n",
       "L 369.115621 112.649389 \r\n",
       "L 369.725568 112.608984 \r\n",
       "L 369.725568 112.608984 \r\n",
       "\" style=\"fill:none;stroke:#2ca02c;stroke-linecap:square;stroke-width:1.5;\"/>\r\n",
       "   </g>\r\n",
       "   <g id=\"line2d_17\">\r\n",
       "    <path clip-path=\"url(#pf2962341e9)\" d=\"M 65.361932 92.446367 \r\n",
       "L 65.971879 55.382735 \r\n",
       "L 66.581826 43.028179 \r\n",
       "L 67.191773 73.914557 \r\n",
       "L 67.80172 92.446367 \r\n",
       "L 68.411668 104.800912 \r\n",
       "L 69.021615 92.446367 \r\n",
       "L 69.631562 101.712278 \r\n",
       "L 70.241509 100.68273 \r\n",
       "L 70.851456 92.446367 \r\n",
       "L 71.461403 92.446367 \r\n",
       "L 72.071351 98.623645 \r\n",
       "L 72.681298 98.148465 \r\n",
       "L 73.291245 103.035977 \r\n",
       "L 73.901192 102.330005 \r\n",
       "L 74.511139 110.978189 \r\n",
       "L 75.731034 117.155456 \r\n",
       "L 76.340981 115.854976 \r\n",
       "L 76.950928 122.09728 \r\n",
       "L 77.560875 120.685326 \r\n",
       "L 78.780769 131.121464 \r\n",
       "L 79.390717 123.332733 \r\n",
       "L 80.000664 122.09728 \r\n",
       "L 81.220558 125.391819 \r\n",
       "L 82.440452 118.007497 \r\n",
       "L 83.0504 119.626373 \r\n",
       "L 83.660347 123.532 \r\n",
       "L 84.270294 115.611139 \r\n",
       "L 84.880241 112.662898 \r\n",
       "L 85.490188 112.068291 \r\n",
       "L 86.100135 113.625586 \r\n",
       "L 86.710083 110.978189 \r\n",
       "L 87.32003 112.480764 \r\n",
       "L 88.539924 119.056155 \r\n",
       "L 89.149871 118.390909 \r\n",
       "L 89.759819 114.142155 \r\n",
       "L 91.58966 117.717025 \r\n",
       "L 93.419502 120.835538 \r\n",
       "L 94.029449 118.699772 \r\n",
       "L 95.249343 117.649646 \r\n",
       "L 95.85929 118.608932 \r\n",
       "L 96.469237 116.680287 \r\n",
       "L 97.079185 116.223045 \r\n",
       "L 97.689132 118.528187 \r\n",
       "L 98.299079 116.7062 \r\n",
       "L 98.909026 117.596692 \r\n",
       "L 100.738868 116.317862 \r\n",
       "L 101.348815 117.155456 \r\n",
       "L 101.958762 114.319993 \r\n",
       "L 102.568709 115.162789 \r\n",
       "L 103.178656 113.625586 \r\n",
       "L 103.788603 115.611139 \r\n",
       "L 104.398551 114.114342 \r\n",
       "L 105.008498 116.032316 \r\n",
       "L 105.618445 115.680286 \r\n",
       "L 106.228392 116.428718 \r\n",
       "L 106.838339 116.08115 \r\n",
       "L 107.448286 114.684549 \r\n",
       "L 108.058234 112.283242 \r\n",
       "L 108.668181 113.037274 \r\n",
       "L 109.278128 114.786093 \r\n",
       "L 110.498022 112.213643 \r\n",
       "L 111.107969 111.953546 \r\n",
       "L 111.717917 112.662898 \r\n",
       "L 112.327864 114.304407 \r\n",
       "L 112.937811 114.027731 \r\n",
       "L 113.547758 114.684549 \r\n",
       "L 114.157705 114.410005 \r\n",
       "L 114.767652 115.950135 \r\n",
       "L 115.3776 116.560064 \r\n",
       "L 115.987547 118.037929 \r\n",
       "L 117.817388 119.71157 \r\n",
       "L 118.427335 118.55938 \r\n",
       "L 119.037283 119.931757 \r\n",
       "L 119.64723 119.626373 \r\n",
       "L 120.257177 120.142269 \r\n",
       "L 120.867124 119.841226 \r\n",
       "L 121.477071 120.343733 \r\n",
       "L 122.087018 121.624121 \r\n",
       "L 122.696966 122.09728 \r\n",
       "L 123.306913 123.332733 \r\n",
       "L 123.91686 123.014315 \r\n",
       "L 124.526807 123.458799 \r\n",
       "L 125.136754 124.643066 \r\n",
       "L 125.746701 125.062366 \r\n",
       "L 126.356649 126.20731 \r\n",
       "L 127.576543 126.991121 \r\n",
       "L 128.18649 128.084481 \r\n",
       "L 130.016332 125.006949 \r\n",
       "L 131.236226 125.769641 \r\n",
       "L 132.45612 125.169223 \r\n",
       "L 133.066067 126.200748 \r\n",
       "L 133.676015 126.558037 \r\n",
       "L 134.895909 128.543126 \r\n",
       "L 135.505856 128.231943 \r\n",
       "L 136.115803 127.292518 \r\n",
       "L 136.72575 127.625417 \r\n",
       "L 137.335698 124.838114 \r\n",
       "L 137.945645 125.185913 \r\n",
       "L 138.555592 124.915335 \r\n",
       "L 139.775486 126.798029 \r\n",
       "L 140.385433 126.521 \r\n",
       "L 140.995381 127.434445 \r\n",
       "L 142.215275 128.050802 \r\n",
       "L 142.825222 128.93089 \r\n",
       "L 143.435169 128.073424 \r\n",
       "L 144.045116 128.939792 \r\n",
       "L 144.655064 128.095361 \r\n",
       "L 145.265011 126.702152 \r\n",
       "L 145.874958 126.444596 \r\n",
       "L 146.484905 126.744059 \r\n",
       "L 147.094852 126.490005 \r\n",
       "L 148.314747 127.075169 \r\n",
       "L 148.924694 125.749924 \r\n",
       "L 149.534641 124.977037 \r\n",
       "L 151.364482 124.289777 \r\n",
       "L 151.97443 124.585462 \r\n",
       "L 152.584377 125.391819 \r\n",
       "L 153.194324 125.164617 \r\n",
       "L 153.804271 125.448241 \r\n",
       "L 154.414218 125.223734 \r\n",
       "L 155.634113 125.778765 \r\n",
       "L 156.24406 125.556545 \r\n",
       "L 157.463954 126.096244 \r\n",
       "L 158.073901 124.422835 \r\n",
       "L 158.683848 125.177894 \r\n",
       "L 159.293796 124.48848 \r\n",
       "L 160.51369 125.0246 \r\n",
       "L 161.123637 124.818408 \r\n",
       "L 161.733584 125.081011 \r\n",
       "L 162.343531 123.95046 \r\n",
       "L 162.953479 124.215195 \r\n",
       "L 163.563426 124.019099 \r\n",
       "L 164.173373 124.280167 \r\n",
       "L 164.78332 124.990049 \r\n",
       "L 166.613162 125.737056 \r\n",
       "L 167.223109 125.538905 \r\n",
       "L 167.833056 125.781714 \r\n",
       "L 169.05295 124.524832 \r\n",
       "L 169.662897 125.200284 \r\n",
       "L 170.272845 125.010948 \r\n",
       "L 171.492739 126.333122 \r\n",
       "L 172.102686 126.140582 \r\n",
       "L 172.712633 125.112624 \r\n",
       "L 173.32258 125.345548 \r\n",
       "L 173.932528 125.161756 \r\n",
       "L 174.542475 124.568187 \r\n",
       "L 175.152422 124.390713 \r\n",
       "L 175.762369 123.807903 \r\n",
       "L 176.372316 124.446672 \r\n",
       "L 177.592211 124.100716 \r\n",
       "L 178.202158 124.329067 \r\n",
       "L 179.422052 125.567061 \r\n",
       "L 180.031999 125.391819 \r\n",
       "L 181.251894 124.270645 \r\n",
       "L 181.861841 124.104892 \r\n",
       "L 183.081735 125.306909 \r\n",
       "L 183.691682 125.518536 \r\n",
       "L 184.301629 124.971602 \r\n",
       "L 184.911577 125.559063 \r\n",
       "L 186.131471 125.226264 \r\n",
       "L 186.741418 125.433008 \r\n",
       "L 187.351365 125.26889 \r\n",
       "L 188.57126 126.406157 \r\n",
       "L 189.181207 125.876311 \r\n",
       "L 189.791154 125.713241 \r\n",
       "L 190.401101 125.911591 \r\n",
       "L 191.620995 124.87705 \r\n",
       "L 192.230943 124.012527 \r\n",
       "L 192.84089 124.568187 \r\n",
       "L 193.450837 124.064641 \r\n",
       "L 194.060784 123.915489 \r\n",
       "L 195.280678 122.928611 \r\n",
       "L 195.890626 123.131611 \r\n",
       "L 196.500573 122.989551 \r\n",
       "L 197.11052 123.190397 \r\n",
       "L 197.720467 122.70934 \r\n",
       "L 198.330414 122.909634 \r\n",
       "L 198.940361 122.434222 \r\n",
       "L 199.550309 122.298524 \r\n",
       "L 200.160256 122.831872 \r\n",
       "L 201.990097 123.415091 \r\n",
       "L 202.600044 122.622067 \r\n",
       "L 203.209992 123.142248 \r\n",
       "L 203.819939 123.332733 \r\n",
       "L 204.429886 123.197853 \r\n",
       "L 205.039833 123.708744 \r\n",
       "L 205.64978 123.5734 \r\n",
       "L 206.259727 122.800203 \r\n",
       "L 206.869675 122.66994 \r\n",
       "L 207.479622 122.223987 \r\n",
       "L 208.089569 122.412716 \r\n",
       "L 208.699516 122.285733 \r\n",
       "L 209.91941 122.6579 \r\n",
       "L 211.139305 122.406143 \r\n",
       "L 211.749252 121.666659 \r\n",
       "L 212.359199 121.852228 \r\n",
       "L 212.969146 122.341315 \r\n",
       "L 214.189041 122.09728 \r\n",
       "L 214.798988 122.278078 \r\n",
       "L 215.408935 122.757522 \r\n",
       "L 216.018882 122.6353 \r\n",
       "L 216.628829 122.216354 \r\n",
       "L 217.238776 122.690297 \r\n",
       "L 217.848724 122.274477 \r\n",
       "L 218.458671 122.45026 \r\n",
       "L 219.678565 121.630329 \r\n",
       "L 222.118354 121.17787 \r\n",
       "L 222.728301 121.353145 \r\n",
       "L 223.338248 121.241958 \r\n",
       "L 223.948195 120.847622 \r\n",
       "L 225.16809 120.631643 \r\n",
       "L 225.778037 120.2441 \r\n",
       "L 227.607878 120.764657 \r\n",
       "L 228.217825 120.382394 \r\n",
       "L 229.43772 120.724549 \r\n",
       "L 230.047667 120.346672 \r\n",
       "L 230.657614 120.2441 \r\n",
       "L 231.267561 119.87074 \r\n",
       "L 232.487456 120.210399 \r\n",
       "L 233.097403 120.646963 \r\n",
       "L 234.317297 120.977366 \r\n",
       "L 234.927244 120.078037 \r\n",
       "L 235.537191 119.714619 \r\n",
       "L 236.147139 119.089977 \r\n",
       "L 236.757086 119.25836 \r\n",
       "L 237.367033 118.90169 \r\n",
       "L 237.97698 119.069542 \r\n",
       "L 238.586927 118.716032 \r\n",
       "L 239.196874 117.846626 \r\n",
       "L 239.806822 117.499842 \r\n",
       "L 240.416769 117.412846 \r\n",
       "L 241.026716 116.813466 \r\n",
       "L 241.636663 116.985052 \r\n",
       "L 242.24661 116.645989 \r\n",
       "L 243.466505 117.492784 \r\n",
       "L 244.076452 117.659731 \r\n",
       "L 244.686399 117.322977 \r\n",
       "L 245.296346 116.738078 \r\n",
       "L 245.906293 117.155456 \r\n",
       "L 246.51624 117.072546 \r\n",
       "L 247.126188 117.238101 \r\n",
       "L 247.736135 117.155456 \r\n",
       "L 248.346082 117.319641 \r\n",
       "L 248.956029 117.237272 \r\n",
       "L 250.785871 117.722548 \r\n",
       "L 252.005765 117.557888 \r\n",
       "L 252.615712 117.957703 \r\n",
       "L 253.835606 118.271349 \r\n",
       "L 255.055501 118.105805 \r\n",
       "L 255.665448 118.260657 \r\n",
       "L 256.275395 118.650596 \r\n",
       "L 256.885342 118.56741 \r\n",
       "L 257.495289 118.250163 \r\n",
       "L 258.105237 118.402607 \r\n",
       "L 258.715184 117.854778 \r\n",
       "L 259.325131 118.007497 \r\n",
       "L 259.935078 117.927614 \r\n",
       "L 260.545025 118.079163 \r\n",
       "L 261.76492 117.920445 \r\n",
       "L 262.374867 117.61304 \r\n",
       "L 262.984814 117.991768 \r\n",
       "L 263.594761 118.140787 \r\n",
       "L 264.204708 118.062219 \r\n",
       "L 264.814655 118.436109 \r\n",
       "L 265.424603 118.131807 \r\n",
       "L 266.03455 118.278595 \r\n",
       "L 266.644497 118.200556 \r\n",
       "L 267.254444 117.899712 \r\n",
       "L 267.864391 118.045882 \r\n",
       "L 268.474338 117.969235 \r\n",
       "L 270.30418 118.401911 \r\n",
       "L 271.524074 118.248782 \r\n",
       "L 272.134021 117.954875 \r\n",
       "L 272.743969 118.314825 \r\n",
       "L 273.353916 118.239195 \r\n",
       "L 273.963863 118.380106 \r\n",
       "L 274.57381 118.735693 \r\n",
       "L 275.793704 118.583736 \r\n",
       "L 276.403652 118.72203 \r\n",
       "L 277.013599 118.646521 \r\n",
       "L 277.623546 118.996253 \r\n",
       "L 278.84344 118.84497 \r\n",
       "L 279.453387 119.191157 \r\n",
       "L 280.063335 119.115383 \r\n",
       "L 280.673282 118.830654 \r\n",
       "L 281.283229 118.756327 \r\n",
       "L 282.503123 119.02421 \r\n",
       "L 283.11307 118.328798 \r\n",
       "L 283.723018 118.463182 \r\n",
       "L 284.942912 118.319045 \r\n",
       "L 285.552859 118.657113 \r\n",
       "L 286.162806 118.789122 \r\n",
       "L 286.772753 118.513098 \r\n",
       "L 288.602595 118.300024 \r\n",
       "L 290.432436 118.691433 \r\n",
       "L 291.652331 118.550322 \r\n",
       "L 292.262278 118.082874 \r\n",
       "L 292.872225 118.014335 \r\n",
       "L 293.482172 117.550808 \r\n",
       "L 294.092119 117.484036 \r\n",
       "L 295.312014 117.743767 \r\n",
       "L 295.921961 117.677029 \r\n",
       "L 296.531908 117.025413 \r\n",
       "L 297.751802 117.284824 \r\n",
       "L 298.36175 117.219974 \r\n",
       "L 299.581644 117.476359 \r\n",
       "L 300.801538 117.347001 \r\n",
       "L 301.411485 117.473874 \r\n",
       "L 302.021433 117.409543 \r\n",
       "L 302.63138 117.535598 \r\n",
       "L 303.241327 117.471433 \r\n",
       "L 303.851274 117.218494 \r\n",
       "L 308.120904 118.084376 \r\n",
       "L 309.340799 117.956499 \r\n",
       "L 311.17064 118.317521 \r\n",
       "L 311.780587 118.253643 \r\n",
       "L 312.390534 118.555238 \r\n",
       "L 313.610429 118.790624 \r\n",
       "L 314.220376 118.726205 \r\n",
       "L 316.660165 119.907567 \r\n",
       "L 317.270112 119.841226 \r\n",
       "L 317.880059 119.953838 \r\n",
       "L 318.490006 120.2441 \r\n",
       "L 320.319848 120.045065 \r\n",
       "L 323.369583 120.593756 \r\n",
       "L 323.979531 120.527525 \r\n",
       "L 324.589478 120.287599 \r\n",
       "L 325.199425 120.395991 \r\n",
       "L 325.809372 120.330688 \r\n",
       "L 326.419319 120.611274 \r\n",
       "L 327.029266 120.373391 \r\n",
       "L 327.639214 120.308597 \r\n",
       "L 328.249161 120.072503 \r\n",
       "L 328.859108 120.179902 \r\n",
       "L 329.469055 120.115991 \r\n",
       "L 330.688949 119.309005 \r\n",
       "L 331.298897 119.417166 \r\n",
       "L 331.908844 119.017108 \r\n",
       "L 332.518791 118.956577 \r\n",
       "L 333.128738 119.233275 \r\n",
       "L 333.738685 119.004438 \r\n",
       "L 334.95858 119.219202 \r\n",
       "L 335.568527 119.158903 \r\n",
       "L 336.788421 119.371524 \r\n",
       "L 337.398368 119.145449 \r\n",
       "L 338.008315 119.416779 \r\n",
       "L 338.618263 119.521814 \r\n",
       "L 339.22821 119.29691 \r\n",
       "L 339.838157 119.237384 \r\n",
       "L 340.448104 119.506107 \r\n",
       "L 341.058051 119.610004 \r\n",
       "L 341.667998 119.3869 \r\n",
       "L 342.277946 119.490609 \r\n",
       "L 342.887893 118.94362 \r\n",
       "L 343.49784 118.723433 \r\n",
       "L 344.717734 119.254924 \r\n",
       "L 345.327681 118.874352 \r\n",
       "L 345.937629 118.817024 \r\n",
       "L 346.547576 119.080842 \r\n",
       "L 347.157523 119.023316 \r\n",
       "L 347.76747 119.125799 \r\n",
       "L 348.377417 118.909002 \r\n",
       "L 349.597312 119.11314 \r\n",
       "L 350.207259 119.372938 \r\n",
       "L 350.817206 119.315533 \r\n",
       "L 351.427153 119.573795 \r\n",
       "L 352.0371 119.20143 \r\n",
       "L 353.256995 119.088309 \r\n",
       "L 353.866942 119.344871 \r\n",
       "L 355.086836 119.543309 \r\n",
       "L 355.696783 119.797308 \r\n",
       "L 357.526625 119.626373 \r\n",
       "L 358.136572 119.415752 \r\n",
       "L 358.746519 119.667376 \r\n",
       "L 359.356466 119.457549 \r\n",
       "L 359.966414 119.554896 \r\n",
       "L 361.186308 120.053438 \r\n",
       "L 361.796255 119.996751 \r\n",
       "L 362.406202 120.2441 \r\n",
       "L 363.016149 120.187247 \r\n",
       "L 363.626097 120.281921 \r\n",
       "L 364.236044 120.225223 \r\n",
       "L 364.845991 120.470098 \r\n",
       "L 365.455938 120.262889 \r\n",
       "L 366.065885 120.506692 \r\n",
       "L 367.28578 120.09465 \r\n",
       "L 367.895727 120.188164 \r\n",
       "L 368.505674 120.13246 \r\n",
       "L 369.725568 120.318218 \r\n",
       "L 369.725568 120.318218 \r\n",
       "\" style=\"fill:none;stroke:#d62728;stroke-linecap:square;stroke-width:1.5;\"/>\r\n",
       "   </g>\r\n",
       "   <g id=\"line2d_18\">\r\n",
       "    <path clip-path=\"url(#pf2962341e9)\" d=\"M 65.361932 92.446367 \r\n",
       "L 67.191773 92.446367 \r\n",
       "L 67.80172 122.09728 \r\n",
       "L 68.411668 104.800912 \r\n",
       "L 69.021615 124.215195 \r\n",
       "L 69.631562 129.51 \r\n",
       "L 70.241509 125.391819 \r\n",
       "L 70.851456 129.51 \r\n",
       "L 71.461403 139.618265 \r\n",
       "L 72.681298 143.765243 \r\n",
       "L 73.291245 140.099609 \r\n",
       "L 73.901192 141.864544 \r\n",
       "L 74.511139 134.142961 \r\n",
       "L 75.121086 131.690214 \r\n",
       "L 76.340981 135.362155 \r\n",
       "L 76.950928 133.216371 \r\n",
       "L 77.560875 127.745065 \r\n",
       "L 78.170822 126.140582 \r\n",
       "L 78.780769 127.898547 \r\n",
       "L 79.390717 132.598644 \r\n",
       "L 80.000664 133.957645 \r\n",
       "L 80.610611 132.361049 \r\n",
       "L 81.220558 133.628181 \r\n",
       "L 81.830505 132.157408 \r\n",
       "L 82.440452 133.344171 \r\n",
       "L 83.0504 136.922731 \r\n",
       "L 84.880241 139.618265 \r\n",
       "L 86.710083 141.864544 \r\n",
       "L 87.32003 142.532364 \r\n",
       "L 87.929977 135.362155 \r\n",
       "L 88.539924 132.361049 \r\n",
       "L 89.149871 133.216371 \r\n",
       "L 89.759819 135.837943 \r\n",
       "L 90.369766 133.03987 \r\n",
       "L 90.979713 132.095838 \r\n",
       "L 91.58966 127.825291 \r\n",
       "L 92.199607 127.039093 \r\n",
       "L 92.809554 124.675618 \r\n",
       "L 93.419502 125.567061 \r\n",
       "L 94.029449 123.332733 \r\n",
       "L 94.639396 125.727998 \r\n",
       "L 95.85929 124.422835 \r\n",
       "L 97.079185 126.013433 \r\n",
       "L 97.689132 125.391819 \r\n",
       "L 98.299079 127.488349 \r\n",
       "L 98.909026 128.186302 \r\n",
       "L 99.518973 127.559285 \r\n",
       "L 100.12892 125.67584 \r\n",
       "L 100.738868 122.599832 \r\n",
       "L 101.348815 120.861827 \r\n",
       "L 101.958762 122.826393 \r\n",
       "L 102.568709 123.532 \r\n",
       "L 103.178656 120.685326 \r\n",
       "L 103.788603 119.085857 \r\n",
       "L 104.398551 120.956854 \r\n",
       "L 105.008498 121.648024 \r\n",
       "L 106.228392 125.149573 \r\n",
       "L 107.448286 124.215195 \r\n",
       "L 108.058234 122.7237 \r\n",
       "L 108.668181 120.2441 \r\n",
       "L 109.278128 119.863306 \r\n",
       "L 109.888075 121.496244 \r\n",
       "L 110.498022 120.120553 \r\n",
       "L 111.107969 116.830344 \r\n",
       "L 111.717917 116.51366 \r\n",
       "L 112.327864 117.155456 \r\n",
       "L 112.937811 115.904362 \r\n",
       "L 113.547758 116.537729 \r\n",
       "L 114.157705 115.325152 \r\n",
       "L 114.767652 115.046145 \r\n",
       "L 115.987547 118.037929 \r\n",
       "L 116.597494 115.120594 \r\n",
       "L 119.64723 117.979099 \r\n",
       "L 120.867124 120.646963 \r\n",
       "L 121.477071 120.343733 \r\n",
       "L 122.087018 119.25836 \r\n",
       "L 122.696966 120.536704 \r\n",
       "L 123.306913 120.2441 \r\n",
       "L 124.526807 121.189601 \r\n",
       "L 125.136754 120.899261 \r\n",
       "L 126.356649 118.867967 \r\n",
       "L 127.576543 119.794292 \r\n",
       "L 128.18649 119.531335 \r\n",
       "L 128.796437 120.685326 \r\n",
       "L 129.406384 120.418922 \r\n",
       "L 130.016332 120.850273 \r\n",
       "L 130.626279 119.900917 \r\n",
       "L 131.236226 120.329109 \r\n",
       "L 131.846173 121.423396 \r\n",
       "L 132.45612 121.830148 \r\n",
       "L 133.066067 122.891497 \r\n",
       "L 133.676015 122.622067 \r\n",
       "L 134.285962 123.657856 \r\n",
       "L 134.895909 124.031028 \r\n",
       "L 136.115803 123.491119 \r\n",
       "L 136.72575 123.856228 \r\n",
       "L 137.335698 123.592277 \r\n",
       "L 137.945645 122.715007 \r\n",
       "L 138.555592 123.077475 \r\n",
       "L 139.165539 122.826393 \r\n",
       "L 139.775486 121.374088 \r\n",
       "L 140.385433 121.7386 \r\n",
       "L 140.995381 122.690297 \r\n",
       "L 141.605328 121.273637 \r\n",
       "L 142.825222 123.139697 \r\n",
       "L 143.435169 123.476384 \r\n",
       "L 144.045116 123.237695 \r\n",
       "L 144.655064 124.134362 \r\n",
       "L 145.265011 124.455873 \r\n",
       "L 145.874958 123.657856 \r\n",
       "L 146.484905 123.424933 \r\n",
       "L 147.094852 123.744555 \r\n",
       "L 147.704799 124.604527 \r\n",
       "L 150.144588 125.80364 \r\n",
       "L 150.754535 123.464168 \r\n",
       "L 151.364482 123.767751 \r\n",
       "L 151.97443 123.548723 \r\n",
       "L 152.584377 122.817954 \r\n",
       "L 153.194324 123.119726 \r\n",
       "L 153.804271 122.401913 \r\n",
       "L 154.414218 122.198128 \r\n",
       "L 155.634113 123.788771 \r\n",
       "L 156.24406 123.579817 \r\n",
       "L 156.854007 124.355455 \r\n",
       "L 157.463954 124.633213 \r\n",
       "L 158.683848 124.215195 \r\n",
       "L 159.293796 123.532 \r\n",
       "L 159.903743 123.807903 \r\n",
       "L 160.51369 124.552446 \r\n",
       "L 161.123637 124.818408 \r\n",
       "L 161.733584 124.1486 \r\n",
       "L 162.953479 124.675618 \r\n",
       "L 164.173373 126.099237 \r\n",
       "L 166.003214 126.830703 \r\n",
       "L 166.613162 126.624809 \r\n",
       "L 167.223109 126.862603 \r\n",
       "L 167.833056 126.220333 \r\n",
       "L 168.443003 126.021663 \r\n",
       "L 169.05295 126.258805 \r\n",
       "L 170.272845 124.15399 \r\n",
       "L 170.882792 124.397783 \r\n",
       "L 171.492739 125.062366 \r\n",
       "L 172.102686 124.87705 \r\n",
       "L 172.712633 124.275031 \r\n",
       "L 173.32258 124.929109 \r\n",
       "L 173.932528 123.50528 \r\n",
       "L 174.542475 124.156365 \r\n",
       "L 175.152422 122.752552 \r\n",
       "L 175.762369 122.178732 \r\n",
       "L 176.982263 121.855553 \r\n",
       "L 177.592211 120.895218 \r\n",
       "L 178.812105 122.176556 \r\n",
       "L 180.031999 122.646368 \r\n",
       "L 180.641946 122.09728 \r\n",
       "L 181.251894 122.718243 \r\n",
       "L 182.471788 123.172702 \r\n",
       "L 183.081735 123.77851 \r\n",
       "L 185.521524 124.643066 \r\n",
       "L 186.131471 124.481267 \r\n",
       "L 187.351365 123.424933 \r\n",
       "L 187.961312 123.271573 \r\n",
       "L 188.57126 123.484879 \r\n",
       "L 189.181207 122.969359 \r\n",
       "L 189.791154 122.820472 \r\n",
       "L 190.401101 123.032861 \r\n",
       "L 192.230943 124.721878 \r\n",
       "L 192.84089 124.921178 \r\n",
       "L 193.450837 124.415953 \r\n",
       "L 194.060784 124.964467 \r\n",
       "L 194.670731 125.159812 \r\n",
       "L 195.280678 125.006949 \r\n",
       "L 195.890626 125.545057 \r\n",
       "L 196.500573 125.391819 \r\n",
       "L 197.11052 125.581597 \r\n",
       "L 197.720467 125.089572 \r\n",
       "L 198.330414 125.278997 \r\n",
       "L 198.940361 124.455873 \r\n",
       "L 199.550309 124.311029 \r\n",
       "L 200.160256 124.501404 \r\n",
       "L 200.770203 124.357664 \r\n",
       "L 201.38015 123.884273 \r\n",
       "L 202.600044 123.606062 \r\n",
       "L 203.209992 123.142248 \r\n",
       "L 204.429886 122.874155 \r\n",
       "L 205.039833 122.419575 \r\n",
       "L 205.64978 121.648024 \r\n",
       "L 206.259727 121.841669 \r\n",
       "L 206.869675 121.397361 \r\n",
       "L 207.479622 121.59042 \r\n",
       "L 208.089569 121.150973 \r\n",
       "L 208.699516 121.657535 \r\n",
       "L 209.309463 121.221512 \r\n",
       "L 210.529358 121.601024 \r\n",
       "L 211.139305 121.479553 \r\n",
       "L 211.749252 121.051495 \r\n",
       "L 212.359199 121.239605 \r\n",
       "L 212.969146 120.816064 \r\n",
       "L 213.579093 121.0036 \r\n",
       "L 214.189041 120.887033 \r\n",
       "L 214.798988 121.072758 \r\n",
       "L 215.408935 120.956854 \r\n",
       "L 216.628829 121.323255 \r\n",
       "L 217.238776 121.800766 \r\n",
       "L 217.848724 121.683824 \r\n",
       "L 219.068618 122.038682 \r\n",
       "L 219.678565 122.505854 \r\n",
       "L 220.288512 122.678666 \r\n",
       "L 222.118354 122.327133 \r\n",
       "L 223.338248 122.667488 \r\n",
       "L 224.558142 122.436796 \r\n",
       "L 226.387984 122.936453 \r\n",
       "L 226.997931 122.821831 \r\n",
       "L 227.607878 122.430433 \r\n",
       "L 228.217825 122.871736 \r\n",
       "L 228.827773 123.034198 \r\n",
       "L 230.047667 122.261399 \r\n",
       "L 232.487456 122.905934 \r\n",
       "L 233.097403 122.258428 \r\n",
       "L 234.317297 122.577243 \r\n",
       "L 234.927244 122.469237 \r\n",
       "L 235.537191 122.891497 \r\n",
       "L 236.147139 122.783148 \r\n",
       "L 236.757086 123.201299 \r\n",
       "L 237.367033 122.56876 \r\n",
       "L 237.97698 122.7237 \r\n",
       "L 238.586927 122.357376 \r\n",
       "L 239.196874 122.771164 \r\n",
       "L 239.806822 122.665499 \r\n",
       "L 240.416769 123.075344 \r\n",
       "L 241.026716 123.225854 \r\n",
       "L 242.856557 122.909634 \r\n",
       "L 243.466505 123.058653 \r\n",
       "L 244.076452 122.45026 \r\n",
       "L 244.686399 122.851113 \r\n",
       "L 245.296346 122.998829 \r\n",
       "L 245.906293 122.895959 \r\n",
       "L 246.51624 123.291278 \r\n",
       "L 247.126188 123.18811 \r\n",
       "L 247.736135 122.591459 \r\n",
       "L 248.346082 122.737584 \r\n",
       "L 248.956029 122.637277 \r\n",
       "L 249.565976 122.782287 \r\n",
       "L 250.175923 122.682488 \r\n",
       "L 251.395818 122.969359 \r\n",
       "L 252.005765 122.628485 \r\n",
       "L 253.835606 122.3364 \r\n",
       "L 254.445554 122.001933 \r\n",
       "L 255.055501 122.144799 \r\n",
       "L 255.665448 122.049916 \r\n",
       "L 256.275395 122.191711 \r\n",
       "L 256.885342 122.09728 \r\n",
       "L 257.495289 122.238026 \r\n",
       "L 258.105237 122.144048 \r\n",
       "L 259.935078 122.560575 \r\n",
       "L 260.545025 122.004904 \r\n",
       "L 261.154972 121.682896 \r\n",
       "L 261.76492 121.821886 \r\n",
       "L 262.984814 121.64111 \r\n",
       "L 264.204708 121.91593 \r\n",
       "L 264.814655 121.826083 \r\n",
       "L 265.424603 121.96209 \r\n",
       "L 266.03455 122.321908 \r\n",
       "L 266.644497 122.231653 \r\n",
       "L 267.864391 121.607552 \r\n",
       "L 268.474338 121.964112 \r\n",
       "L 269.694233 121.34718 \r\n",
       "L 270.30418 121.261421 \r\n",
       "L 272.134021 121.661235 \r\n",
       "L 272.743969 121.1408 \r\n",
       "L 273.353916 121.273637 \r\n",
       "L 274.57381 121.106039 \r\n",
       "L 275.183757 121.237827 \r\n",
       "L 275.793704 120.72614 \r\n",
       "L 276.403652 120.644644 \r\n",
       "L 277.013599 120.989627 \r\n",
       "L 278.233493 121.25011 \r\n",
       "L 280.673282 120.924644 \r\n",
       "L 281.283229 120.426809 \r\n",
       "L 281.893176 120.764657 \r\n",
       "L 282.503123 120.477686 \r\n",
       "L 283.11307 120.399393 \r\n",
       "L 283.723018 120.115041 \r\n",
       "L 284.332965 120.450005 \r\n",
       "L 285.552859 119.88574 \r\n",
       "L 286.162806 119.810154 \r\n",
       "L 286.772753 119.531335 \r\n",
       "L 287.992648 119.383332 \r\n",
       "L 288.602595 119.511917 \r\n",
       "L 289.212542 119.236931 \r\n",
       "L 289.822489 119.164327 \r\n",
       "L 290.432436 118.891771 \r\n",
       "L 291.652331 118.749589 \r\n",
       "L 292.262278 118.877809 \r\n",
       "L 292.872225 118.608932 \r\n",
       "L 293.482172 118.539166 \r\n",
       "L 294.702067 119.187247 \r\n",
       "L 295.312014 119.116498 \r\n",
       "L 296.531908 119.756416 \r\n",
       "L 297.141855 119.490178 \r\n",
       "L 297.751802 119.419386 \r\n",
       "L 298.36175 119.542503 \r\n",
       "L 299.581644 119.401746 \r\n",
       "L 300.191591 119.523946 \r\n",
       "L 300.801538 119.453981 \r\n",
       "L 301.411485 119.766468 \r\n",
       "L 302.021433 119.505687 \r\n",
       "L 302.63138 119.056155 \r\n",
       "L 303.241327 118.988102 \r\n",
       "L 303.851274 119.109495 \r\n",
       "L 304.461221 118.664415 \r\n",
       "L 306.90101 118.400254 \r\n",
       "L 308.120904 118.641716 \r\n",
       "L 308.730851 118.946868 \r\n",
       "L 309.340799 119.065643 \r\n",
       "L 309.950746 118.815025 \r\n",
       "L 310.560693 118.933535 \r\n",
       "L 311.17064 118.867967 \r\n",
       "L 311.780587 119.168789 \r\n",
       "L 312.390534 119.102978 \r\n",
       "L 313.000482 119.219611 \r\n",
       "L 313.610429 119.153988 \r\n",
       "L 314.220376 118.907445 \r\n",
       "L 314.830323 118.842904 \r\n",
       "L 315.44027 118.598328 \r\n",
       "L 316.050217 118.714773 \r\n",
       "L 317.270112 118.587867 \r\n",
       "L 317.880059 118.346262 \r\n",
       "L 318.490006 118.640379 \r\n",
       "L 319.099953 118.755333 \r\n",
       "L 319.7099 118.515053 \r\n",
       "L 320.319848 117.922091 \r\n",
       "L 320.929795 118.214419 \r\n",
       "L 321.539742 117.977144 \r\n",
       "L 322.149689 117.916635 \r\n",
       "L 322.759636 118.206908 \r\n",
       "L 323.369583 118.146156 \r\n",
       "L 323.979531 117.911266 \r\n",
       "L 324.589478 118.025502 \r\n",
       "L 325.199425 117.791993 \r\n",
       "L 325.809372 117.905964 \r\n",
       "L 326.419319 117.846626 \r\n",
       "L 327.029266 117.959945 \r\n",
       "L 327.639214 117.728756 \r\n",
       "L 328.249161 117.670235 \r\n",
       "L 328.859108 117.783168 \r\n",
       "L 329.469055 117.553989 \r\n",
       "L 330.079002 117.496275 \r\n",
       "L 330.688949 117.268808 \r\n",
       "L 331.908844 117.493944 \r\n",
       "L 332.518791 117.436881 \r\n",
       "L 333.128738 117.211613 \r\n",
       "L 333.738685 117.155456 \r\n",
       "L 334.95858 117.713226 \r\n",
       "L 335.568527 117.489371 \r\n",
       "L 336.178474 117.433093 \r\n",
       "L 337.398368 117.984622 \r\n",
       "L 338.008315 117.762159 \r\n",
       "L 340.448104 118.194117 \r\n",
       "L 341.667998 118.080687 \r\n",
       "L 342.277946 118.187268 \r\n",
       "L 342.887893 118.130813 \r\n",
       "L 344.107787 118.342363 \r\n",
       "L 344.717734 118.285941 \r\n",
       "L 345.937629 118.495436 \r\n",
       "L 346.547576 118.75995 \r\n",
       "L 347.157523 118.382912 \r\n",
       "L 348.377417 118.590176 \r\n",
       "L 348.987365 117.89779 \r\n",
       "L 349.597312 117.84329 \r\n",
       "L 350.207259 118.105805 \r\n",
       "L 350.817206 118.051095 \r\n",
       "L 351.427153 117.838905 \r\n",
       "L 352.0371 117.78499 \r\n",
       "L 352.647048 117.574258 \r\n",
       "L 353.256995 117.677846 \r\n",
       "L 353.866942 117.468229 \r\n",
       "L 354.476889 117.571607 \r\n",
       "L 356.306731 116.948689 \r\n",
       "L 357.526625 117.155456 \r\n",
       "L 358.136572 117.412315 \r\n",
       "L 359.966414 117.257563 \r\n",
       "L 360.576361 116.747887 \r\n",
       "L 361.186308 116.545362 \r\n",
       "L 361.796255 116.495876 \r\n",
       "L 363.016149 117.003874 \r\n",
       "L 363.626097 117.105032 \r\n",
       "L 364.236044 117.356755 \r\n",
       "L 364.845991 117.004791 \r\n",
       "L 365.455938 117.105341 \r\n",
       "L 366.065885 116.75531 \r\n",
       "L 366.675832 116.7062 \r\n",
       "L 367.28578 116.956189 \r\n",
       "L 367.895727 116.906881 \r\n",
       "L 368.505674 117.006613 \r\n",
       "L 369.725568 116.908372 \r\n",
       "L 369.725568 116.908372 \r\n",
       "\" style=\"fill:none;stroke:#9467bd;stroke-linecap:square;stroke-width:1.5;\"/>\r\n",
       "   </g>\r\n",
       "   <g id=\"line2d_19\">\r\n",
       "    <path clip-path=\"url(#pf2962341e9)\" d=\"M 65.361932 92.446367 \r\n",
       "L 65.971879 92.446367 \r\n",
       "L 66.581826 141.864544 \r\n",
       "L 67.191773 148.041822 \r\n",
       "L 67.80172 136.922731 \r\n",
       "L 68.411668 154.219094 \r\n",
       "L 69.021615 113.625586 \r\n",
       "L 69.631562 110.978189 \r\n",
       "L 70.241509 117.155456 \r\n",
       "L 70.851456 122.09728 \r\n",
       "L 71.461403 132.879429 \r\n",
       "L 72.071351 135.687278 \r\n",
       "L 72.681298 120.956854 \r\n",
       "L 73.901192 107.271818 \r\n",
       "L 74.511139 110.978189 \r\n",
       "L 75.121086 109.888077 \r\n",
       "L 75.731034 117.155456 \r\n",
       "L 76.950928 114.684549 \r\n",
       "L 77.560875 113.625586 \r\n",
       "L 78.780769 105.33807 \r\n",
       "L 79.390717 101.712278 \r\n",
       "L 80.000664 101.341647 \r\n",
       "L 80.610611 103.850562 \r\n",
       "L 81.220558 103.428192 \r\n",
       "L 81.830505 105.683385 \r\n",
       "L 82.440452 105.226938 \r\n",
       "L 83.0504 107.271818 \r\n",
       "L 83.660347 102.011178 \r\n",
       "L 84.270294 106.345228 \r\n",
       "L 86.100135 105.153903 \r\n",
       "L 86.710083 106.860008 \r\n",
       "L 87.32003 110.477327 \r\n",
       "L 88.539924 109.552659 \r\n",
       "L 89.149871 110.978189 \r\n",
       "L 90.979713 120.028607 \r\n",
       "L 92.199607 125.391819 \r\n",
       "L 92.809554 124.675618 \r\n",
       "L 94.639396 127.240801 \r\n",
       "L 95.249343 125.062366 \r\n",
       "L 95.85929 125.876311 \r\n",
       "L 96.469237 123.807903 \r\n",
       "L 98.299079 122.09728 \r\n",
       "L 98.909026 122.891497 \r\n",
       "L 99.518973 121.056896 \r\n",
       "L 100.12892 123.119726 \r\n",
       "L 101.348815 124.568187 \r\n",
       "L 101.958762 122.826393 \r\n",
       "L 102.568709 123.532 \r\n",
       "L 103.178656 125.391819 \r\n",
       "L 103.788603 124.87705 \r\n",
       "L 105.008498 128.386861 \r\n",
       "L 105.618445 128.956814 \r\n",
       "L 106.228392 126.239685 \r\n",
       "L 106.838339 125.749924 \r\n",
       "L 107.448286 124.215195 \r\n",
       "L 108.058234 125.855843 \r\n",
       "L 108.668181 126.421367 \r\n",
       "L 109.278128 124.940519 \r\n",
       "L 109.888075 124.501404 \r\n",
       "L 110.498022 123.085638 \r\n",
       "L 111.717917 126.140582 \r\n",
       "L 112.937811 127.164209 \r\n",
       "L 113.547758 126.73023 \r\n",
       "L 114.767652 129.51 \r\n",
       "L 115.3776 127.277252 \r\n",
       "L 115.987547 128.627538 \r\n",
       "L 116.597494 129.073966 \r\n",
       "L 117.817388 128.231943 \r\n",
       "L 118.427335 126.982936 \r\n",
       "L 119.037283 127.427774 \r\n",
       "L 119.64723 128.686368 \r\n",
       "L 120.257177 129.102707 \r\n",
       "L 120.867124 127.898547 \r\n",
       "L 121.477071 129.111467 \r\n",
       "L 122.696966 129.90015 \r\n",
       "L 123.306913 128.737842 \r\n",
       "L 123.91686 129.127903 \r\n",
       "L 124.526807 125.727998 \r\n",
       "L 125.136754 125.391819 \r\n",
       "L 125.746701 125.80364 \r\n",
       "L 126.356649 124.005501 \r\n",
       "L 126.966596 123.696097 \r\n",
       "L 127.576543 122.673022 \r\n",
       "L 130.016332 124.314166 \r\n",
       "L 130.626279 125.391819 \r\n",
       "L 131.846173 126.140582 \r\n",
       "L 132.45612 125.169223 \r\n",
       "L 133.066067 125.538905 \r\n",
       "L 133.676015 126.558037 \r\n",
       "L 134.285962 125.608571 \r\n",
       "L 134.895909 125.320197 \r\n",
       "L 135.505856 123.758749 \r\n",
       "L 136.72575 123.22803 \r\n",
       "L 137.335698 124.215195 \r\n",
       "L 137.945645 123.95046 \r\n",
       "L 138.555592 124.302711 \r\n",
       "L 139.165539 125.256805 \r\n",
       "L 139.775486 124.990049 \r\n",
       "L 140.385433 125.3254 \r\n",
       "L 140.995381 125.062366 \r\n",
       "L 141.605328 125.98013 \r\n",
       "L 142.215275 125.132407 \r\n",
       "L 142.825222 125.456172 \r\n",
       "L 144.655064 123.002651 \r\n",
       "L 145.265011 123.894303 \r\n",
       "L 147.704799 125.149573 \r\n",
       "L 148.314747 124.369793 \r\n",
       "L 149.534641 123.910463 \r\n",
       "L 150.144588 123.156243 \r\n",
       "L 150.754535 123.989894 \r\n",
       "L 151.364482 123.245725 \r\n",
       "L 151.97443 123.548723 \r\n",
       "L 152.584377 122.303185 \r\n",
       "L 153.194324 122.608503 \r\n",
       "L 154.414218 121.189601 \r\n",
       "L 155.634113 120.803781 \r\n",
       "L 156.24406 120.120553 \r\n",
       "L 157.463954 120.731773 \r\n",
       "L 159.293796 123.05376 \r\n",
       "L 160.51369 122.663854 \r\n",
       "L 161.123637 122.941766 \r\n",
       "L 162.953479 122.373525 \r\n",
       "L 163.563426 122.646368 \r\n",
       "L 164.173373 122.006329 \r\n",
       "L 165.393267 122.546536 \r\n",
       "L 166.003214 123.258307 \r\n",
       "L 167.223109 122.891497 \r\n",
       "L 167.833056 122.272732 \r\n",
       "L 168.443003 122.969359 \r\n",
       "L 171.492739 124.215195 \r\n",
       "L 172.712633 125.531427 \r\n",
       "L 173.32258 124.512659 \r\n",
       "L 174.542475 124.156365 \r\n",
       "L 175.762369 125.437073 \r\n",
       "L 176.372316 125.256805 \r\n",
       "L 177.592211 125.703465 \r\n",
       "L 178.202158 125.524667 \r\n",
       "L 178.812105 124.951377 \r\n",
       "L 179.422052 124.778477 \r\n",
       "L 180.031999 124.999615 \r\n",
       "L 180.641946 124.828283 \r\n",
       "L 181.251894 124.270645 \r\n",
       "L 181.861841 124.104892 \r\n",
       "L 183.081735 123.014315 \r\n",
       "L 183.691682 123.237695 \r\n",
       "L 184.301629 122.324194 \r\n",
       "L 186.741418 121.726637 \r\n",
       "L 187.351365 121.949763 \r\n",
       "L 188.57126 120.198448 \r\n",
       "L 189.181207 120.062407 \r\n",
       "L 191.011048 120.73649 \r\n",
       "L 191.620995 120.600472 \r\n",
       "L 192.230943 120.820449 \r\n",
       "L 192.84089 118.56741 \r\n",
       "L 194.060784 119.719611 \r\n",
       "L 194.670731 119.939578 \r\n",
       "L 195.280678 119.464718 \r\n",
       "L 195.890626 119.339049 \r\n",
       "L 196.500573 119.557735 \r\n",
       "L 197.11052 120.115991 \r\n",
       "L 198.330414 119.863306 \r\n",
       "L 199.550309 120.286019 \r\n",
       "L 200.160256 120.160616 \r\n",
       "L 200.770203 119.703926 \r\n",
       "L 201.38015 119.582245 \r\n",
       "L 201.990097 120.120553 \r\n",
       "L 202.600044 120.326093 \r\n",
       "L 203.209992 119.876727 \r\n",
       "L 203.819939 120.40665 \r\n",
       "L 204.429886 119.960863 \r\n",
       "L 205.039833 120.163521 \r\n",
       "L 205.64978 120.685326 \r\n",
       "L 206.259727 120.563612 \r\n",
       "L 206.869675 120.761078 \r\n",
       "L 207.479622 120.640071 \r\n",
       "L 208.089569 120.835538 \r\n",
       "L 209.309463 120.595965 \r\n",
       "L 209.91941 119.854768 \r\n",
       "L 210.529358 119.74009 \r\n",
       "L 211.749252 120.743913 \r\n",
       "L 212.969146 119.900917 \r\n",
       "L 214.798988 120.470098 \r\n",
       "L 216.018882 120.2441 \r\n",
       "L 217.238776 120.614732 \r\n",
       "L 217.848724 121.093159 \r\n",
       "L 219.678565 120.754815 \r\n",
       "L 220.288512 119.771714 \r\n",
       "L 220.898459 119.954534 \r\n",
       "L 221.508407 119.559071 \r\n",
       "L 222.118354 119.741294 \r\n",
       "L 222.728301 118.777292 \r\n",
       "L 224.558142 119.324579 \r\n",
       "L 225.16809 118.940527 \r\n",
       "L 225.778037 118.278595 \r\n",
       "L 226.387984 118.181116 \r\n",
       "L 226.997931 117.527026 \r\n",
       "L 227.607878 117.710718 \r\n",
       "L 228.217825 117.339855 \r\n",
       "L 228.827773 117.798444 \r\n",
       "L 229.43772 117.43 \r\n",
       "L 230.047667 117.337811 \r\n",
       "L 230.657614 117.791353 \r\n",
       "L 231.267561 117.426984 \r\n",
       "L 232.487456 117.245314 \r\n",
       "L 233.70735 117.601475 \r\n",
       "L 234.317297 117.510988 \r\n",
       "L 234.927244 117.952522 \r\n",
       "L 235.537191 117.861439 \r\n",
       "L 236.147139 118.034792 \r\n",
       "L 236.757086 117.681182 \r\n",
       "L 237.97698 118.025502 \r\n",
       "L 238.586927 117.935744 \r\n",
       "L 239.196874 118.105805 \r\n",
       "L 239.806822 118.0164 \r\n",
       "L 240.416769 117.155456 \r\n",
       "L 241.026716 117.582951 \r\n",
       "L 242.24661 117.919661 \r\n",
       "L 242.856557 117.070845 \r\n",
       "L 244.076452 116.903324 \r\n",
       "L 244.686399 117.071695 \r\n",
       "L 245.296346 117.489371 \r\n",
       "L 245.906293 116.905875 \r\n",
       "L 246.51624 116.823794 \r\n",
       "L 247.736135 117.649646 \r\n",
       "L 248.346082 117.565908 \r\n",
       "L 248.956029 117.973642 \r\n",
       "L 249.565976 118.134038 \r\n",
       "L 250.175923 118.049538 \r\n",
       "L 250.785871 117.722548 \r\n",
       "L 252.005765 117.557888 \r\n",
       "L 252.615712 117.717025 \r\n",
       "L 253.835606 117.553989 \r\n",
       "L 254.445554 117.94996 \r\n",
       "L 255.055501 118.105805 \r\n",
       "L 255.665448 117.787001 \r\n",
       "L 256.275395 117.942371 \r\n",
       "L 256.885342 118.332079 \r\n",
       "L 258.105237 117.701086 \r\n",
       "L 258.715184 117.854778 \r\n",
       "L 259.325131 117.542744 \r\n",
       "L 259.935078 117.695972 \r\n",
       "L 260.545025 117.386391 \r\n",
       "L 261.154972 117.76935 \r\n",
       "L 261.76492 117.920445 \r\n",
       "L 262.374867 117.841821 \r\n",
       "L 262.984814 117.991768 \r\n",
       "L 263.594761 118.368177 \r\n",
       "L 264.204708 118.515594 \r\n",
       "L 264.814655 118.210111 \r\n",
       "L 265.424603 118.35712 \r\n",
       "L 266.03455 118.278595 \r\n",
       "L 266.644497 118.648454 \r\n",
       "L 267.864391 118.936297 \r\n",
       "L 268.474338 119.300864 \r\n",
       "L 269.694233 119.141009 \r\n",
       "L 270.30418 119.281766 \r\n",
       "L 270.914127 119.640987 \r\n",
       "L 271.524074 119.560772 \r\n",
       "L 272.743969 120.271273 \r\n",
       "L 273.353916 119.973168 \r\n",
       "L 273.963863 120.109021 \r\n",
       "L 275.183757 119.518942 \r\n",
       "L 275.793704 119.654938 \r\n",
       "L 276.403652 119.362897 \r\n",
       "L 277.013599 119.498562 \r\n",
       "L 278.233493 119.343976 \r\n",
       "L 278.84344 119.478536 \r\n",
       "L 279.453387 119.191157 \r\n",
       "L 280.063335 119.115383 \r\n",
       "L 281.283229 119.382758 \r\n",
       "L 281.893176 119.307094 \r\n",
       "L 284.332965 119.832279 \r\n",
       "L 285.552859 119.271427 \r\n",
       "L 286.162806 119.401746 \r\n",
       "L 286.772753 119.327683 \r\n",
       "L 287.382701 119.457129 \r\n",
       "L 289.212542 118.632636 \r\n",
       "L 289.822489 118.762557 \r\n",
       "L 290.432436 118.491084 \r\n",
       "L 291.042384 118.820492 \r\n",
       "L 292.262278 119.076545 \r\n",
       "L 293.482172 119.7252 \r\n",
       "L 294.092119 119.652651 \r\n",
       "L 295.921961 120.024056 \r\n",
       "L 297.141855 120.657534 \r\n",
       "L 297.751802 120.777735 \r\n",
       "L 298.36175 120.510216 \r\n",
       "L 298.971697 120.630174 \r\n",
       "L 300.191591 120.484148 \r\n",
       "L 300.801538 120.220153 \r\n",
       "L 302.021433 120.458477 \r\n",
       "L 302.63138 120.766789 \r\n",
       "L 303.241327 120.883941 \r\n",
       "L 303.851274 121.189601 \r\n",
       "L 304.461221 121.305074 \r\n",
       "L 305.071168 121.231829 \r\n",
       "L 305.681116 120.783633 \r\n",
       "L 306.291063 120.899261 \r\n",
       "L 306.90101 120.827596 \r\n",
       "L 307.510957 120.383786 \r\n",
       "L 308.120904 120.313766 \r\n",
       "L 308.730851 120.429416 \r\n",
       "L 309.340799 120.729343 \r\n",
       "L 309.950746 120.84338 \r\n",
       "L 310.560693 120.588984 \r\n",
       "L 311.17064 120.886282 \r\n",
       "L 311.780587 120.816064 \r\n",
       "L 313.000482 120.312396 \r\n",
       "L 314.220376 120.901095 \r\n",
       "L 314.830323 121.012492 \r\n",
       "L 315.44027 120.94298 \r\n",
       "L 316.050217 120.513972 \r\n",
       "L 316.660165 120.446018 \r\n",
       "L 317.270112 120.73649 \r\n",
       "L 317.880059 120.846937 \r\n",
       "L 318.490006 120.600472 \r\n",
       "L 319.099953 120.71072 \r\n",
       "L 319.7099 120.643108 \r\n",
       "L 320.319848 120.752727 \r\n",
       "L 320.929795 120.685326 \r\n",
       "L 321.539742 120.794326 \r\n",
       "L 322.759636 120.309812 \r\n",
       "L 323.369583 120.2441 \r\n",
       "L 324.589478 120.461603 \r\n",
       "L 325.199425 120.743195 \r\n",
       "L 325.809372 120.850273 \r\n",
       "L 326.419319 120.784064 \r\n",
       "L 327.029266 121.062938 \r\n",
       "L 327.639214 121.168536 \r\n",
       "L 328.859108 121.720651 \r\n",
       "L 329.469055 121.653194 \r\n",
       "L 331.298897 122.470463 \r\n",
       "L 331.908844 122.571146 \r\n",
       "L 332.518791 122.840233 \r\n",
       "L 333.738685 122.702403 \r\n",
       "L 334.348632 122.80165 \r\n",
       "L 335.568527 122.664914 \r\n",
       "L 336.788421 121.864589 \r\n",
       "L 337.398368 121.798778 \r\n",
       "L 338.008315 122.064187 \r\n",
       "L 338.618263 121.668028 \r\n",
       "L 340.448104 120.982094 \r\n",
       "L 341.058051 120.919099 \r\n",
       "L 342.277946 121.11978 \r\n",
       "L 342.887893 121.382019 \r\n",
       "L 343.49784 121.318693 \r\n",
       "L 344.107787 121.579352 \r\n",
       "L 344.717734 121.515883 \r\n",
       "L 345.327681 121.774985 \r\n",
       "L 346.547576 121.648024 \r\n",
       "L 347.76747 121.841669 \r\n",
       "L 348.377417 121.778453 \r\n",
       "L 348.987365 121.874574 \r\n",
       "L 349.597312 122.129026 \r\n",
       "L 350.207259 121.59042 \r\n",
       "L 350.817206 121.844386 \r\n",
       "L 352.0371 121.719557 \r\n",
       "L 353.256995 122.22265 \r\n",
       "L 353.866942 122.003446 \r\n",
       "L 354.476889 122.09728 \r\n",
       "L 355.086836 122.346441 \r\n",
       "L 356.306731 122.531491 \r\n",
       "L 357.526625 122.406143 \r\n",
       "L 358.136572 122.189745 \r\n",
       "L 358.746519 121.82045 \r\n",
       "L 359.356466 121.759642 \r\n",
       "L 359.966414 121.545917 \r\n",
       "L 360.576361 121.791598 \r\n",
       "L 361.796255 121.671088 \r\n",
       "L 362.406202 121.459295 \r\n",
       "L 364.236044 121.734944 \r\n",
       "L 364.845991 121.223423 \r\n",
       "L 365.455938 121.165046 \r\n",
       "L 366.675832 121.348517 \r\n",
       "L 367.28578 121.29025 \r\n",
       "L 367.895727 121.381356 \r\n",
       "L 369.725568 121.207749 \r\n",
       "L 369.725568 121.207749 \r\n",
       "\" style=\"fill:none;stroke:#8c564b;stroke-linecap:square;stroke-width:1.5;\"/>\r\n",
       "   </g>\r\n",
       "   <g id=\"line2d_20\">\r\n",
       "    <path clip-path=\"url(#pf2962341e9)\" d=\"M 50.14375 116.908369 \r\n",
       "L 384.94375 116.908369 \r\n",
       "\" style=\"fill:none;stroke:#000000;stroke-dasharray:5.55,2.4;stroke-dashoffset:0;stroke-width:1.5;\"/>\r\n",
       "   </g>\r\n",
       "   <g id=\"patch_3\">\r\n",
       "    <path d=\"M 50.14375 251.82 \r\n",
       "L 50.14375 7.2 \r\n",
       "\" style=\"fill:none;stroke:#000000;stroke-linecap:square;stroke-linejoin:miter;stroke-width:0.8;\"/>\r\n",
       "   </g>\r\n",
       "   <g id=\"patch_4\">\r\n",
       "    <path d=\"M 384.94375 251.82 \r\n",
       "L 384.94375 7.2 \r\n",
       "\" style=\"fill:none;stroke:#000000;stroke-linecap:square;stroke-linejoin:miter;stroke-width:0.8;\"/>\r\n",
       "   </g>\r\n",
       "   <g id=\"patch_5\">\r\n",
       "    <path d=\"M 50.14375 251.82 \r\n",
       "L 384.94375 251.82 \r\n",
       "\" style=\"fill:none;stroke:#000000;stroke-linecap:square;stroke-linejoin:miter;stroke-width:0.8;\"/>\r\n",
       "   </g>\r\n",
       "   <g id=\"patch_6\">\r\n",
       "    <path d=\"M 50.14375 7.2 \r\n",
       "L 384.94375 7.2 \r\n",
       "\" style=\"fill:none;stroke:#000000;stroke-linecap:square;stroke-linejoin:miter;stroke-width:0.8;\"/>\r\n",
       "   </g>\r\n",
       "   <g id=\"legend_1\">\r\n",
       "    <g id=\"patch_7\">\r\n",
       "     <path d=\"M 302.089063 103.26875 \r\n",
       "L 377.94375 103.26875 \r\n",
       "Q 379.94375 103.26875 379.94375 101.26875 \r\n",
       "L 379.94375 14.2 \r\n",
       "Q 379.94375 12.2 377.94375 12.2 \r\n",
       "L 302.089063 12.2 \r\n",
       "Q 300.089063 12.2 300.089063 14.2 \r\n",
       "L 300.089063 101.26875 \r\n",
       "Q 300.089063 103.26875 302.089063 103.26875 \r\n",
       "z\r\n",
       "\" style=\"fill:#ffffff;opacity:0.8;stroke:#cccccc;stroke-linejoin:miter;\"/>\r\n",
       "    </g>\r\n",
       "    <g id=\"line2d_21\">\r\n",
       "     <path d=\"M 304.089063 20.298437 \r\n",
       "L 324.089063 20.298437 \r\n",
       "\" style=\"fill:none;stroke:#1f77b4;stroke-linecap:square;stroke-width:1.5;\"/>\r\n",
       "    </g>\r\n",
       "    <g id=\"line2d_22\"/>\r\n",
       "    <g id=\"text_16\">\r\n",
       "     <!-- P(die=1) -->\r\n",
       "     <defs>\r\n",
       "      <path d=\"M 19.671875 64.796875 \r\n",
       "L 19.671875 37.40625 \r\n",
       "L 32.078125 37.40625 \r\n",
       "Q 38.96875 37.40625 42.71875 40.96875 \r\n",
       "Q 46.484375 44.53125 46.484375 51.125 \r\n",
       "Q 46.484375 57.671875 42.71875 61.234375 \r\n",
       "Q 38.96875 64.796875 32.078125 64.796875 \r\n",
       "z\r\n",
       "M 9.8125 72.90625 \r\n",
       "L 32.078125 72.90625 \r\n",
       "Q 44.34375 72.90625 50.609375 67.359375 \r\n",
       "Q 56.890625 61.8125 56.890625 51.125 \r\n",
       "Q 56.890625 40.328125 50.609375 34.8125 \r\n",
       "Q 44.34375 29.296875 32.078125 29.296875 \r\n",
       "L 19.671875 29.296875 \r\n",
       "L 19.671875 0 \r\n",
       "L 9.8125 0 \r\n",
       "z\r\n",
       "\" id=\"DejaVuSans-80\"/>\r\n",
       "      <path d=\"M 31 75.875 \r\n",
       "Q 24.46875 64.65625 21.28125 53.65625 \r\n",
       "Q 18.109375 42.671875 18.109375 31.390625 \r\n",
       "Q 18.109375 20.125 21.3125 9.0625 \r\n",
       "Q 24.515625 -2 31 -13.1875 \r\n",
       "L 23.1875 -13.1875 \r\n",
       "Q 15.875 -1.703125 12.234375 9.375 \r\n",
       "Q 8.59375 20.453125 8.59375 31.390625 \r\n",
       "Q 8.59375 42.28125 12.203125 53.3125 \r\n",
       "Q 15.828125 64.359375 23.1875 75.875 \r\n",
       "z\r\n",
       "\" id=\"DejaVuSans-40\"/>\r\n",
       "      <path d=\"M 10.59375 45.40625 \r\n",
       "L 73.1875 45.40625 \r\n",
       "L 73.1875 37.203125 \r\n",
       "L 10.59375 37.203125 \r\n",
       "z\r\n",
       "M 10.59375 25.484375 \r\n",
       "L 73.1875 25.484375 \r\n",
       "L 73.1875 17.1875 \r\n",
       "L 10.59375 17.1875 \r\n",
       "z\r\n",
       "\" id=\"DejaVuSans-61\"/>\r\n",
       "      <path d=\"M 8.015625 75.875 \r\n",
       "L 15.828125 75.875 \r\n",
       "Q 23.140625 64.359375 26.78125 53.3125 \r\n",
       "Q 30.421875 42.28125 30.421875 31.390625 \r\n",
       "Q 30.421875 20.453125 26.78125 9.375 \r\n",
       "Q 23.140625 -1.703125 15.828125 -13.1875 \r\n",
       "L 8.015625 -13.1875 \r\n",
       "Q 14.5 -2 17.703125 9.0625 \r\n",
       "Q 20.90625 20.125 20.90625 31.390625 \r\n",
       "Q 20.90625 42.671875 17.703125 53.65625 \r\n",
       "Q 14.5 64.65625 8.015625 75.875 \r\n",
       "z\r\n",
       "\" id=\"DejaVuSans-41\"/>\r\n",
       "     </defs>\r\n",
       "     <g transform=\"translate(332.089063 23.798437)scale(0.1 -0.1)\">\r\n",
       "      <use xlink:href=\"#DejaVuSans-80\"/>\r\n",
       "      <use x=\"60.302734\" xlink:href=\"#DejaVuSans-40\"/>\r\n",
       "      <use x=\"99.316406\" xlink:href=\"#DejaVuSans-100\"/>\r\n",
       "      <use x=\"162.792969\" xlink:href=\"#DejaVuSans-105\"/>\r\n",
       "      <use x=\"190.576172\" xlink:href=\"#DejaVuSans-101\"/>\r\n",
       "      <use x=\"252.099609\" xlink:href=\"#DejaVuSans-61\"/>\r\n",
       "      <use x=\"335.888672\" xlink:href=\"#DejaVuSans-49\"/>\r\n",
       "      <use x=\"399.511719\" xlink:href=\"#DejaVuSans-41\"/>\r\n",
       "     </g>\r\n",
       "    </g>\r\n",
       "    <g id=\"line2d_23\">\r\n",
       "     <path d=\"M 304.089063 34.976562 \r\n",
       "L 324.089063 34.976562 \r\n",
       "\" style=\"fill:none;stroke:#ff7f0e;stroke-linecap:square;stroke-width:1.5;\"/>\r\n",
       "    </g>\r\n",
       "    <g id=\"line2d_24\"/>\r\n",
       "    <g id=\"text_17\">\r\n",
       "     <!-- P(die=2) -->\r\n",
       "     <g transform=\"translate(332.089063 38.476562)scale(0.1 -0.1)\">\r\n",
       "      <use xlink:href=\"#DejaVuSans-80\"/>\r\n",
       "      <use x=\"60.302734\" xlink:href=\"#DejaVuSans-40\"/>\r\n",
       "      <use x=\"99.316406\" xlink:href=\"#DejaVuSans-100\"/>\r\n",
       "      <use x=\"162.792969\" xlink:href=\"#DejaVuSans-105\"/>\r\n",
       "      <use x=\"190.576172\" xlink:href=\"#DejaVuSans-101\"/>\r\n",
       "      <use x=\"252.099609\" xlink:href=\"#DejaVuSans-61\"/>\r\n",
       "      <use x=\"335.888672\" xlink:href=\"#DejaVuSans-50\"/>\r\n",
       "      <use x=\"399.511719\" xlink:href=\"#DejaVuSans-41\"/>\r\n",
       "     </g>\r\n",
       "    </g>\r\n",
       "    <g id=\"line2d_25\">\r\n",
       "     <path d=\"M 304.089063 49.654687 \r\n",
       "L 324.089063 49.654687 \r\n",
       "\" style=\"fill:none;stroke:#2ca02c;stroke-linecap:square;stroke-width:1.5;\"/>\r\n",
       "    </g>\r\n",
       "    <g id=\"line2d_26\"/>\r\n",
       "    <g id=\"text_18\">\r\n",
       "     <!-- P(die=3) -->\r\n",
       "     <g transform=\"translate(332.089063 53.154687)scale(0.1 -0.1)\">\r\n",
       "      <use xlink:href=\"#DejaVuSans-80\"/>\r\n",
       "      <use x=\"60.302734\" xlink:href=\"#DejaVuSans-40\"/>\r\n",
       "      <use x=\"99.316406\" xlink:href=\"#DejaVuSans-100\"/>\r\n",
       "      <use x=\"162.792969\" xlink:href=\"#DejaVuSans-105\"/>\r\n",
       "      <use x=\"190.576172\" xlink:href=\"#DejaVuSans-101\"/>\r\n",
       "      <use x=\"252.099609\" xlink:href=\"#DejaVuSans-61\"/>\r\n",
       "      <use x=\"335.888672\" xlink:href=\"#DejaVuSans-51\"/>\r\n",
       "      <use x=\"399.511719\" xlink:href=\"#DejaVuSans-41\"/>\r\n",
       "     </g>\r\n",
       "    </g>\r\n",
       "    <g id=\"line2d_27\">\r\n",
       "     <path d=\"M 304.089063 64.332812 \r\n",
       "L 324.089063 64.332812 \r\n",
       "\" style=\"fill:none;stroke:#d62728;stroke-linecap:square;stroke-width:1.5;\"/>\r\n",
       "    </g>\r\n",
       "    <g id=\"line2d_28\"/>\r\n",
       "    <g id=\"text_19\">\r\n",
       "     <!-- P(die=4) -->\r\n",
       "     <g transform=\"translate(332.089063 67.832812)scale(0.1 -0.1)\">\r\n",
       "      <use xlink:href=\"#DejaVuSans-80\"/>\r\n",
       "      <use x=\"60.302734\" xlink:href=\"#DejaVuSans-40\"/>\r\n",
       "      <use x=\"99.316406\" xlink:href=\"#DejaVuSans-100\"/>\r\n",
       "      <use x=\"162.792969\" xlink:href=\"#DejaVuSans-105\"/>\r\n",
       "      <use x=\"190.576172\" xlink:href=\"#DejaVuSans-101\"/>\r\n",
       "      <use x=\"252.099609\" xlink:href=\"#DejaVuSans-61\"/>\r\n",
       "      <use x=\"335.888672\" xlink:href=\"#DejaVuSans-52\"/>\r\n",
       "      <use x=\"399.511719\" xlink:href=\"#DejaVuSans-41\"/>\r\n",
       "     </g>\r\n",
       "    </g>\r\n",
       "    <g id=\"line2d_29\">\r\n",
       "     <path d=\"M 304.089063 79.010937 \r\n",
       "L 324.089063 79.010937 \r\n",
       "\" style=\"fill:none;stroke:#9467bd;stroke-linecap:square;stroke-width:1.5;\"/>\r\n",
       "    </g>\r\n",
       "    <g id=\"line2d_30\"/>\r\n",
       "    <g id=\"text_20\">\r\n",
       "     <!-- P(die=5) -->\r\n",
       "     <g transform=\"translate(332.089063 82.510937)scale(0.1 -0.1)\">\r\n",
       "      <use xlink:href=\"#DejaVuSans-80\"/>\r\n",
       "      <use x=\"60.302734\" xlink:href=\"#DejaVuSans-40\"/>\r\n",
       "      <use x=\"99.316406\" xlink:href=\"#DejaVuSans-100\"/>\r\n",
       "      <use x=\"162.792969\" xlink:href=\"#DejaVuSans-105\"/>\r\n",
       "      <use x=\"190.576172\" xlink:href=\"#DejaVuSans-101\"/>\r\n",
       "      <use x=\"252.099609\" xlink:href=\"#DejaVuSans-61\"/>\r\n",
       "      <use x=\"335.888672\" xlink:href=\"#DejaVuSans-53\"/>\r\n",
       "      <use x=\"399.511719\" xlink:href=\"#DejaVuSans-41\"/>\r\n",
       "     </g>\r\n",
       "    </g>\r\n",
       "    <g id=\"line2d_31\">\r\n",
       "     <path d=\"M 304.089063 93.689062 \r\n",
       "L 324.089063 93.689062 \r\n",
       "\" style=\"fill:none;stroke:#8c564b;stroke-linecap:square;stroke-width:1.5;\"/>\r\n",
       "    </g>\r\n",
       "    <g id=\"line2d_32\"/>\r\n",
       "    <g id=\"text_21\">\r\n",
       "     <!-- P(die=6) -->\r\n",
       "     <defs>\r\n",
       "      <path d=\"M 33.015625 40.375 \r\n",
       "Q 26.375 40.375 22.484375 35.828125 \r\n",
       "Q 18.609375 31.296875 18.609375 23.390625 \r\n",
       "Q 18.609375 15.53125 22.484375 10.953125 \r\n",
       "Q 26.375 6.390625 33.015625 6.390625 \r\n",
       "Q 39.65625 6.390625 43.53125 10.953125 \r\n",
       "Q 47.40625 15.53125 47.40625 23.390625 \r\n",
       "Q 47.40625 31.296875 43.53125 35.828125 \r\n",
       "Q 39.65625 40.375 33.015625 40.375 \r\n",
       "z\r\n",
       "M 52.59375 71.296875 \r\n",
       "L 52.59375 62.3125 \r\n",
       "Q 48.875 64.0625 45.09375 64.984375 \r\n",
       "Q 41.3125 65.921875 37.59375 65.921875 \r\n",
       "Q 27.828125 65.921875 22.671875 59.328125 \r\n",
       "Q 17.53125 52.734375 16.796875 39.40625 \r\n",
       "Q 19.671875 43.65625 24.015625 45.921875 \r\n",
       "Q 28.375 48.1875 33.59375 48.1875 \r\n",
       "Q 44.578125 48.1875 50.953125 41.515625 \r\n",
       "Q 57.328125 34.859375 57.328125 23.390625 \r\n",
       "Q 57.328125 12.15625 50.6875 5.359375 \r\n",
       "Q 44.046875 -1.421875 33.015625 -1.421875 \r\n",
       "Q 20.359375 -1.421875 13.671875 8.265625 \r\n",
       "Q 6.984375 17.96875 6.984375 36.375 \r\n",
       "Q 6.984375 53.65625 15.1875 63.9375 \r\n",
       "Q 23.390625 74.21875 37.203125 74.21875 \r\n",
       "Q 40.921875 74.21875 44.703125 73.484375 \r\n",
       "Q 48.484375 72.75 52.59375 71.296875 \r\n",
       "z\r\n",
       "\" id=\"DejaVuSans-54\"/>\r\n",
       "     </defs>\r\n",
       "     <g transform=\"translate(332.089063 97.189062)scale(0.1 -0.1)\">\r\n",
       "      <use xlink:href=\"#DejaVuSans-80\"/>\r\n",
       "      <use x=\"60.302734\" xlink:href=\"#DejaVuSans-40\"/>\r\n",
       "      <use x=\"99.316406\" xlink:href=\"#DejaVuSans-100\"/>\r\n",
       "      <use x=\"162.792969\" xlink:href=\"#DejaVuSans-105\"/>\r\n",
       "      <use x=\"190.576172\" xlink:href=\"#DejaVuSans-101\"/>\r\n",
       "      <use x=\"252.099609\" xlink:href=\"#DejaVuSans-61\"/>\r\n",
       "      <use x=\"335.888672\" xlink:href=\"#DejaVuSans-54\"/>\r\n",
       "      <use x=\"399.511719\" xlink:href=\"#DejaVuSans-41\"/>\r\n",
       "     </g>\r\n",
       "    </g>\r\n",
       "   </g>\r\n",
       "  </g>\r\n",
       " </g>\r\n",
       " <defs>\r\n",
       "  <clipPath id=\"pf2962341e9\">\r\n",
       "   <rect height=\"244.62\" width=\"334.8\" x=\"50.14375\" y=\"7.2\"/>\r\n",
       "  </clipPath>\r\n",
       " </defs>\r\n",
       "</svg>\r\n"
      ],
      "text/plain": [
       "<Figure size 432x324 with 1 Axes>"
      ]
     },
     "metadata": {
      "needs_background": "light"
     },
     "output_type": "display_data"
    }
   ],
   "source": [
    "%time counts = multinomial.Multinomial(10, fair_probs).sample((500,))\n",
    "cum_counts = counts.cumsum(dim=0)\n",
    "estimates = cum_counts / cum_counts.sum(dim=1, keepdims=True)\n",
    "\n",
    "d2l.set_figsize((6, 4.5))\n",
    "for i in range(6):\n",
    "    d2l.plt.plot(estimates[:, i].numpy(), label=(\"P(die=\" + str(i + 1) + \")\"))\n",
    "d2l.plt.axhline(y=0.167, color='black', linestyle='dashed')\n",
    "d2l.plt.gca().set_xlabel('Groups of experiments')\n",
    "d2l.plt.gca().set_ylabel('Estimated probability')\n",
    "d2l.plt.legend();"
   ]
  },
  {
   "cell_type": "markdown",
   "metadata": {},
   "source": [
    "## 2.7 Documentation"
   ]
  },
  {
   "cell_type": "code",
   "execution_count": 91,
   "metadata": {},
   "outputs": [
    {
     "name": "stdout",
     "output_type": "stream",
     "text": [
      "['AbsTransform', 'AffineTransform', 'Bernoulli', 'Beta', 'Binomial', 'CatTransform', 'Categorical', 'Cauchy', 'Chi2', 'ComposeTransform', 'ContinuousBernoulli', 'Dirichlet', 'Distribution', 'ExpTransform', 'Exponential', 'ExponentialFamily', 'FisherSnedecor', 'Gamma', 'Geometric', 'Gumbel', 'HalfCauchy', 'HalfNormal', 'Independent', 'Laplace', 'LogNormal', 'LogisticNormal', 'LowRankMultivariateNormal', 'LowerCholeskyTransform', 'MixtureSameFamily', 'Multinomial', 'MultivariateNormal', 'NegativeBinomial', 'Normal', 'OneHotCategorical', 'Pareto', 'Poisson', 'PowerTransform', 'RelaxedBernoulli', 'RelaxedOneHotCategorical', 'SigmoidTransform', 'SoftmaxTransform', 'StackTransform', 'StickBreakingTransform', 'StudentT', 'TanhTransform', 'Transform', 'TransformedDistribution', 'Uniform', 'VonMises', 'Weibull', '__all__', '__builtins__', '__cached__', '__doc__', '__file__', '__loader__', '__name__', '__package__', '__path__', '__spec__', 'bernoulli', 'beta', 'biject_to', 'binomial', 'categorical', 'cauchy', 'chi2', 'constraint_registry', 'constraints', 'continuous_bernoulli', 'dirichlet', 'distribution', 'exp_family', 'exponential', 'fishersnedecor', 'gamma', 'geometric', 'gumbel', 'half_cauchy', 'half_normal', 'identity_transform', 'independent', 'kl', 'kl_divergence', 'laplace', 'log_normal', 'logistic_normal', 'lowrank_multivariate_normal', 'mixture_same_family', 'multinomial', 'multivariate_normal', 'negative_binomial', 'normal', 'one_hot_categorical', 'pareto', 'poisson', 'register_kl', 'relaxed_bernoulli', 'relaxed_categorical', 'studentT', 'transform_to', 'transformed_distribution', 'transforms', 'uniform', 'utils', 'von_mises', 'weibull']\n"
     ]
    }
   ],
   "source": [
    "print(dir(torch.distributions))"
   ]
  },
  {
   "cell_type": "code",
   "execution_count": 92,
   "metadata": {},
   "outputs": [
    {
     "name": "stdout",
     "output_type": "stream",
     "text": [
      "Help on built-in function ones:\n",
      "\n",
      "ones(...)\n",
      "    ones(*size, *, out=None, dtype=None, layout=torch.strided, device=None, requires_grad=False) -> Tensor\n",
      "    \n",
      "    Returns a tensor filled with the scalar value `1`, with the shape defined\n",
      "    by the variable argument :attr:`size`.\n",
      "    \n",
      "    Args:\n",
      "        size (int...): a sequence of integers defining the shape of the output tensor.\n",
      "            Can be a variable number of arguments or a collection like a list or tuple.\n",
      "        out (Tensor, optional): the output tensor.\n",
      "        dtype (:class:`torch.dtype`, optional): the desired data type of returned tensor.\n",
      "            Default: if ``None``, uses a global default (see :func:`torch.set_default_tensor_type`).\n",
      "        layout (:class:`torch.layout`, optional): the desired layout of returned Tensor.\n",
      "            Default: ``torch.strided``.\n",
      "        device (:class:`torch.device`, optional): the desired device of returned tensor.\n",
      "            Default: if ``None``, uses the current device for the default tensor type\n",
      "            (see :func:`torch.set_default_tensor_type`). :attr:`device` will be the CPU\n",
      "            for CPU tensor types and the current CUDA device for CUDA tensor types.\n",
      "        requires_grad (bool, optional): If autograd should record operations on the\n",
      "            returned tensor. Default: ``False``.\n",
      "    \n",
      "    Example::\n",
      "    \n",
      "        >>> torch.ones(2, 3)\n",
      "        tensor([[ 1.,  1.,  1.],\n",
      "                [ 1.,  1.,  1.]])\n",
      "    \n",
      "        >>> torch.ones(5)\n",
      "        tensor([ 1.,  1.,  1.,  1.,  1.])\n",
      "\n"
     ]
    }
   ],
   "source": [
    "help(torch.ones)"
   ]
  },
  {
   "cell_type": "code",
   "execution_count": 93,
   "metadata": {},
   "outputs": [
    {
     "data": {
      "text/plain": [
       "tensor([1., 1., 1., 1.])"
      ]
     },
     "execution_count": 93,
     "metadata": {},
     "output_type": "execute_result"
    }
   ],
   "source": [
    "torch.ones(4)"
   ]
  }
 ],
 "metadata": {
  "kernelspec": {
   "display_name": "Python 3",
   "language": "python",
   "name": "python3"
  },
  "language_info": {
   "codemirror_mode": {
    "name": "ipython",
    "version": 3
   },
   "file_extension": ".py",
   "mimetype": "text/x-python",
   "name": "python",
   "nbconvert_exporter": "python",
   "pygments_lexer": "ipython3",
   "version": "3.8.3"
  }
 },
 "nbformat": 4,
 "nbformat_minor": 4
}
